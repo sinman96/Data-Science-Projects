{
  "nbformat": 4,
  "nbformat_minor": 0,
  "metadata": {
    "colab": {
      "provenance": []
    },
    "kernelspec": {
      "name": "python3",
      "display_name": "Python 3"
    }
  },
  "cells": [
    {
      "cell_type": "markdown",
      "metadata": {
        "id": "3DR-eO17geWu"
      },
      "source": [
        "# Convolutional Neural Network"
      ]
    },
    {
      "cell_type": "markdown",
      "metadata": {
        "id": "EMefrVPCg-60"
      },
      "source": [
        "### Importing the libraries"
      ]
    },
    {
      "cell_type": "code",
      "metadata": {
        "id": "sCV30xyVhFbE"
      },
      "source": [
        "import tensorflow as tf\n",
        "from keras.preprocessing.image import ImageDataGenerator"
      ],
      "execution_count": 40,
      "outputs": []
    },
    {
      "cell_type": "code",
      "metadata": {
        "id": "FIleuCAjoFD8",
        "colab": {
          "base_uri": "https://localhost:8080/",
          "height": 35
        },
        "outputId": "29818d15-70cf-47f2-cb99-03acca151a25"
      },
      "source": [
        "tf.__version__"
      ],
      "execution_count": 41,
      "outputs": [
        {
          "output_type": "execute_result",
          "data": {
            "text/plain": [
              "'2.9.2'"
            ],
            "application/vnd.google.colaboratory.intrinsic+json": {
              "type": "string"
            }
          },
          "metadata": {},
          "execution_count": 41
        }
      ]
    },
    {
      "cell_type": "code",
      "source": [
        "from google.colab import drive\n",
        "drive.mount('/content/drive')"
      ],
      "metadata": {
        "colab": {
          "base_uri": "https://localhost:8080/"
        },
        "id": "hyrGNHBSsfSr",
        "outputId": "9d6be2ba-a3ec-476f-dddc-a3febd30d12d"
      },
      "execution_count": 42,
      "outputs": [
        {
          "output_type": "stream",
          "name": "stdout",
          "text": [
            "Drive already mounted at /content/drive; to attempt to forcibly remount, call drive.mount(\"/content/drive\", force_remount=True).\n"
          ]
        }
      ]
    },
    {
      "cell_type": "markdown",
      "metadata": {
        "id": "oxQxCBWyoGPE"
      },
      "source": [
        "## Part 1 - Data Preprocessing"
      ]
    },
    {
      "cell_type": "markdown",
      "metadata": {
        "id": "MvE-heJNo3GG"
      },
      "source": [
        "### Preprocessing the Training set"
      ]
    },
    {
      "cell_type": "code",
      "metadata": {
        "id": "0koUcJMJpEBD",
        "colab": {
          "base_uri": "https://localhost:8080/"
        },
        "outputId": "34aa8fba-746e-450a-fd4d-62f7088d6902"
      },
      "source": [
        "train_datagen = ImageDataGenerator(rescale = 1./255,\n",
        "                                   shear_range = 0.2,\n",
        "                                   zoom_range = 0.2,\n",
        "                                   horizontal_flip = True)\n",
        "training_set = train_datagen.flow_from_directory('/content/drive/My Drive/brain_tumour_image_dataset/training_set',\n",
        "                                                 target_size = (64, 64),\n",
        "                                                 batch_size = 32,\n",
        "                                                 class_mode = 'binary')"
      ],
      "execution_count": 43,
      "outputs": [
        {
          "output_type": "stream",
          "name": "stdout",
          "text": [
            "Found 203 images belonging to 2 classes.\n"
          ]
        }
      ]
    },
    {
      "cell_type": "markdown",
      "metadata": {
        "id": "mrCMmGw9pHys"
      },
      "source": [
        "### Preprocessing the Test set"
      ]
    },
    {
      "cell_type": "code",
      "metadata": {
        "id": "SH4WzfOhpKc3",
        "colab": {
          "base_uri": "https://localhost:8080/"
        },
        "outputId": "a999cfa6-6cc3-441c-ffd6-944672229d32"
      },
      "source": [
        "test_datagen = ImageDataGenerator(rescale = 1./255)\n",
        "test_set = test_datagen.flow_from_directory('/content/drive/My Drive/brain_tumour_image_dataset/test_set',\n",
        "                                            target_size = (64, 64),\n",
        "                                            batch_size = 32,\n",
        "                                            class_mode = 'binary')"
      ],
      "execution_count": 44,
      "outputs": [
        {
          "output_type": "stream",
          "name": "stdout",
          "text": [
            "Found 50 images belonging to 2 classes.\n"
          ]
        }
      ]
    },
    {
      "cell_type": "markdown",
      "metadata": {
        "id": "af8O4l90gk7B"
      },
      "source": [
        "## Part 2 - Building the CNN"
      ]
    },
    {
      "cell_type": "markdown",
      "metadata": {
        "id": "ces1gXY2lmoX"
      },
      "source": [
        "### Initialising the CNN"
      ]
    },
    {
      "cell_type": "code",
      "metadata": {
        "id": "SAUt4UMPlhLS"
      },
      "source": [
        "cnn = tf.keras.models.Sequential()"
      ],
      "execution_count": 45,
      "outputs": []
    },
    {
      "cell_type": "markdown",
      "metadata": {
        "id": "u5YJj_XMl5LF"
      },
      "source": [
        "### Step 1 - Convolution"
      ]
    },
    {
      "cell_type": "code",
      "metadata": {
        "id": "XPzPrMckl-hV"
      },
      "source": [
        "cnn.add(tf.keras.layers.Conv2D(filters=32, kernel_size=3, activation='relu', input_shape=[64, 64, 3]))"
      ],
      "execution_count": 46,
      "outputs": []
    },
    {
      "cell_type": "markdown",
      "metadata": {
        "id": "tf87FpvxmNOJ"
      },
      "source": [
        "### Step 2 - Pooling"
      ]
    },
    {
      "cell_type": "code",
      "metadata": {
        "id": "ncpqPl69mOac"
      },
      "source": [
        "cnn.add(tf.keras.layers.MaxPool2D(pool_size=2, strides=2))"
      ],
      "execution_count": 47,
      "outputs": []
    },
    {
      "cell_type": "markdown",
      "metadata": {
        "id": "xaTOgD8rm4mU"
      },
      "source": [
        "### Adding a second convolutional layer"
      ]
    },
    {
      "cell_type": "code",
      "metadata": {
        "id": "i_-FZjn_m8gk"
      },
      "source": [
        "cnn.add(tf.keras.layers.Conv2D(filters=32, kernel_size=3, activation='relu'))\n",
        "cnn.add(tf.keras.layers.MaxPool2D(pool_size=2, strides=2))"
      ],
      "execution_count": 48,
      "outputs": []
    },
    {
      "cell_type": "markdown",
      "metadata": {
        "id": "tmiEuvTunKfk"
      },
      "source": [
        "### Step 3 - Flattening"
      ]
    },
    {
      "cell_type": "code",
      "metadata": {
        "id": "6AZeOGCvnNZn"
      },
      "source": [
        "cnn.add(tf.keras.layers.Flatten())"
      ],
      "execution_count": 49,
      "outputs": []
    },
    {
      "cell_type": "markdown",
      "metadata": {
        "id": "dAoSECOm203v"
      },
      "source": [
        "### Step 4 - Full Connection"
      ]
    },
    {
      "cell_type": "code",
      "metadata": {
        "id": "8GtmUlLd26Nq"
      },
      "source": [
        "cnn.add(tf.keras.layers.Dense(units=128, activation='relu'))"
      ],
      "execution_count": 50,
      "outputs": []
    },
    {
      "cell_type": "markdown",
      "metadata": {
        "id": "yTldFvbX28Na"
      },
      "source": [
        "### Step 5 - Output Layer"
      ]
    },
    {
      "cell_type": "code",
      "metadata": {
        "id": "1p_Zj1Mc3Ko_"
      },
      "source": [
        "cnn.add(tf.keras.layers.Dense(units=1, activation='sigmoid'))"
      ],
      "execution_count": 51,
      "outputs": []
    },
    {
      "cell_type": "markdown",
      "metadata": {
        "id": "D6XkI90snSDl"
      },
      "source": [
        "## Part 3 - Training the CNN"
      ]
    },
    {
      "cell_type": "markdown",
      "metadata": {
        "id": "vfrFQACEnc6i"
      },
      "source": [
        "### Compiling the CNN"
      ]
    },
    {
      "cell_type": "code",
      "metadata": {
        "id": "NALksrNQpUlJ"
      },
      "source": [
        "cnn.compile(optimizer = 'adam', loss = 'binary_crossentropy', metrics = ['accuracy'])"
      ],
      "execution_count": 52,
      "outputs": []
    },
    {
      "cell_type": "markdown",
      "metadata": {
        "id": "ehS-v3MIpX2h"
      },
      "source": [
        "### Training the CNN on the Training set and evaluating it on the Test set"
      ]
    },
    {
      "cell_type": "code",
      "metadata": {
        "id": "XUj1W4PJptta",
        "colab": {
          "base_uri": "https://localhost:8080/"
        },
        "outputId": "32425ebe-536f-4cee-ffeb-bfbc97626a9a"
      },
      "source": [
        "cnn.fit(x = training_set, validation_data = test_set, epochs = 25)"
      ],
      "execution_count": 65,
      "outputs": [
        {
          "output_type": "stream",
          "name": "stdout",
          "text": [
            "Epoch 1/25\n",
            "7/7 [==============================] - 3s 356ms/step - loss: 0.0977 - accuracy: 0.9655 - val_loss: 1.0849 - val_accuracy: 0.7800\n",
            "Epoch 2/25\n",
            "7/7 [==============================] - 2s 341ms/step - loss: 0.0853 - accuracy: 0.9704 - val_loss: 1.0982 - val_accuracy: 0.7800\n",
            "Epoch 3/25\n",
            "7/7 [==============================] - 2s 328ms/step - loss: 0.0690 - accuracy: 0.9606 - val_loss: 1.1095 - val_accuracy: 0.7800\n",
            "Epoch 4/25\n",
            "7/7 [==============================] - 2s 364ms/step - loss: 0.0756 - accuracy: 0.9852 - val_loss: 1.0923 - val_accuracy: 0.7800\n",
            "Epoch 5/25\n",
            "7/7 [==============================] - 2s 319ms/step - loss: 0.1124 - accuracy: 0.9458 - val_loss: 1.0850 - val_accuracy: 0.7800\n",
            "Epoch 6/25\n",
            "7/7 [==============================] - 2s 326ms/step - loss: 0.1827 - accuracy: 0.9458 - val_loss: 0.9523 - val_accuracy: 0.8200\n",
            "Epoch 7/25\n",
            "7/7 [==============================] - 2s 317ms/step - loss: 0.1297 - accuracy: 0.9557 - val_loss: 0.9276 - val_accuracy: 0.8200\n",
            "Epoch 8/25\n",
            "7/7 [==============================] - 2s 321ms/step - loss: 0.0923 - accuracy: 0.9704 - val_loss: 0.9961 - val_accuracy: 0.7800\n",
            "Epoch 9/25\n",
            "7/7 [==============================] - 2s 360ms/step - loss: 0.0818 - accuracy: 0.9655 - val_loss: 1.0087 - val_accuracy: 0.8000\n",
            "Epoch 10/25\n",
            "7/7 [==============================] - 2s 331ms/step - loss: 0.1047 - accuracy: 0.9704 - val_loss: 0.9692 - val_accuracy: 0.7800\n",
            "Epoch 11/25\n",
            "7/7 [==============================] - 2s 324ms/step - loss: 0.0760 - accuracy: 0.9852 - val_loss: 1.0164 - val_accuracy: 0.7800\n",
            "Epoch 12/25\n",
            "7/7 [==============================] - 2s 320ms/step - loss: 0.0692 - accuracy: 0.9803 - val_loss: 1.1998 - val_accuracy: 0.7800\n",
            "Epoch 13/25\n",
            "7/7 [==============================] - 3s 393ms/step - loss: 0.0955 - accuracy: 0.9557 - val_loss: 0.9629 - val_accuracy: 0.8000\n",
            "Epoch 14/25\n",
            "7/7 [==============================] - 2s 318ms/step - loss: 0.1033 - accuracy: 0.9655 - val_loss: 1.1045 - val_accuracy: 0.8000\n",
            "Epoch 15/25\n",
            "7/7 [==============================] - 3s 450ms/step - loss: 0.0802 - accuracy: 0.9655 - val_loss: 1.0695 - val_accuracy: 0.8200\n",
            "Epoch 16/25\n",
            "7/7 [==============================] - 2s 318ms/step - loss: 0.1008 - accuracy: 0.9754 - val_loss: 0.9787 - val_accuracy: 0.8400\n",
            "Epoch 17/25\n",
            "7/7 [==============================] - 2s 317ms/step - loss: 0.0755 - accuracy: 0.9704 - val_loss: 1.0203 - val_accuracy: 0.8200\n",
            "Epoch 18/25\n",
            "7/7 [==============================] - 2s 323ms/step - loss: 0.0774 - accuracy: 0.9852 - val_loss: 0.8470 - val_accuracy: 0.8000\n",
            "Epoch 19/25\n",
            "7/7 [==============================] - 2s 318ms/step - loss: 0.0533 - accuracy: 0.9803 - val_loss: 0.8461 - val_accuracy: 0.8200\n",
            "Epoch 20/25\n",
            "7/7 [==============================] - 3s 389ms/step - loss: 0.0971 - accuracy: 0.9803 - val_loss: 0.8905 - val_accuracy: 0.8200\n",
            "Epoch 21/25\n",
            "7/7 [==============================] - 2s 321ms/step - loss: 0.0424 - accuracy: 0.9901 - val_loss: 0.9970 - val_accuracy: 0.8200\n",
            "Epoch 22/25\n",
            "7/7 [==============================] - 2s 321ms/step - loss: 0.0473 - accuracy: 0.9803 - val_loss: 1.3168 - val_accuracy: 0.7800\n",
            "Epoch 23/25\n",
            "7/7 [==============================] - 2s 322ms/step - loss: 0.0401 - accuracy: 0.9901 - val_loss: 1.1864 - val_accuracy: 0.7800\n",
            "Epoch 24/25\n",
            "7/7 [==============================] - 2s 315ms/step - loss: 0.0529 - accuracy: 0.9852 - val_loss: 1.4379 - val_accuracy: 0.7800\n",
            "Epoch 25/25\n",
            "7/7 [==============================] - 2s 323ms/step - loss: 0.0828 - accuracy: 0.9803 - val_loss: 1.2432 - val_accuracy: 0.8000\n"
          ]
        },
        {
          "output_type": "execute_result",
          "data": {
            "text/plain": [
              "<keras.callbacks.History at 0x7f67bfb56a30>"
            ]
          },
          "metadata": {},
          "execution_count": 65
        }
      ]
    },
    {
      "cell_type": "markdown",
      "metadata": {
        "id": "U3PZasO0006Z"
      },
      "source": [
        "## Part 4 - Making a single prediction"
      ]
    },
    {
      "cell_type": "code",
      "metadata": {
        "id": "gsSiWEJY1BPB",
        "colab": {
          "base_uri": "https://localhost:8080/",
          "height": 235
        },
        "outputId": "4b385dda-6d61-418e-d796-5e54de3639f1"
      },
      "source": [
        "import numpy as np\n",
        "import tensorflow as tf\n",
        "import keras\n",
        "\n",
        "from keras.preprocessing import image\n",
        "test_image = image.load_img('brain_tumour_or_not.jpg', target_size = (64, 64))\n",
        "test_image = image.img_to_array(test_image)\n",
        "test_image = np.expand_dims(test_image, axis = 0)\n",
        "result = cnn.predict(test_image)\n",
        "training_set.class_indices\n",
        "if result[0][0] == 1:\n",
        "  prediction = 'Tumour'\n",
        "else:\n",
        "  prediction = 'No Tumour'"
      ],
      "execution_count": 68,
      "outputs": [
        {
          "output_type": "error",
          "ename": "AttributeError",
          "evalue": "ignored",
          "traceback": [
            "\u001b[0;31m---------------------------------------------------------------------------\u001b[0m",
            "\u001b[0;31mAttributeError\u001b[0m                            Traceback (most recent call last)",
            "\u001b[0;32m<ipython-input-68-07b2b5507a87>\u001b[0m in \u001b[0;36m<module>\u001b[0;34m\u001b[0m\n\u001b[1;32m      4\u001b[0m \u001b[0;34m\u001b[0m\u001b[0m\n\u001b[1;32m      5\u001b[0m \u001b[0;32mfrom\u001b[0m \u001b[0mkeras\u001b[0m\u001b[0;34m.\u001b[0m\u001b[0mpreprocessing\u001b[0m \u001b[0;32mimport\u001b[0m \u001b[0mimage\u001b[0m\u001b[0;34m\u001b[0m\u001b[0;34m\u001b[0m\u001b[0m\n\u001b[0;32m----> 6\u001b[0;31m \u001b[0mtest_image\u001b[0m \u001b[0;34m=\u001b[0m \u001b[0mimage\u001b[0m\u001b[0;34m.\u001b[0m\u001b[0mload_img\u001b[0m\u001b[0;34m(\u001b[0m\u001b[0;34m'brain_tumour_or_not.jpg'\u001b[0m\u001b[0;34m,\u001b[0m \u001b[0mtarget_size\u001b[0m \u001b[0;34m=\u001b[0m \u001b[0;34m(\u001b[0m\u001b[0;36m64\u001b[0m\u001b[0;34m,\u001b[0m \u001b[0;36m64\u001b[0m\u001b[0;34m)\u001b[0m\u001b[0;34m)\u001b[0m\u001b[0;34m\u001b[0m\u001b[0;34m\u001b[0m\u001b[0m\n\u001b[0m\u001b[1;32m      7\u001b[0m \u001b[0mtest_image\u001b[0m \u001b[0;34m=\u001b[0m \u001b[0mimage\u001b[0m\u001b[0;34m.\u001b[0m\u001b[0mimg_to_array\u001b[0m\u001b[0;34m(\u001b[0m\u001b[0mtest_image\u001b[0m\u001b[0;34m)\u001b[0m\u001b[0;34m\u001b[0m\u001b[0;34m\u001b[0m\u001b[0m\n\u001b[1;32m      8\u001b[0m \u001b[0mtest_image\u001b[0m \u001b[0;34m=\u001b[0m \u001b[0mnp\u001b[0m\u001b[0;34m.\u001b[0m\u001b[0mexpand_dims\u001b[0m\u001b[0;34m(\u001b[0m\u001b[0mtest_image\u001b[0m\u001b[0;34m,\u001b[0m \u001b[0maxis\u001b[0m \u001b[0;34m=\u001b[0m \u001b[0;36m0\u001b[0m\u001b[0;34m)\u001b[0m\u001b[0;34m\u001b[0m\u001b[0;34m\u001b[0m\u001b[0m\n",
            "\u001b[0;31mAttributeError\u001b[0m: module 'keras.preprocessing.image' has no attribute 'load_img'"
          ]
        }
      ]
    },
    {
      "cell_type": "code",
      "metadata": {
        "id": "ED9KB3I54c1i"
      },
      "source": [
        "print(prediction)"
      ],
      "execution_count": null,
      "outputs": []
    }
  ]
}