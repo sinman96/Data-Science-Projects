{
  "nbformat": 4,
  "nbformat_minor": 0,
  "metadata": {
    "colab": {
      "provenance": [],
      "authorship_tag": "ABX9TyOObvEUcv77BCUs8kietMlM",
      "include_colab_link": true
    },
    "kernelspec": {
      "name": "python3",
      "display_name": "Python 3"
    },
    "language_info": {
      "name": "python"
    }
  },
  "cells": [
    {
      "cell_type": "markdown",
      "metadata": {
        "id": "view-in-github",
        "colab_type": "text"
      },
      "source": [
        "<a href=\"https://colab.research.google.com/github/sinman96/Data-Science-Projects/blob/main/CornersChallenge.ipynb\" target=\"_parent\"><img src=\"https://colab.research.google.com/assets/colab-badge.svg\" alt=\"Open In Colab\"/></a>"
      ]
    },
    {
      "cell_type": "code",
      "execution_count": 682,
      "metadata": {
        "id": "pjn8CdkVPjfU"
      },
      "outputs": [],
      "source": [
        "import numpy as np\n",
        "import pandas as pd\n",
        "from scipy import stats\n",
        "import seaborn as sns\n",
        "import matplotlib.pyplot as plt"
      ]
    },
    {
      "cell_type": "markdown",
      "source": [
        "**bold text**"
      ],
      "metadata": {
        "id": "DFwdB2S0PxvD"
      }
    },
    {
      "cell_type": "code",
      "source": [
        "df_train = pd.read_csv('train.csv')"
      ],
      "metadata": {
        "id": "u070Jr2FP9KG"
      },
      "execution_count": 683,
      "outputs": []
    },
    {
      "cell_type": "code",
      "source": [
        "df_train.head()"
      ],
      "metadata": {
        "colab": {
          "base_uri": "https://localhost:8080/",
          "height": 206
        },
        "id": "bCfyaCI2QFgP",
        "outputId": "9d2b7410-3d04-40c9-f2f6-96a9e670b3bb"
      },
      "execution_count": 684,
      "outputs": [
        {
          "output_type": "execute_result",
          "data": {
            "text/plain": [
              "   MatchId  LeagueId        Date  HomeTeamId  AwayTeamId  Home_Goals  \\\n",
              "0     2826       793  02/04/2005         410         908         2.0   \n",
              "1     2827       793  02/04/2005         338         597         3.0   \n",
              "2     2828       793  02/04/2005        1364         246         2.0   \n",
              "3     2829       793  02/04/2005        1088        1397         1.0   \n",
              "4     2830       793  02/04/2005         830        1412         2.0   \n",
              "\n",
              "   Away_Goals  Home_Corners  Away_Corners  \n",
              "0         0.0            15             1  \n",
              "1         2.0             3             6  \n",
              "2         3.0            13             2  \n",
              "3         0.0             2             5  \n",
              "4         3.0             3             6  "
            ],
            "text/html": [
              "\n",
              "  <div id=\"df-676b2f35-8c70-4bdf-98b2-27c135b77ad6\">\n",
              "    <div class=\"colab-df-container\">\n",
              "      <div>\n",
              "<style scoped>\n",
              "    .dataframe tbody tr th:only-of-type {\n",
              "        vertical-align: middle;\n",
              "    }\n",
              "\n",
              "    .dataframe tbody tr th {\n",
              "        vertical-align: top;\n",
              "    }\n",
              "\n",
              "    .dataframe thead th {\n",
              "        text-align: right;\n",
              "    }\n",
              "</style>\n",
              "<table border=\"1\" class=\"dataframe\">\n",
              "  <thead>\n",
              "    <tr style=\"text-align: right;\">\n",
              "      <th></th>\n",
              "      <th>MatchId</th>\n",
              "      <th>LeagueId</th>\n",
              "      <th>Date</th>\n",
              "      <th>HomeTeamId</th>\n",
              "      <th>AwayTeamId</th>\n",
              "      <th>Home_Goals</th>\n",
              "      <th>Away_Goals</th>\n",
              "      <th>Home_Corners</th>\n",
              "      <th>Away_Corners</th>\n",
              "    </tr>\n",
              "  </thead>\n",
              "  <tbody>\n",
              "    <tr>\n",
              "      <th>0</th>\n",
              "      <td>2826</td>\n",
              "      <td>793</td>\n",
              "      <td>02/04/2005</td>\n",
              "      <td>410</td>\n",
              "      <td>908</td>\n",
              "      <td>2.0</td>\n",
              "      <td>0.0</td>\n",
              "      <td>15</td>\n",
              "      <td>1</td>\n",
              "    </tr>\n",
              "    <tr>\n",
              "      <th>1</th>\n",
              "      <td>2827</td>\n",
              "      <td>793</td>\n",
              "      <td>02/04/2005</td>\n",
              "      <td>338</td>\n",
              "      <td>597</td>\n",
              "      <td>3.0</td>\n",
              "      <td>2.0</td>\n",
              "      <td>3</td>\n",
              "      <td>6</td>\n",
              "    </tr>\n",
              "    <tr>\n",
              "      <th>2</th>\n",
              "      <td>2828</td>\n",
              "      <td>793</td>\n",
              "      <td>02/04/2005</td>\n",
              "      <td>1364</td>\n",
              "      <td>246</td>\n",
              "      <td>2.0</td>\n",
              "      <td>3.0</td>\n",
              "      <td>13</td>\n",
              "      <td>2</td>\n",
              "    </tr>\n",
              "    <tr>\n",
              "      <th>3</th>\n",
              "      <td>2829</td>\n",
              "      <td>793</td>\n",
              "      <td>02/04/2005</td>\n",
              "      <td>1088</td>\n",
              "      <td>1397</td>\n",
              "      <td>1.0</td>\n",
              "      <td>0.0</td>\n",
              "      <td>2</td>\n",
              "      <td>5</td>\n",
              "    </tr>\n",
              "    <tr>\n",
              "      <th>4</th>\n",
              "      <td>2830</td>\n",
              "      <td>793</td>\n",
              "      <td>02/04/2005</td>\n",
              "      <td>830</td>\n",
              "      <td>1412</td>\n",
              "      <td>2.0</td>\n",
              "      <td>3.0</td>\n",
              "      <td>3</td>\n",
              "      <td>6</td>\n",
              "    </tr>\n",
              "  </tbody>\n",
              "</table>\n",
              "</div>\n",
              "      <button class=\"colab-df-convert\" onclick=\"convertToInteractive('df-676b2f35-8c70-4bdf-98b2-27c135b77ad6')\"\n",
              "              title=\"Convert this dataframe to an interactive table.\"\n",
              "              style=\"display:none;\">\n",
              "        \n",
              "  <svg xmlns=\"http://www.w3.org/2000/svg\" height=\"24px\"viewBox=\"0 0 24 24\"\n",
              "       width=\"24px\">\n",
              "    <path d=\"M0 0h24v24H0V0z\" fill=\"none\"/>\n",
              "    <path d=\"M18.56 5.44l.94 2.06.94-2.06 2.06-.94-2.06-.94-.94-2.06-.94 2.06-2.06.94zm-11 1L8.5 8.5l.94-2.06 2.06-.94-2.06-.94L8.5 2.5l-.94 2.06-2.06.94zm10 10l.94 2.06.94-2.06 2.06-.94-2.06-.94-.94-2.06-.94 2.06-2.06.94z\"/><path d=\"M17.41 7.96l-1.37-1.37c-.4-.4-.92-.59-1.43-.59-.52 0-1.04.2-1.43.59L10.3 9.45l-7.72 7.72c-.78.78-.78 2.05 0 2.83L4 21.41c.39.39.9.59 1.41.59.51 0 1.02-.2 1.41-.59l7.78-7.78 2.81-2.81c.8-.78.8-2.07 0-2.86zM5.41 20L4 18.59l7.72-7.72 1.47 1.35L5.41 20z\"/>\n",
              "  </svg>\n",
              "      </button>\n",
              "      \n",
              "  <style>\n",
              "    .colab-df-container {\n",
              "      display:flex;\n",
              "      flex-wrap:wrap;\n",
              "      gap: 12px;\n",
              "    }\n",
              "\n",
              "    .colab-df-convert {\n",
              "      background-color: #E8F0FE;\n",
              "      border: none;\n",
              "      border-radius: 50%;\n",
              "      cursor: pointer;\n",
              "      display: none;\n",
              "      fill: #1967D2;\n",
              "      height: 32px;\n",
              "      padding: 0 0 0 0;\n",
              "      width: 32px;\n",
              "    }\n",
              "\n",
              "    .colab-df-convert:hover {\n",
              "      background-color: #E2EBFA;\n",
              "      box-shadow: 0px 1px 2px rgba(60, 64, 67, 0.3), 0px 1px 3px 1px rgba(60, 64, 67, 0.15);\n",
              "      fill: #174EA6;\n",
              "    }\n",
              "\n",
              "    [theme=dark] .colab-df-convert {\n",
              "      background-color: #3B4455;\n",
              "      fill: #D2E3FC;\n",
              "    }\n",
              "\n",
              "    [theme=dark] .colab-df-convert:hover {\n",
              "      background-color: #434B5C;\n",
              "      box-shadow: 0px 1px 3px 1px rgba(0, 0, 0, 0.15);\n",
              "      filter: drop-shadow(0px 1px 2px rgba(0, 0, 0, 0.3));\n",
              "      fill: #FFFFFF;\n",
              "    }\n",
              "  </style>\n",
              "\n",
              "      <script>\n",
              "        const buttonEl =\n",
              "          document.querySelector('#df-676b2f35-8c70-4bdf-98b2-27c135b77ad6 button.colab-df-convert');\n",
              "        buttonEl.style.display =\n",
              "          google.colab.kernel.accessAllowed ? 'block' : 'none';\n",
              "\n",
              "        async function convertToInteractive(key) {\n",
              "          const element = document.querySelector('#df-676b2f35-8c70-4bdf-98b2-27c135b77ad6');\n",
              "          const dataTable =\n",
              "            await google.colab.kernel.invokeFunction('convertToInteractive',\n",
              "                                                     [key], {});\n",
              "          if (!dataTable) return;\n",
              "\n",
              "          const docLinkHtml = 'Like what you see? Visit the ' +\n",
              "            '<a target=\"_blank\" href=https://colab.research.google.com/notebooks/data_table.ipynb>data table notebook</a>'\n",
              "            + ' to learn more about interactive tables.';\n",
              "          element.innerHTML = '';\n",
              "          dataTable['output_type'] = 'display_data';\n",
              "          await google.colab.output.renderOutput(dataTable, element);\n",
              "          const docLink = document.createElement('div');\n",
              "          docLink.innerHTML = docLinkHtml;\n",
              "          element.appendChild(docLink);\n",
              "        }\n",
              "      </script>\n",
              "    </div>\n",
              "  </div>\n",
              "  "
            ]
          },
          "metadata": {},
          "execution_count": 684
        }
      ]
    },
    {
      "cell_type": "code",
      "source": [
        "len(df_train)"
      ],
      "metadata": {
        "colab": {
          "base_uri": "https://localhost:8080/"
        },
        "id": "dgUVi5w1QbnL",
        "outputId": "0163d173-6787-431c-ec1a-939ce121211c"
      },
      "execution_count": 685,
      "outputs": [
        {
          "output_type": "execute_result",
          "data": {
            "text/plain": [
              "23830"
            ]
          },
          "metadata": {},
          "execution_count": 685
        }
      ]
    },
    {
      "cell_type": "code",
      "source": [
        "df_train.nunique()"
      ],
      "metadata": {
        "colab": {
          "base_uri": "https://localhost:8080/"
        },
        "id": "wZJFwPNRQfmt",
        "outputId": "6766465d-f4ae-4468-91d8-72d069feb2d7"
      },
      "execution_count": 686,
      "outputs": [
        {
          "output_type": "execute_result",
          "data": {
            "text/plain": [
              "MatchId         23830\n",
              "LeagueId           13\n",
              "Date             1348\n",
              "HomeTeamId        332\n",
              "AwayTeamId        333\n",
              "Home_Goals         10\n",
              "Away_Goals          9\n",
              "Home_Corners       22\n",
              "Away_Corners       20\n",
              "dtype: int64"
            ]
          },
          "metadata": {},
          "execution_count": 686
        }
      ]
    },
    {
      "cell_type": "markdown",
      "source": [
        "**From this, we can assume that MatchId is irrelevant to predicting corners as it represents an index for the ID of each match.**"
      ],
      "metadata": {
        "id": "heOfrbeeQjiu"
      }
    },
    {
      "cell_type": "code",
      "source": [
        "df_train['Home_Corners'].describe()"
      ],
      "metadata": {
        "colab": {
          "base_uri": "https://localhost:8080/"
        },
        "id": "zZuVy_k9Q7j1",
        "outputId": "899ab49a-2c0a-40df-8d16-86c844c9b45c"
      },
      "execution_count": 687,
      "outputs": [
        {
          "output_type": "execute_result",
          "data": {
            "text/plain": [
              "count    23830.000000\n",
              "mean         5.726060\n",
              "std          2.844714\n",
              "min          0.000000\n",
              "25%          4.000000\n",
              "50%          5.000000\n",
              "75%          7.000000\n",
              "max         21.000000\n",
              "Name: Home_Corners, dtype: float64"
            ]
          },
          "metadata": {},
          "execution_count": 687
        }
      ]
    },
    {
      "cell_type": "code",
      "source": [
        "df_train['Home_Corners'].hist()"
      ],
      "metadata": {
        "colab": {
          "base_uri": "https://localhost:8080/",
          "height": 285
        },
        "id": "xcHFk7GJRFPH",
        "outputId": "c8306f83-4227-4b30-eed2-4623fdd4b0cc"
      },
      "execution_count": 688,
      "outputs": [
        {
          "output_type": "execute_result",
          "data": {
            "text/plain": [
              "<matplotlib.axes._subplots.AxesSubplot at 0x7fa71ba27ac0>"
            ]
          },
          "metadata": {},
          "execution_count": 688
        },
        {
          "output_type": "display_data",
          "data": {
            "text/plain": [
              "<Figure size 432x288 with 1 Axes>"
            ],
            "image/png": "[encoded data removed]"
          },
          "metadata": {}
        }
      ]
    },
    {
      "cell_type": "code",
      "source": [
        "df_train['Away_Corners'].describe()"
      ],
      "metadata": {
        "colab": {
          "base_uri": "https://localhost:8080/"
        },
        "id": "d6mG0mmURPyr",
        "outputId": "208d6aaa-a214-4e75-b0f2-8802add6b8a5"
      },
      "execution_count": 689,
      "outputs": [
        {
          "output_type": "execute_result",
          "data": {
            "text/plain": [
              "count    23830.000000\n",
              "mean         4.493412\n",
              "std          2.505376\n",
              "min          0.000000\n",
              "25%          3.000000\n",
              "50%          4.000000\n",
              "75%          6.000000\n",
              "max         19.000000\n",
              "Name: Away_Corners, dtype: float64"
            ]
          },
          "metadata": {},
          "execution_count": 689
        }
      ]
    },
    {
      "cell_type": "code",
      "source": [
        "df_train['Away_Corners'].hist()"
      ],
      "metadata": {
        "colab": {
          "base_uri": "https://localhost:8080/",
          "height": 285
        },
        "id": "07gLAjBgRXT9",
        "outputId": "53f55558-0f62-4f79-eea5-aa51d2cafe55"
      },
      "execution_count": 690,
      "outputs": [
        {
          "output_type": "execute_result",
          "data": {
            "text/plain": [
              "<matplotlib.axes._subplots.AxesSubplot at 0x7fa71b9d6250>"
            ]
          },
          "metadata": {},
          "execution_count": 690
        },
        {
          "output_type": "display_data",
          "data": {
            "text/plain": [
              "<Figure size 432x288 with 1 Axes>"
            ],
            "image/png": "[encoded data removed]"
          },
          "metadata": {}
        }
      ]
    },
    {
      "cell_type": "code",
      "source": [
        "df_train['Total_Corners'] = df_train['Home_Corners'] + df_train['Away_Corners']"
      ],
      "metadata": {
        "id": "D_Tq1NqwrakN"
      },
      "execution_count": 691,
      "outputs": []
    },
    {
      "cell_type": "code",
      "source": [
        "df_train['Total_Corners'].describe()"
      ],
      "metadata": {
        "colab": {
          "base_uri": "https://localhost:8080/"
        },
        "id": "5gFvt7vFejQB",
        "outputId": "4bf747ce-e046-40d7-d1b5-773a1a5bab2c"
      },
      "execution_count": 692,
      "outputs": [
        {
          "output_type": "execute_result",
          "data": {
            "text/plain": [
              "count    23830.000000\n",
              "mean        10.219471\n",
              "std          3.451955\n",
              "min          0.000000\n",
              "25%          8.000000\n",
              "50%         10.000000\n",
              "75%         12.000000\n",
              "max         25.000000\n",
              "Name: Total_Corners, dtype: float64"
            ]
          },
          "metadata": {},
          "execution_count": 692
        }
      ]
    },
    {
      "cell_type": "code",
      "source": [
        "import warnings\n",
        "warnings.filterwarnings(\"ignore\")\n",
        "sns.set(style=\"ticks\")\n",
        "x = df_train['Total_Corners']\n",
        "f, (ax_box, ax_hist) = plt.subplots(2, sharex=True, \n",
        "                                    gridspec_kw={\"height_ratios\": (.15, .85)})\n",
        "sns.boxplot(x, ax=ax_box)\n",
        "sns.distplot(x, ax=ax_hist)\n",
        "ax_box.set(yticks=[])\n",
        "sns.despine(ax=ax_hist)\n",
        "sns.despine(ax=ax_box, left=True)"
      ],
      "metadata": {
        "colab": {
          "base_uri": "https://localhost:8080/",
          "height": 285
        },
        "id": "9Vq706FdRs0x",
        "outputId": "06fef1a1-3eee-4731-c544-bb98747cd5cf"
      },
      "execution_count": 694,
      "outputs": [
        {
          "output_type": "display_data",
          "data": {
            "text/plain": [
              "<Figure size 432x288 with 2 Axes>"
            ],
            "image/png": "[encoded data removed]"
          },
          "metadata": {}
        }
      ]
    },
    {
      "cell_type": "code",
      "source": [
        "y_train = df_train['Total_Corners'].values"
      ],
      "metadata": {
        "id": "IJwIrYRaTeJa"
      },
      "execution_count": 695,
      "outputs": []
    },
    {
      "cell_type": "code",
      "source": [
        "df_train.head()"
      ],
      "metadata": {
        "colab": {
          "base_uri": "https://localhost:8080/",
          "height": 206
        },
        "id": "V3WRJJgRTncv",
        "outputId": "bd9beda2-f299-4f39-e6a1-6123825b0f89"
      },
      "execution_count": 696,
      "outputs": [
        {
          "output_type": "execute_result",
          "data": {
            "text/plain": [
              "   MatchId  LeagueId        Date  HomeTeamId  AwayTeamId  Home_Goals  \\\n",
              "0     2826       793  02/04/2005         410         908         2.0   \n",
              "1     2827       793  02/04/2005         338         597         3.0   \n",
              "2     2828       793  02/04/2005        1364         246         2.0   \n",
              "3     2829       793  02/04/2005        1088        1397         1.0   \n",
              "4     2830       793  02/04/2005         830        1412         2.0   \n",
              "\n",
              "   Away_Goals  Home_Corners  Away_Corners  Total_Corners  \n",
              "0         0.0            15             1             16  \n",
              "1         2.0             3             6              9  \n",
              "2         3.0            13             2             15  \n",
              "3         0.0             2             5              7  \n",
              "4         3.0             3             6              9  "
            ],
            "text/html": [
              "\n",
              "  <div id=\"df-71d91a11-852d-46c6-99ba-51c40f9d5b23\">\n",
              "    <div class=\"colab-df-container\">\n",
              "      <div>\n",
              "<style scoped>\n",
              "    .dataframe tbody tr th:only-of-type {\n",
              "        vertical-align: middle;\n",
              "    }\n",
              "\n",
              "    .dataframe tbody tr th {\n",
              "        vertical-align: top;\n",
              "    }\n",
              "\n",
              "    .dataframe thead th {\n",
              "        text-align: right;\n",
              "    }\n",
              "</style>\n",
              "<table border=\"1\" class=\"dataframe\">\n",
              "  <thead>\n",
              "    <tr style=\"text-align: right;\">\n",
              "      <th></th>\n",
              "      <th>MatchId</th>\n",
              "      <th>LeagueId</th>\n",
              "      <th>Date</th>\n",
              "      <th>HomeTeamId</th>\n",
              "      <th>AwayTeamId</th>\n",
              "      <th>Home_Goals</th>\n",
              "      <th>Away_Goals</th>\n",
              "      <th>Home_Corners</th>\n",
              "      <th>Away_Corners</th>\n",
              "      <th>Total_Corners</th>\n",
              "    </tr>\n",
              "  </thead>\n",
              "  <tbody>\n",
              "    <tr>\n",
              "      <th>0</th>\n",
              "      <td>2826</td>\n",
              "      <td>793</td>\n",
              "      <td>02/04/2005</td>\n",
              "      <td>410</td>\n",
              "      <td>908</td>\n",
              "      <td>2.0</td>\n",
              "      <td>0.0</td>\n",
              "      <td>15</td>\n",
              "      <td>1</td>\n",
              "      <td>16</td>\n",
              "    </tr>\n",
              "    <tr>\n",
              "      <th>1</th>\n",
              "      <td>2827</td>\n",
              "      <td>793</td>\n",
              "      <td>02/04/2005</td>\n",
              "      <td>338</td>\n",
              "      <td>597</td>\n",
              "      <td>3.0</td>\n",
              "      <td>2.0</td>\n",
              "      <td>3</td>\n",
              "      <td>6</td>\n",
              "      <td>9</td>\n",
              "    </tr>\n",
              "    <tr>\n",
              "      <th>2</th>\n",
              "      <td>2828</td>\n",
              "      <td>793</td>\n",
              "      <td>02/04/2005</td>\n",
              "      <td>1364</td>\n",
              "      <td>246</td>\n",
              "      <td>2.0</td>\n",
              "      <td>3.0</td>\n",
              "      <td>13</td>\n",
              "      <td>2</td>\n",
              "      <td>15</td>\n",
              "    </tr>\n",
              "    <tr>\n",
              "      <th>3</th>\n",
              "      <td>2829</td>\n",
              "      <td>793</td>\n",
              "      <td>02/04/2005</td>\n",
              "      <td>1088</td>\n",
              "      <td>1397</td>\n",
              "      <td>1.0</td>\n",
              "      <td>0.0</td>\n",
              "      <td>2</td>\n",
              "      <td>5</td>\n",
              "      <td>7</td>\n",
              "    </tr>\n",
              "    <tr>\n",
              "      <th>4</th>\n",
              "      <td>2830</td>\n",
              "      <td>793</td>\n",
              "      <td>02/04/2005</td>\n",
              "      <td>830</td>\n",
              "      <td>1412</td>\n",
              "      <td>2.0</td>\n",
              "      <td>3.0</td>\n",
              "      <td>3</td>\n",
              "      <td>6</td>\n",
              "      <td>9</td>\n",
              "    </tr>\n",
              "  </tbody>\n",
              "</table>\n",
              "</div>\n",
              "      <button class=\"colab-df-convert\" onclick=\"convertToInteractive('df-71d91a11-852d-46c6-99ba-51c40f9d5b23')\"\n",
              "              title=\"Convert this dataframe to an interactive table.\"\n",
              "              style=\"display:none;\">\n",
              "        \n",
              "  <svg xmlns=\"http://www.w3.org/2000/svg\" height=\"24px\"viewBox=\"0 0 24 24\"\n",
              "       width=\"24px\">\n",
              "    <path d=\"M0 0h24v24H0V0z\" fill=\"none\"/>\n",
              "    <path d=\"M18.56 5.44l.94 2.06.94-2.06 2.06-.94-2.06-.94-.94-2.06-.94 2.06-2.06.94zm-11 1L8.5 8.5l.94-2.06 2.06-.94-2.06-.94L8.5 2.5l-.94 2.06-2.06.94zm10 10l.94 2.06.94-2.06 2.06-.94-2.06-.94-.94-2.06-.94 2.06-2.06.94z\"/><path d=\"M17.41 7.96l-1.37-1.37c-.4-.4-.92-.59-1.43-.59-.52 0-1.04.2-1.43.59L10.3 9.45l-7.72 7.72c-.78.78-.78 2.05 0 2.83L4 21.41c.39.39.9.59 1.41.59.51 0 1.02-.2 1.41-.59l7.78-7.78 2.81-2.81c.8-.78.8-2.07 0-2.86zM5.41 20L4 18.59l7.72-7.72 1.47 1.35L5.41 20z\"/>\n",
              "  </svg>\n",
              "      </button>\n",
              "      \n",
              "  <style>\n",
              "    .colab-df-container {\n",
              "      display:flex;\n",
              "      flex-wrap:wrap;\n",
              "      gap: 12px;\n",
              "    }\n",
              "\n",
              "    .colab-df-convert {\n",
              "      background-color: #E8F0FE;\n",
              "      border: none;\n",
              "      border-radius: 50%;\n",
              "      cursor: pointer;\n",
              "      display: none;\n",
              "      fill: #1967D2;\n",
              "      height: 32px;\n",
              "      padding: 0 0 0 0;\n",
              "      width: 32px;\n",
              "    }\n",
              "\n",
              "    .colab-df-convert:hover {\n",
              "      background-color: #E2EBFA;\n",
              "      box-shadow: 0px 1px 2px rgba(60, 64, 67, 0.3), 0px 1px 3px 1px rgba(60, 64, 67, 0.15);\n",
              "      fill: #174EA6;\n",
              "    }\n",
              "\n",
              "    [theme=dark] .colab-df-convert {\n",
              "      background-color: #3B4455;\n",
              "      fill: #D2E3FC;\n",
              "    }\n",
              "\n",
              "    [theme=dark] .colab-df-convert:hover {\n",
              "      background-color: #434B5C;\n",
              "      box-shadow: 0px 1px 3px 1px rgba(0, 0, 0, 0.15);\n",
              "      filter: drop-shadow(0px 1px 2px rgba(0, 0, 0, 0.3));\n",
              "      fill: #FFFFFF;\n",
              "    }\n",
              "  </style>\n",
              "\n",
              "      <script>\n",
              "        const buttonEl =\n",
              "          document.querySelector('#df-71d91a11-852d-46c6-99ba-51c40f9d5b23 button.colab-df-convert');\n",
              "        buttonEl.style.display =\n",
              "          google.colab.kernel.accessAllowed ? 'block' : 'none';\n",
              "\n",
              "        async function convertToInteractive(key) {\n",
              "          const element = document.querySelector('#df-71d91a11-852d-46c6-99ba-51c40f9d5b23');\n",
              "          const dataTable =\n",
              "            await google.colab.kernel.invokeFunction('convertToInteractive',\n",
              "                                                     [key], {});\n",
              "          if (!dataTable) return;\n",
              "\n",
              "          const docLinkHtml = 'Like what you see? Visit the ' +\n",
              "            '<a target=\"_blank\" href=https://colab.research.google.com/notebooks/data_table.ipynb>data table notebook</a>'\n",
              "            + ' to learn more about interactive tables.';\n",
              "          element.innerHTML = '';\n",
              "          dataTable['output_type'] = 'display_data';\n",
              "          await google.colab.output.renderOutput(dataTable, element);\n",
              "          const docLink = document.createElement('div');\n",
              "          docLink.innerHTML = docLinkHtml;\n",
              "          element.appendChild(docLink);\n",
              "        }\n",
              "      </script>\n",
              "    </div>\n",
              "  </div>\n",
              "  "
            ]
          },
          "metadata": {},
          "execution_count": 696
        }
      ]
    },
    {
      "cell_type": "code",
      "source": [
        "df_test = pd.read_csv('test.csv')"
      ],
      "metadata": {
        "id": "YiE380_PTuX3"
      },
      "execution_count": 697,
      "outputs": []
    },
    {
      "cell_type": "code",
      "source": [
        "df_test.head()"
      ],
      "metadata": {
        "colab": {
          "base_uri": "https://localhost:8080/",
          "height": 206
        },
        "id": "Mlx2xTl3T1V8",
        "outputId": "96acf43b-faf6-4143-d3ec-2526ee2fa5cd"
      },
      "execution_count": 698,
      "outputs": [
        {
          "output_type": "execute_result",
          "data": {
            "text/plain": [
              "   MatchId  LeagueId        Date  HomeTeamId  AwayTeamId  Line   Over  Under  \\\n",
              "0        1       741  01/04/2011         342         694   9.5  1.790   1.80   \n",
              "1        2       741  01/04/2011        1424         270  11.5  1.920   2.00   \n",
              "2        3       729  01/04/2011         691        1137  10.5  1.970   1.87   \n",
              "3        4       729  01/04/2011         787         808  11.0  2.075   1.77   \n",
              "4        5       741  01/04/2011         784        1117  12.0  2.020   1.86   \n",
              "\n",
              "   Unnamed: 8  P(Under)  P(At)  P(Over)  Bet (U/O)  Stake  \n",
              "0         NaN       NaN    NaN      NaN        NaN    NaN  \n",
              "1         NaN       NaN    NaN      NaN        NaN    NaN  \n",
              "2         NaN       NaN    NaN      NaN        NaN    NaN  \n",
              "3         NaN       NaN    NaN      NaN        NaN    NaN  \n",
              "4         NaN       NaN    NaN      NaN        NaN    NaN  "
            ],
            "text/html": [
              "\n",
              "  <div id=\"df-232564d9-ddeb-4494-9813-e69651f5bb55\">\n",
              "    <div class=\"colab-df-container\">\n",
              "      <div>\n",
              "<style scoped>\n",
              "    .dataframe tbody tr th:only-of-type {\n",
              "        vertical-align: middle;\n",
              "    }\n",
              "\n",
              "    .dataframe tbody tr th {\n",
              "        vertical-align: top;\n",
              "    }\n",
              "\n",
              "    .dataframe thead th {\n",
              "        text-align: right;\n",
              "    }\n",
              "</style>\n",
              "<table border=\"1\" class=\"dataframe\">\n",
              "  <thead>\n",
              "    <tr style=\"text-align: right;\">\n",
              "      <th></th>\n",
              "      <th>MatchId</th>\n",
              "      <th>LeagueId</th>\n",
              "      <th>Date</th>\n",
              "      <th>HomeTeamId</th>\n",
              "      <th>AwayTeamId</th>\n",
              "      <th>Line</th>\n",
              "      <th>Over</th>\n",
              "      <th>Under</th>\n",
              "      <th>Unnamed: 8</th>\n",
              "      <th>P(Under)</th>\n",
              "      <th>P(At)</th>\n",
              "      <th>P(Over)</th>\n",
              "      <th>Bet (U/O)</th>\n",
              "      <th>Stake</th>\n",
              "    </tr>\n",
              "  </thead>\n",
              "  <tbody>\n",
              "    <tr>\n",
              "      <th>0</th>\n",
              "      <td>1</td>\n",
              "      <td>741</td>\n",
              "      <td>01/04/2011</td>\n",
              "      <td>342</td>\n",
              "      <td>694</td>\n",
              "      <td>9.5</td>\n",
              "      <td>1.790</td>\n",
              "      <td>1.80</td>\n",
              "      <td>NaN</td>\n",
              "      <td>NaN</td>\n",
              "      <td>NaN</td>\n",
              "      <td>NaN</td>\n",
              "      <td>NaN</td>\n",
              "      <td>NaN</td>\n",
              "    </tr>\n",
              "    <tr>\n",
              "      <th>1</th>\n",
              "      <td>2</td>\n",
              "      <td>741</td>\n",
              "      <td>01/04/2011</td>\n",
              "      <td>1424</td>\n",
              "      <td>270</td>\n",
              "      <td>11.5</td>\n",
              "      <td>1.920</td>\n",
              "      <td>2.00</td>\n",
              "      <td>NaN</td>\n",
              "      <td>NaN</td>\n",
              "      <td>NaN</td>\n",
              "      <td>NaN</td>\n",
              "      <td>NaN</td>\n",
              "      <td>NaN</td>\n",
              "    </tr>\n",
              "    <tr>\n",
              "      <th>2</th>\n",
              "      <td>3</td>\n",
              "      <td>729</td>\n",
              "      <td>01/04/2011</td>\n",
              "      <td>691</td>\n",
              "      <td>1137</td>\n",
              "      <td>10.5</td>\n",
              "      <td>1.970</td>\n",
              "      <td>1.87</td>\n",
              "      <td>NaN</td>\n",
              "      <td>NaN</td>\n",
              "      <td>NaN</td>\n",
              "      <td>NaN</td>\n",
              "      <td>NaN</td>\n",
              "      <td>NaN</td>\n",
              "    </tr>\n",
              "    <tr>\n",
              "      <th>3</th>\n",
              "      <td>4</td>\n",
              "      <td>729</td>\n",
              "      <td>01/04/2011</td>\n",
              "      <td>787</td>\n",
              "      <td>808</td>\n",
              "      <td>11.0</td>\n",
              "      <td>2.075</td>\n",
              "      <td>1.77</td>\n",
              "      <td>NaN</td>\n",
              "      <td>NaN</td>\n",
              "      <td>NaN</td>\n",
              "      <td>NaN</td>\n",
              "      <td>NaN</td>\n",
              "      <td>NaN</td>\n",
              "    </tr>\n",
              "    <tr>\n",
              "      <th>4</th>\n",
              "      <td>5</td>\n",
              "      <td>741</td>\n",
              "      <td>01/04/2011</td>\n",
              "      <td>784</td>\n",
              "      <td>1117</td>\n",
              "      <td>12.0</td>\n",
              "      <td>2.020</td>\n",
              "      <td>1.86</td>\n",
              "      <td>NaN</td>\n",
              "      <td>NaN</td>\n",
              "      <td>NaN</td>\n",
              "      <td>NaN</td>\n",
              "      <td>NaN</td>\n",
              "      <td>NaN</td>\n",
              "    </tr>\n",
              "  </tbody>\n",
              "</table>\n",
              "</div>\n",
              "      <button class=\"colab-df-convert\" onclick=\"convertToInteractive('df-232564d9-ddeb-4494-9813-e69651f5bb55')\"\n",
              "              title=\"Convert this dataframe to an interactive table.\"\n",
              "              style=\"display:none;\">\n",
              "        \n",
              "  <svg xmlns=\"http://www.w3.org/2000/svg\" height=\"24px\"viewBox=\"0 0 24 24\"\n",
              "       width=\"24px\">\n",
              "    <path d=\"M0 0h24v24H0V0z\" fill=\"none\"/>\n",
              "    <path d=\"M18.56 5.44l.94 2.06.94-2.06 2.06-.94-2.06-.94-.94-2.06-.94 2.06-2.06.94zm-11 1L8.5 8.5l.94-2.06 2.06-.94-2.06-.94L8.5 2.5l-.94 2.06-2.06.94zm10 10l.94 2.06.94-2.06 2.06-.94-2.06-.94-.94-2.06-.94 2.06-2.06.94z\"/><path d=\"M17.41 7.96l-1.37-1.37c-.4-.4-.92-.59-1.43-.59-.52 0-1.04.2-1.43.59L10.3 9.45l-7.72 7.72c-.78.78-.78 2.05 0 2.83L4 21.41c.39.39.9.59 1.41.59.51 0 1.02-.2 1.41-.59l7.78-7.78 2.81-2.81c.8-.78.8-2.07 0-2.86zM5.41 20L4 18.59l7.72-7.72 1.47 1.35L5.41 20z\"/>\n",
              "  </svg>\n",
              "      </button>\n",
              "      \n",
              "  <style>\n",
              "    .colab-df-container {\n",
              "      display:flex;\n",
              "      flex-wrap:wrap;\n",
              "      gap: 12px;\n",
              "    }\n",
              "\n",
              "    .colab-df-convert {\n",
              "      background-color: #E8F0FE;\n",
              "      border: none;\n",
              "      border-radius: 50%;\n",
              "      cursor: pointer;\n",
              "      display: none;\n",
              "      fill: #1967D2;\n",
              "      height: 32px;\n",
              "      padding: 0 0 0 0;\n",
              "      width: 32px;\n",
              "    }\n",
              "\n",
              "    .colab-df-convert:hover {\n",
              "      background-color: #E2EBFA;\n",
              "      box-shadow: 0px 1px 2px rgba(60, 64, 67, 0.3), 0px 1px 3px 1px rgba(60, 64, 67, 0.15);\n",
              "      fill: #174EA6;\n",
              "    }\n",
              "\n",
              "    [theme=dark] .colab-df-convert {\n",
              "      background-color: #3B4455;\n",
              "      fill: #D2E3FC;\n",
              "    }\n",
              "\n",
              "    [theme=dark] .colab-df-convert:hover {\n",
              "      background-color: #434B5C;\n",
              "      box-shadow: 0px 1px 3px 1px rgba(0, 0, 0, 0.15);\n",
              "      filter: drop-shadow(0px 1px 2px rgba(0, 0, 0, 0.3));\n",
              "      fill: #FFFFFF;\n",
              "    }\n",
              "  </style>\n",
              "\n",
              "      <script>\n",
              "        const buttonEl =\n",
              "          document.querySelector('#df-232564d9-ddeb-4494-9813-e69651f5bb55 button.colab-df-convert');\n",
              "        buttonEl.style.display =\n",
              "          google.colab.kernel.accessAllowed ? 'block' : 'none';\n",
              "\n",
              "        async function convertToInteractive(key) {\n",
              "          const element = document.querySelector('#df-232564d9-ddeb-4494-9813-e69651f5bb55');\n",
              "          const dataTable =\n",
              "            await google.colab.kernel.invokeFunction('convertToInteractive',\n",
              "                                                     [key], {});\n",
              "          if (!dataTable) return;\n",
              "\n",
              "          const docLinkHtml = 'Like what you see? Visit the ' +\n",
              "            '<a target=\"_blank\" href=https://colab.research.google.com/notebooks/data_table.ipynb>data table notebook</a>'\n",
              "            + ' to learn more about interactive tables.';\n",
              "          element.innerHTML = '';\n",
              "          dataTable['output_type'] = 'display_data';\n",
              "          await google.colab.output.renderOutput(dataTable, element);\n",
              "          const docLink = document.createElement('div');\n",
              "          docLink.innerHTML = docLinkHtml;\n",
              "          element.appendChild(docLink);\n",
              "        }\n",
              "      </script>\n",
              "    </div>\n",
              "  </div>\n",
              "  "
            ]
          },
          "metadata": {},
          "execution_count": 698
        }
      ]
    },
    {
      "cell_type": "code",
      "source": [
        "df_test.nunique()"
      ],
      "metadata": {
        "colab": {
          "base_uri": "https://localhost:8080/"
        },
        "id": "JGgwwlhBVNrs",
        "outputId": "90e5b3c3-c2ae-456e-f007-0d22f0626646"
      },
      "execution_count": 699,
      "outputs": [
        {
          "output_type": "execute_result",
          "data": {
            "text/plain": [
              "MatchId       341\n",
              "LeagueId        7\n",
              "Date           31\n",
              "HomeTeamId    129\n",
              "AwayTeamId    134\n",
              "Line            7\n",
              "Over           75\n",
              "Under          96\n",
              "Unnamed: 8      0\n",
              "P(Under)        0\n",
              "P(At)           0\n",
              "P(Over)         0\n",
              "Bet (U/O)       0\n",
              "Stake           0\n",
              "dtype: int64"
            ]
          },
          "metadata": {},
          "execution_count": 699
        }
      ]
    },
    {
      "cell_type": "code",
      "source": [
        "df_test = df_test.drop(['Unnamed: 8'], axis = 1)"
      ],
      "metadata": {
        "id": "ZrGmVcaTiRfh"
      },
      "execution_count": 700,
      "outputs": []
    },
    {
      "cell_type": "markdown",
      "source": [
        "**The test data set doesn't have goals, so I will not use them in the training predictions and also not use the dates**"
      ],
      "metadata": {
        "id": "ysISSTI9WPYK"
      }
    },
    {
      "cell_type": "code",
      "source": [
        "X_train = df_train.drop(['Date'], axis = 1).iloc[:, 1:4].values"
      ],
      "metadata": {
        "id": "Mr8QsPJyWOmq"
      },
      "execution_count": 701,
      "outputs": []
    },
    {
      "cell_type": "code",
      "source": [
        "X_train"
      ],
      "metadata": {
        "colab": {
          "base_uri": "https://localhost:8080/"
        },
        "id": "qVkGLfQfXB_4",
        "outputId": "8751c277-db21-4982-8471-34ffe8f407ad"
      },
      "execution_count": 702,
      "outputs": [
        {
          "output_type": "execute_result",
          "data": {
            "text/plain": [
              "array([[ 793,  410,  908],\n",
              "       [ 793,  338,  597],\n",
              "       [ 793, 1364,  246],\n",
              "       ...,\n",
              "       [ 800, 4704, 4705],\n",
              "       [ 800, 2113,  250],\n",
              "       [ 800,  907, 1827]])"
            ]
          },
          "metadata": {},
          "execution_count": 702
        }
      ]
    },
    {
      "cell_type": "code",
      "source": [
        "y_train = df_train['Total_Corners'].values"
      ],
      "metadata": {
        "id": "EekXFLnUXRBr"
      },
      "execution_count": 703,
      "outputs": []
    },
    {
      "cell_type": "code",
      "source": [
        "y_train"
      ],
      "metadata": {
        "colab": {
          "base_uri": "https://localhost:8080/"
        },
        "id": "8BKGgNMSXc6V",
        "outputId": "3eac02ee-7bfc-4db9-c31a-fc27584c2ed2"
      },
      "execution_count": 704,
      "outputs": [
        {
          "output_type": "execute_result",
          "data": {
            "text/plain": [
              "array([16,  9, 15, ...,  8, 10, 10])"
            ]
          },
          "metadata": {},
          "execution_count": 704
        }
      ]
    },
    {
      "cell_type": "code",
      "source": [
        "X_test = df_test.drop(['Date'], axis = 1).iloc[:, 1:4].values"
      ],
      "metadata": {
        "id": "dM_1r5VlXn1K"
      },
      "execution_count": 705,
      "outputs": []
    },
    {
      "cell_type": "code",
      "source": [
        "X_test"
      ],
      "metadata": {
        "colab": {
          "base_uri": "https://localhost:8080/"
        },
        "id": "laxpibHXXyDG",
        "outputId": "106618aa-bec5-4ace-e6dd-d90efe5fd0fd"
      },
      "execution_count": 706,
      "outputs": [
        {
          "output_type": "execute_result",
          "data": {
            "text/plain": [
              "array([[ 741,  342,  694],\n",
              "       [ 741, 1424,  270],\n",
              "       [ 729,  691, 1137],\n",
              "       ...,\n",
              "       [ 801, 1223,  771],\n",
              "       [ 801,  238,  570],\n",
              "       [ 776,  412, 1089]])"
            ]
          },
          "metadata": {},
          "execution_count": 706
        }
      ]
    },
    {
      "cell_type": "markdown",
      "source": [
        "**Using XGBoost regression to predict the total corners for test set**"
      ],
      "metadata": {
        "id": "vixW1ndOYfeP"
      }
    },
    {
      "cell_type": "code",
      "source": [
        "from xgboost.sklearn import XGBRegressor\n",
        "regressor = XGBRegressor(silent = True)\n",
        "regressor.fit(X_train, y_train)\n",
        "# Get importance of features\n",
        "regressor.feature_importances_ "
      ],
      "metadata": {
        "colab": {
          "base_uri": "https://localhost:8080/"
        },
        "id": "SxGM1lB3YY68",
        "outputId": "99835d48-039b-41c7-cd14-c9184dec5934"
      },
      "execution_count": 707,
      "outputs": [
        {
          "output_type": "execute_result",
          "data": {
            "text/plain": [
              "array([0.65253305, 0.17722033, 0.17024665], dtype=float32)"
            ]
          },
          "metadata": {},
          "execution_count": 707
        }
      ]
    },
    {
      "cell_type": "markdown",
      "source": [
        "**Each feature is important in predicting corners so I won't remove any of them.**"
      ],
      "metadata": {
        "id": "tdv6G0RvZR5n"
      }
    },
    {
      "cell_type": "code",
      "source": [
        "y_pred = regressor.predict(X_test)"
      ],
      "metadata": {
        "id": "9wk1r7L7fW3Z"
      },
      "execution_count": 708,
      "outputs": []
    },
    {
      "cell_type": "code",
      "source": [
        "df_test['Total_Predicted_Corners'] = pd.DataFrame(data = y_pred)"
      ],
      "metadata": {
        "id": "2wXx7hjffcrL"
      },
      "execution_count": 709,
      "outputs": []
    },
    {
      "cell_type": "code",
      "source": [
        "df_test.columns"
      ],
      "metadata": {
        "colab": {
          "base_uri": "https://localhost:8080/"
        },
        "id": "q-sdboW6kHil",
        "outputId": "4ffb740c-fc91-421c-b4df-7cabcef7e91d"
      },
      "execution_count": 710,
      "outputs": [
        {
          "output_type": "execute_result",
          "data": {
            "text/plain": [
              "Index(['MatchId', 'LeagueId', 'Date', 'HomeTeamId', 'AwayTeamId', 'Line',\n",
              "       'Over', 'Under', 'P(Under)', 'P(At)', 'P(Over)', 'Bet (U/O)', 'Stake',\n",
              "       'Total_Predicted_Corners'],\n",
              "      dtype='object')"
            ]
          },
          "metadata": {},
          "execution_count": 710
        }
      ]
    },
    {
      "cell_type": "code",
      "source": [
        "df_test = df_test[['MatchId', 'LeagueId', 'Date', 'HomeTeamId', 'AwayTeamId', 'Total_Predicted_Corners', 'Line',\n",
        "       'Over', 'Under', 'P(Under)', 'P(At)', 'P(Over)', 'Bet (U/O)', 'Stake']]"
      ],
      "metadata": {
        "id": "sND7IIA_kRWE"
      },
      "execution_count": 711,
      "outputs": []
    },
    {
      "cell_type": "code",
      "source": [
        "df_test.head()"
      ],
      "metadata": {
        "colab": {
          "base_uri": "https://localhost:8080/",
          "height": 206
        },
        "id": "8QpJHzWZhBkI",
        "outputId": "4a9d770d-9f90-4292-c093-2245f5a8ff75"
      },
      "execution_count": 712,
      "outputs": [
        {
          "output_type": "execute_result",
          "data": {
            "text/plain": [
              "   MatchId  LeagueId        Date  HomeTeamId  AwayTeamId  \\\n",
              "0        1       741  01/04/2011         342         694   \n",
              "1        2       741  01/04/2011        1424         270   \n",
              "2        3       729  01/04/2011         691        1137   \n",
              "3        4       729  01/04/2011         787         808   \n",
              "4        5       741  01/04/2011         784        1117   \n",
              "\n",
              "   Total_Predicted_Corners  Line   Over  Under  P(Under)  P(At)  P(Over)  \\\n",
              "0                10.180111   9.5  1.790   1.80       NaN    NaN      NaN   \n",
              "1                10.700562  11.5  1.920   2.00       NaN    NaN      NaN   \n",
              "2                10.849359  10.5  1.970   1.87       NaN    NaN      NaN   \n",
              "3                10.799646  11.0  2.075   1.77       NaN    NaN      NaN   \n",
              "4                10.482979  12.0  2.020   1.86       NaN    NaN      NaN   \n",
              "\n",
              "   Bet (U/O)  Stake  \n",
              "0        NaN    NaN  \n",
              "1        NaN    NaN  \n",
              "2        NaN    NaN  \n",
              "3        NaN    NaN  \n",
              "4        NaN    NaN  "
            ],
            "text/html": [
              "\n",
              "  <div id=\"df-474f731c-de4f-4b45-8f5b-208d27a45645\">\n",
              "    <div class=\"colab-df-container\">\n",
              "      <div>\n",
              "<style scoped>\n",
              "    .dataframe tbody tr th:only-of-type {\n",
              "        vertical-align: middle;\n",
              "    }\n",
              "\n",
              "    .dataframe tbody tr th {\n",
              "        vertical-align: top;\n",
              "    }\n",
              "\n",
              "    .dataframe thead th {\n",
              "        text-align: right;\n",
              "    }\n",
              "</style>\n",
              "<table border=\"1\" class=\"dataframe\">\n",
              "  <thead>\n",
              "    <tr style=\"text-align: right;\">\n",
              "      <th></th>\n",
              "      <th>MatchId</th>\n",
              "      <th>LeagueId</th>\n",
              "      <th>Date</th>\n",
              "      <th>HomeTeamId</th>\n",
              "      <th>AwayTeamId</th>\n",
              "      <th>Total_Predicted_Corners</th>\n",
              "      <th>Line</th>\n",
              "      <th>Over</th>\n",
              "      <th>Under</th>\n",
              "      <th>P(Under)</th>\n",
              "      <th>P(At)</th>\n",
              "      <th>P(Over)</th>\n",
              "      <th>Bet (U/O)</th>\n",
              "      <th>Stake</th>\n",
              "    </tr>\n",
              "  </thead>\n",
              "  <tbody>\n",
              "    <tr>\n",
              "      <th>0</th>\n",
              "      <td>1</td>\n",
              "      <td>741</td>\n",
              "      <td>01/04/2011</td>\n",
              "      <td>342</td>\n",
              "      <td>694</td>\n",
              "      <td>10.180111</td>\n",
              "      <td>9.5</td>\n",
              "      <td>1.790</td>\n",
              "      <td>1.80</td>\n",
              "      <td>NaN</td>\n",
              "      <td>NaN</td>\n",
              "      <td>NaN</td>\n",
              "      <td>NaN</td>\n",
              "      <td>NaN</td>\n",
              "    </tr>\n",
              "    <tr>\n",
              "      <th>1</th>\n",
              "      <td>2</td>\n",
              "      <td>741</td>\n",
              "      <td>01/04/2011</td>\n",
              "      <td>1424</td>\n",
              "      <td>270</td>\n",
              "      <td>10.700562</td>\n",
              "      <td>11.5</td>\n",
              "      <td>1.920</td>\n",
              "      <td>2.00</td>\n",
              "      <td>NaN</td>\n",
              "      <td>NaN</td>\n",
              "      <td>NaN</td>\n",
              "      <td>NaN</td>\n",
              "      <td>NaN</td>\n",
              "    </tr>\n",
              "    <tr>\n",
              "      <th>2</th>\n",
              "      <td>3</td>\n",
              "      <td>729</td>\n",
              "      <td>01/04/2011</td>\n",
              "      <td>691</td>\n",
              "      <td>1137</td>\n",
              "      <td>10.849359</td>\n",
              "      <td>10.5</td>\n",
              "      <td>1.970</td>\n",
              "      <td>1.87</td>\n",
              "      <td>NaN</td>\n",
              "      <td>NaN</td>\n",
              "      <td>NaN</td>\n",
              "      <td>NaN</td>\n",
              "      <td>NaN</td>\n",
              "    </tr>\n",
              "    <tr>\n",
              "      <th>3</th>\n",
              "      <td>4</td>\n",
              "      <td>729</td>\n",
              "      <td>01/04/2011</td>\n",
              "      <td>787</td>\n",
              "      <td>808</td>\n",
              "      <td>10.799646</td>\n",
              "      <td>11.0</td>\n",
              "      <td>2.075</td>\n",
              "      <td>1.77</td>\n",
              "      <td>NaN</td>\n",
              "      <td>NaN</td>\n",
              "      <td>NaN</td>\n",
              "      <td>NaN</td>\n",
              "      <td>NaN</td>\n",
              "    </tr>\n",
              "    <tr>\n",
              "      <th>4</th>\n",
              "      <td>5</td>\n",
              "      <td>741</td>\n",
              "      <td>01/04/2011</td>\n",
              "      <td>784</td>\n",
              "      <td>1117</td>\n",
              "      <td>10.482979</td>\n",
              "      <td>12.0</td>\n",
              "      <td>2.020</td>\n",
              "      <td>1.86</td>\n",
              "      <td>NaN</td>\n",
              "      <td>NaN</td>\n",
              "      <td>NaN</td>\n",
              "      <td>NaN</td>\n",
              "      <td>NaN</td>\n",
              "    </tr>\n",
              "  </tbody>\n",
              "</table>\n",
              "</div>\n",
              "      <button class=\"colab-df-convert\" onclick=\"convertToInteractive('df-474f731c-de4f-4b45-8f5b-208d27a45645')\"\n",
              "              title=\"Convert this dataframe to an interactive table.\"\n",
              "              style=\"display:none;\">\n",
              "        \n",
              "  <svg xmlns=\"http://www.w3.org/2000/svg\" height=\"24px\"viewBox=\"0 0 24 24\"\n",
              "       width=\"24px\">\n",
              "    <path d=\"M0 0h24v24H0V0z\" fill=\"none\"/>\n",
              "    <path d=\"M18.56 5.44l.94 2.06.94-2.06 2.06-.94-2.06-.94-.94-2.06-.94 2.06-2.06.94zm-11 1L8.5 8.5l.94-2.06 2.06-.94-2.06-.94L8.5 2.5l-.94 2.06-2.06.94zm10 10l.94 2.06.94-2.06 2.06-.94-2.06-.94-.94-2.06-.94 2.06-2.06.94z\"/><path d=\"M17.41 7.96l-1.37-1.37c-.4-.4-.92-.59-1.43-.59-.52 0-1.04.2-1.43.59L10.3 9.45l-7.72 7.72c-.78.78-.78 2.05 0 2.83L4 21.41c.39.39.9.59 1.41.59.51 0 1.02-.2 1.41-.59l7.78-7.78 2.81-2.81c.8-.78.8-2.07 0-2.86zM5.41 20L4 18.59l7.72-7.72 1.47 1.35L5.41 20z\"/>\n",
              "  </svg>\n",
              "      </button>\n",
              "      \n",
              "  <style>\n",
              "    .colab-df-container {\n",
              "      display:flex;\n",
              "      flex-wrap:wrap;\n",
              "      gap: 12px;\n",
              "    }\n",
              "\n",
              "    .colab-df-convert {\n",
              "      background-color: #E8F0FE;\n",
              "      border: none;\n",
              "      border-radius: 50%;\n",
              "      cursor: pointer;\n",
              "      display: none;\n",
              "      fill: #1967D2;\n",
              "      height: 32px;\n",
              "      padding: 0 0 0 0;\n",
              "      width: 32px;\n",
              "    }\n",
              "\n",
              "    .colab-df-convert:hover {\n",
              "      background-color: #E2EBFA;\n",
              "      box-shadow: 0px 1px 2px rgba(60, 64, 67, 0.3), 0px 1px 3px 1px rgba(60, 64, 67, 0.15);\n",
              "      fill: #174EA6;\n",
              "    }\n",
              "\n",
              "    [theme=dark] .colab-df-convert {\n",
              "      background-color: #3B4455;\n",
              "      fill: #D2E3FC;\n",
              "    }\n",
              "\n",
              "    [theme=dark] .colab-df-convert:hover {\n",
              "      background-color: #434B5C;\n",
              "      box-shadow: 0px 1px 3px 1px rgba(0, 0, 0, 0.15);\n",
              "      filter: drop-shadow(0px 1px 2px rgba(0, 0, 0, 0.3));\n",
              "      fill: #FFFFFF;\n",
              "    }\n",
              "  </style>\n",
              "\n",
              "      <script>\n",
              "        const buttonEl =\n",
              "          document.querySelector('#df-474f731c-de4f-4b45-8f5b-208d27a45645 button.colab-df-convert');\n",
              "        buttonEl.style.display =\n",
              "          google.colab.kernel.accessAllowed ? 'block' : 'none';\n",
              "\n",
              "        async function convertToInteractive(key) {\n",
              "          const element = document.querySelector('#df-474f731c-de4f-4b45-8f5b-208d27a45645');\n",
              "          const dataTable =\n",
              "            await google.colab.kernel.invokeFunction('convertToInteractive',\n",
              "                                                     [key], {});\n",
              "          if (!dataTable) return;\n",
              "\n",
              "          const docLinkHtml = 'Like what you see? Visit the ' +\n",
              "            '<a target=\"_blank\" href=https://colab.research.google.com/notebooks/data_table.ipynb>data table notebook</a>'\n",
              "            + ' to learn more about interactive tables.';\n",
              "          element.innerHTML = '';\n",
              "          dataTable['output_type'] = 'display_data';\n",
              "          await google.colab.output.renderOutput(dataTable, element);\n",
              "          const docLink = document.createElement('div');\n",
              "          docLink.innerHTML = docLinkHtml;\n",
              "          element.appendChild(docLink);\n",
              "        }\n",
              "      </script>\n",
              "    </div>\n",
              "  </div>\n",
              "  "
            ]
          },
          "metadata": {},
          "execution_count": 712
        }
      ]
    },
    {
      "cell_type": "code",
      "source": [
        "import warnings\n",
        "warnings.filterwarnings(\"ignore\")\n",
        "sns.set(style=\"ticks\")\n",
        "x = df_test['Total_Predicted_Corners']\n",
        "f, (ax_box, ax_hist) = plt.subplots(2, sharex=True, \n",
        "                                    gridspec_kw={\"height_ratios\": (.15, .85)})\n",
        "sns.boxplot(x, ax=ax_box)\n",
        "sns.distplot(x, ax=ax_hist)\n",
        "ax_box.set(yticks=[])\n",
        "sns.despine(ax=ax_hist)\n",
        "sns.despine(ax=ax_box, left=True)"
      ],
      "metadata": {
        "colab": {
          "base_uri": "https://localhost:8080/",
          "height": 285
        },
        "id": "WaA-lDGl0s92",
        "outputId": "7731055e-c276-4527-c1e1-22d1f56625ff"
      },
      "execution_count": 713,
      "outputs": [
        {
          "output_type": "display_data",
          "data": {
            "text/plain": [
              "<Figure size 432x288 with 2 Axes>"
            ],
            "image/png": "[encoded data removed]"
          },
          "metadata": {}
        }
      ]
    },
    {
      "cell_type": "code",
      "source": [
        "stats.ttest_ind(df_train['Total_Corners'], df_test['Total_Predicted_Corners'])"
      ],
      "metadata": {
        "colab": {
          "base_uri": "https://localhost:8080/"
        },
        "id": "QiKfw-g-xmaM",
        "outputId": "0f2fbca2-4bd5-4775-8f66-02a282ebafda"
      },
      "execution_count": 714,
      "outputs": [
        {
          "output_type": "execute_result",
          "data": {
            "text/plain": [
              "Ttest_indResult(statistic=-0.24956897879847673, pvalue=0.802922811822249)"
            ]
          },
          "metadata": {},
          "execution_count": 714
        }
      ]
    },
    {
      "cell_type": "markdown",
      "source": [
        "**As pvalue > 0.05, we can assume Total Corners in test follows the same distribution as Total Corners in the train, as they have the same mean to this significance. As the data follows a discrete distribution with a constant mean and bell curve shape I will assume it's Poisson distributed.**"
      ],
      "metadata": {
        "id": "pXyET_miyI6Y"
      }
    },
    {
      "cell_type": "code",
      "source": [
        "df_test['Total_Predicted_Corners'].mean()"
      ],
      "metadata": {
        "colab": {
          "base_uri": "https://localhost:8080/"
        },
        "id": "gHLxzRRLyBs4",
        "outputId": "0ec8140b-3806-420a-dc79-deb7ec4e0809"
      },
      "execution_count": 715,
      "outputs": [
        {
          "output_type": "execute_result",
          "data": {
            "text/plain": [
              "10.266132"
            ]
          },
          "metadata": {},
          "execution_count": 715
        }
      ]
    },
    {
      "cell_type": "code",
      "source": [
        "df_train['Total_Corners'].mean()"
      ],
      "metadata": {
        "colab": {
          "base_uri": "https://localhost:8080/"
        },
        "id": "jr1ZChxh2y36",
        "outputId": "3fd61a64-7f49-43c6-e4f8-0425611a7439"
      },
      "execution_count": 716,
      "outputs": [
        {
          "output_type": "execute_result",
          "data": {
            "text/plain": [
              "10.21947125472094"
            ]
          },
          "metadata": {},
          "execution_count": 716
        }
      ]
    },
    {
      "cell_type": "code",
      "source": [
        "mu = df_train['Total_Corners'].mean()\n",
        "from scipy.stats import poisson\n",
        "from math import floor   \n",
        "df_test['P(At)'] = np.select([(2*df_test['Line'] % 2 != 0), (2*df_test['Line'] % 2 == 0)],\n",
        "[0, poisson.pmf(df_test['Line'], mu)])\n",
        "df_test['P(Over)'] = 1 - poisson.cdf(df_test['Line'], mu)\n",
        "df_test['P(Under)'] = poisson.cdf(df_test['Line'], mu) - df_test['P(At)']\n",
        "       "
      ],
      "metadata": {
        "id": "D5SFp0WdAIkb"
      },
      "execution_count": 717,
      "outputs": []
    },
    {
      "cell_type": "code",
      "source": [
        "df_test.head()"
      ],
      "metadata": {
        "colab": {
          "base_uri": "https://localhost:8080/",
          "height": 250
        },
        "id": "_Wz_e3L8DCoS",
        "outputId": "ca5591f1-f6cd-42fe-ad54-4e8c86f48ef6"
      },
      "execution_count": 718,
      "outputs": [
        {
          "output_type": "execute_result",
          "data": {
            "text/plain": [
              "   MatchId  LeagueId        Date  HomeTeamId  AwayTeamId  \\\n",
              "0        1       741  01/04/2011         342         694   \n",
              "1        2       741  01/04/2011        1424         270   \n",
              "2        3       729  01/04/2011         691        1137   \n",
              "3        4       729  01/04/2011         787         808   \n",
              "4        5       741  01/04/2011         784        1117   \n",
              "\n",
              "   Total_Predicted_Corners  Line   Over  Under  P(Under)     P(At)   P(Over)  \\\n",
              "0                10.180111   9.5  1.790   1.80  0.430790  0.000000  0.569210   \n",
              "1                10.700562  11.5  1.920   2.00  0.671560  0.000000  0.328440   \n",
              "2                10.849359  10.5  1.970   1.87  0.555603  0.000000  0.444397   \n",
              "3                10.799646  11.0  2.075   1.77  0.555603  0.115957  0.328440   \n",
              "4                10.482979  12.0  2.020   1.86  0.671560  0.098752  0.229688   \n",
              "\n",
              "   Bet (U/O)  Stake  \n",
              "0        NaN    NaN  \n",
              "1        NaN    NaN  \n",
              "2        NaN    NaN  \n",
              "3        NaN    NaN  \n",
              "4        NaN    NaN  "
            ],
            "text/html": [
              "\n",
              "  <div id=\"df-4b1a4502-bbd0-4151-bdc1-69d38f960b2d\">\n",
              "    <div class=\"colab-df-container\">\n",
              "      <div>\n",
              "<style scoped>\n",
              "    .dataframe tbody tr th:only-of-type {\n",
              "        vertical-align: middle;\n",
              "    }\n",
              "\n",
              "    .dataframe tbody tr th {\n",
              "        vertical-align: top;\n",
              "    }\n",
              "\n",
              "    .dataframe thead th {\n",
              "        text-align: right;\n",
              "    }\n",
              "</style>\n",
              "<table border=\"1\" class=\"dataframe\">\n",
              "  <thead>\n",
              "    <tr style=\"text-align: right;\">\n",
              "      <th></th>\n",
              "      <th>MatchId</th>\n",
              "      <th>LeagueId</th>\n",
              "      <th>Date</th>\n",
              "      <th>HomeTeamId</th>\n",
              "      <th>AwayTeamId</th>\n",
              "      <th>Total_Predicted_Corners</th>\n",
              "      <th>Line</th>\n",
              "      <th>Over</th>\n",
              "      <th>Under</th>\n",
              "      <th>P(Under)</th>\n",
              "      <th>P(At)</th>\n",
              "      <th>P(Over)</th>\n",
              "      <th>Bet (U/O)</th>\n",
              "      <th>Stake</th>\n",
              "    </tr>\n",
              "  </thead>\n",
              "  <tbody>\n",
              "    <tr>\n",
              "      <th>0</th>\n",
              "      <td>1</td>\n",
              "      <td>741</td>\n",
              "      <td>01/04/2011</td>\n",
              "      <td>342</td>\n",
              "      <td>694</td>\n",
              "      <td>10.180111</td>\n",
              "      <td>9.5</td>\n",
              "      <td>1.790</td>\n",
              "      <td>1.80</td>\n",
              "      <td>0.430790</td>\n",
              "      <td>0.000000</td>\n",
              "      <td>0.569210</td>\n",
              "      <td>NaN</td>\n",
              "      <td>NaN</td>\n",
              "    </tr>\n",
              "    <tr>\n",
              "      <th>1</th>\n",
              "      <td>2</td>\n",
              "      <td>741</td>\n",
              "      <td>01/04/2011</td>\n",
              "      <td>1424</td>\n",
              "      <td>270</td>\n",
              "      <td>10.700562</td>\n",
              "      <td>11.5</td>\n",
              "      <td>1.920</td>\n",
              "      <td>2.00</td>\n",
              "      <td>0.671560</td>\n",
              "      <td>0.000000</td>\n",
              "      <td>0.328440</td>\n",
              "      <td>NaN</td>\n",
              "      <td>NaN</td>\n",
              "    </tr>\n",
              "    <tr>\n",
              "      <th>2</th>\n",
              "      <td>3</td>\n",
              "      <td>729</td>\n",
              "      <td>01/04/2011</td>\n",
              "      <td>691</td>\n",
              "      <td>1137</td>\n",
              "      <td>10.849359</td>\n",
              "      <td>10.5</td>\n",
              "      <td>1.970</td>\n",
              "      <td>1.87</td>\n",
              "      <td>0.555603</td>\n",
              "      <td>0.000000</td>\n",
              "      <td>0.444397</td>\n",
              "      <td>NaN</td>\n",
              "      <td>NaN</td>\n",
              "    </tr>\n",
              "    <tr>\n",
              "      <th>3</th>\n",
              "      <td>4</td>\n",
              "      <td>729</td>\n",
              "      <td>01/04/2011</td>\n",
              "      <td>787</td>\n",
              "      <td>808</td>\n",
              "      <td>10.799646</td>\n",
              "      <td>11.0</td>\n",
              "      <td>2.075</td>\n",
              "      <td>1.77</td>\n",
              "      <td>0.555603</td>\n",
              "      <td>0.115957</td>\n",
              "      <td>0.328440</td>\n",
              "      <td>NaN</td>\n",
              "      <td>NaN</td>\n",
              "    </tr>\n",
              "    <tr>\n",
              "      <th>4</th>\n",
              "      <td>5</td>\n",
              "      <td>741</td>\n",
              "      <td>01/04/2011</td>\n",
              "      <td>784</td>\n",
              "      <td>1117</td>\n",
              "      <td>10.482979</td>\n",
              "      <td>12.0</td>\n",
              "      <td>2.020</td>\n",
              "      <td>1.86</td>\n",
              "      <td>0.671560</td>\n",
              "      <td>0.098752</td>\n",
              "      <td>0.229688</td>\n",
              "      <td>NaN</td>\n",
              "      <td>NaN</td>\n",
              "    </tr>\n",
              "  </tbody>\n",
              "</table>\n",
              "</div>\n",
              "      <button class=\"colab-df-convert\" onclick=\"convertToInteractive('df-4b1a4502-bbd0-4151-bdc1-69d38f960b2d')\"\n",
              "              title=\"Convert this dataframe to an interactive table.\"\n",
              "              style=\"display:none;\">\n",
              "        \n",
              "  <svg xmlns=\"http://www.w3.org/2000/svg\" height=\"24px\"viewBox=\"0 0 24 24\"\n",
              "       width=\"24px\">\n",
              "    <path d=\"M0 0h24v24H0V0z\" fill=\"none\"/>\n",
              "    <path d=\"M18.56 5.44l.94 2.06.94-2.06 2.06-.94-2.06-.94-.94-2.06-.94 2.06-2.06.94zm-11 1L8.5 8.5l.94-2.06 2.06-.94-2.06-.94L8.5 2.5l-.94 2.06-2.06.94zm10 10l.94 2.06.94-2.06 2.06-.94-2.06-.94-.94-2.06-.94 2.06-2.06.94z\"/><path d=\"M17.41 7.96l-1.37-1.37c-.4-.4-.92-.59-1.43-.59-.52 0-1.04.2-1.43.59L10.3 9.45l-7.72 7.72c-.78.78-.78 2.05 0 2.83L4 21.41c.39.39.9.59 1.41.59.51 0 1.02-.2 1.41-.59l7.78-7.78 2.81-2.81c.8-.78.8-2.07 0-2.86zM5.41 20L4 18.59l7.72-7.72 1.47 1.35L5.41 20z\"/>\n",
              "  </svg>\n",
              "      </button>\n",
              "      \n",
              "  <style>\n",
              "    .colab-df-container {\n",
              "      display:flex;\n",
              "      flex-wrap:wrap;\n",
              "      gap: 12px;\n",
              "    }\n",
              "\n",
              "    .colab-df-convert {\n",
              "      background-color: #E8F0FE;\n",
              "      border: none;\n",
              "      border-radius: 50%;\n",
              "      cursor: pointer;\n",
              "      display: none;\n",
              "      fill: #1967D2;\n",
              "      height: 32px;\n",
              "      padding: 0 0 0 0;\n",
              "      width: 32px;\n",
              "    }\n",
              "\n",
              "    .colab-df-convert:hover {\n",
              "      background-color: #E2EBFA;\n",
              "      box-shadow: 0px 1px 2px rgba(60, 64, 67, 0.3), 0px 1px 3px 1px rgba(60, 64, 67, 0.15);\n",
              "      fill: #174EA6;\n",
              "    }\n",
              "\n",
              "    [theme=dark] .colab-df-convert {\n",
              "      background-color: #3B4455;\n",
              "      fill: #D2E3FC;\n",
              "    }\n",
              "\n",
              "    [theme=dark] .colab-df-convert:hover {\n",
              "      background-color: #434B5C;\n",
              "      box-shadow: 0px 1px 3px 1px rgba(0, 0, 0, 0.15);\n",
              "      filter: drop-shadow(0px 1px 2px rgba(0, 0, 0, 0.3));\n",
              "      fill: #FFFFFF;\n",
              "    }\n",
              "  </style>\n",
              "\n",
              "      <script>\n",
              "        const buttonEl =\n",
              "          document.querySelector('#df-4b1a4502-bbd0-4151-bdc1-69d38f960b2d button.colab-df-convert');\n",
              "        buttonEl.style.display =\n",
              "          google.colab.kernel.accessAllowed ? 'block' : 'none';\n",
              "\n",
              "        async function convertToInteractive(key) {\n",
              "          const element = document.querySelector('#df-4b1a4502-bbd0-4151-bdc1-69d38f960b2d');\n",
              "          const dataTable =\n",
              "            await google.colab.kernel.invokeFunction('convertToInteractive',\n",
              "                                                     [key], {});\n",
              "          if (!dataTable) return;\n",
              "\n",
              "          const docLinkHtml = 'Like what you see? Visit the ' +\n",
              "            '<a target=\"_blank\" href=https://colab.research.google.com/notebooks/data_table.ipynb>data table notebook</a>'\n",
              "            + ' to learn more about interactive tables.';\n",
              "          element.innerHTML = '';\n",
              "          dataTable['output_type'] = 'display_data';\n",
              "          await google.colab.output.renderOutput(dataTable, element);\n",
              "          const docLink = document.createElement('div');\n",
              "          docLink.innerHTML = docLinkHtml;\n",
              "          element.appendChild(docLink);\n",
              "        }\n",
              "      </script>\n",
              "    </div>\n",
              "  </div>\n",
              "  "
            ]
          },
          "metadata": {},
          "execution_count": 718
        }
      ]
    },
    {
      "cell_type": "code",
      "source": [
        "df_test['Line'].value_counts()"
      ],
      "metadata": {
        "colab": {
          "base_uri": "https://localhost:8080/"
        },
        "id": "nSqzXYHb2E1q",
        "outputId": "36473a40-0433-4ce6-86c1-d2eb78aecff0"
      },
      "execution_count": 719,
      "outputs": [
        {
          "output_type": "execute_result",
          "data": {
            "text/plain": [
              "10.0    80\n",
              "10.5    77\n",
              "11.0    76\n",
              "9.5     60\n",
              "11.5    27\n",
              "12.0    14\n",
              "9.0      7\n",
              "Name: Line, dtype: int64"
            ]
          },
          "metadata": {},
          "execution_count": 719
        }
      ]
    },
    {
      "cell_type": "markdown",
      "source": [
        "**As there are no quarter lines we only need to focus filtering half or full line below.**"
      ],
      "metadata": {
        "id": "RNw5yjhi2r8j"
      }
    },
    {
      "cell_type": "code",
      "source": [
        "\"\"\"Finding expected values of different bets depending if they're based of half lines or not.\n",
        "If it's a half line your stake cannot be refunded to you when you get the exact number of corners.\n",
        "When it's a half line you just need to add df_test['P(At)'] on both conditions, so it's the same comparison\n",
        "for both.\"\"\"\n",
        "df_test['Bet (U/O)'] = np.select([((df_test['Over'] - 1)*df_test['P(Over)'] - df_test['P(Under)'] >  \n",
        "(df_test['Under'] - 1)*df_test['P(Under)'] - df_test['P(Over)']),((df_test['Under'] - 1)*df_test['P(Under)'] - df_test['P(Over)'] >  \n",
        "(df_test['Over'] - 1)*df_test['P(Over)'] - df_test['P(Under)'])],['O','U']) "
      ],
      "metadata": {
        "id": "rJRHx2TcI9ZS"
      },
      "execution_count": 720,
      "outputs": []
    },
    {
      "cell_type": "code",
      "source": [
        "df_test.head()"
      ],
      "metadata": {
        "colab": {
          "base_uri": "https://localhost:8080/",
          "height": 250
        },
        "id": "TOtJFbEjJxCg",
        "outputId": "a347771b-dabe-4bee-e3a8-b318c2cc2113"
      },
      "execution_count": 721,
      "outputs": [
        {
          "output_type": "execute_result",
          "data": {
            "text/plain": [
              "   MatchId  LeagueId        Date  HomeTeamId  AwayTeamId  \\\n",
              "0        1       741  01/04/2011         342         694   \n",
              "1        2       741  01/04/2011        1424         270   \n",
              "2        3       729  01/04/2011         691        1137   \n",
              "3        4       729  01/04/2011         787         808   \n",
              "4        5       741  01/04/2011         784        1117   \n",
              "\n",
              "   Total_Predicted_Corners  Line   Over  Under  P(Under)     P(At)   P(Over)  \\\n",
              "0                10.180111   9.5  1.790   1.80  0.430790  0.000000  0.569210   \n",
              "1                10.700562  11.5  1.920   2.00  0.671560  0.000000  0.328440   \n",
              "2                10.849359  10.5  1.970   1.87  0.555603  0.000000  0.444397   \n",
              "3                10.799646  11.0  2.075   1.77  0.555603  0.115957  0.328440   \n",
              "4                10.482979  12.0  2.020   1.86  0.671560  0.098752  0.229688   \n",
              "\n",
              "  Bet (U/O)  Stake  \n",
              "0         O    NaN  \n",
              "1         U    NaN  \n",
              "2         U    NaN  \n",
              "3         U    NaN  \n",
              "4         U    NaN  "
            ],
            "text/html": [
              "\n",
              "  <div id=\"df-9e30505e-affd-432a-b853-43a7dca53534\">\n",
              "    <div class=\"colab-df-container\">\n",
              "      <div>\n",
              "<style scoped>\n",
              "    .dataframe tbody tr th:only-of-type {\n",
              "        vertical-align: middle;\n",
              "    }\n",
              "\n",
              "    .dataframe tbody tr th {\n",
              "        vertical-align: top;\n",
              "    }\n",
              "\n",
              "    .dataframe thead th {\n",
              "        text-align: right;\n",
              "    }\n",
              "</style>\n",
              "<table border=\"1\" class=\"dataframe\">\n",
              "  <thead>\n",
              "    <tr style=\"text-align: right;\">\n",
              "      <th></th>\n",
              "      <th>MatchId</th>\n",
              "      <th>LeagueId</th>\n",
              "      <th>Date</th>\n",
              "      <th>HomeTeamId</th>\n",
              "      <th>AwayTeamId</th>\n",
              "      <th>Total_Predicted_Corners</th>\n",
              "      <th>Line</th>\n",
              "      <th>Over</th>\n",
              "      <th>Under</th>\n",
              "      <th>P(Under)</th>\n",
              "      <th>P(At)</th>\n",
              "      <th>P(Over)</th>\n",
              "      <th>Bet (U/O)</th>\n",
              "      <th>Stake</th>\n",
              "    </tr>\n",
              "  </thead>\n",
              "  <tbody>\n",
              "    <tr>\n",
              "      <th>0</th>\n",
              "      <td>1</td>\n",
              "      <td>741</td>\n",
              "      <td>01/04/2011</td>\n",
              "      <td>342</td>\n",
              "      <td>694</td>\n",
              "      <td>10.180111</td>\n",
              "      <td>9.5</td>\n",
              "      <td>1.790</td>\n",
              "      <td>1.80</td>\n",
              "      <td>0.430790</td>\n",
              "      <td>0.000000</td>\n",
              "      <td>0.569210</td>\n",
              "      <td>O</td>\n",
              "      <td>NaN</td>\n",
              "    </tr>\n",
              "    <tr>\n",
              "      <th>1</th>\n",
              "      <td>2</td>\n",
              "      <td>741</td>\n",
              "      <td>01/04/2011</td>\n",
              "      <td>1424</td>\n",
              "      <td>270</td>\n",
              "      <td>10.700562</td>\n",
              "      <td>11.5</td>\n",
              "      <td>1.920</td>\n",
              "      <td>2.00</td>\n",
              "      <td>0.671560</td>\n",
              "      <td>0.000000</td>\n",
              "      <td>0.328440</td>\n",
              "      <td>U</td>\n",
              "      <td>NaN</td>\n",
              "    </tr>\n",
              "    <tr>\n",
              "      <th>2</th>\n",
              "      <td>3</td>\n",
              "      <td>729</td>\n",
              "      <td>01/04/2011</td>\n",
              "      <td>691</td>\n",
              "      <td>1137</td>\n",
              "      <td>10.849359</td>\n",
              "      <td>10.5</td>\n",
              "      <td>1.970</td>\n",
              "      <td>1.87</td>\n",
              "      <td>0.555603</td>\n",
              "      <td>0.000000</td>\n",
              "      <td>0.444397</td>\n",
              "      <td>U</td>\n",
              "      <td>NaN</td>\n",
              "    </tr>\n",
              "    <tr>\n",
              "      <th>3</th>\n",
              "      <td>4</td>\n",
              "      <td>729</td>\n",
              "      <td>01/04/2011</td>\n",
              "      <td>787</td>\n",
              "      <td>808</td>\n",
              "      <td>10.799646</td>\n",
              "      <td>11.0</td>\n",
              "      <td>2.075</td>\n",
              "      <td>1.77</td>\n",
              "      <td>0.555603</td>\n",
              "      <td>0.115957</td>\n",
              "      <td>0.328440</td>\n",
              "      <td>U</td>\n",
              "      <td>NaN</td>\n",
              "    </tr>\n",
              "    <tr>\n",
              "      <th>4</th>\n",
              "      <td>5</td>\n",
              "      <td>741</td>\n",
              "      <td>01/04/2011</td>\n",
              "      <td>784</td>\n",
              "      <td>1117</td>\n",
              "      <td>10.482979</td>\n",
              "      <td>12.0</td>\n",
              "      <td>2.020</td>\n",
              "      <td>1.86</td>\n",
              "      <td>0.671560</td>\n",
              "      <td>0.098752</td>\n",
              "      <td>0.229688</td>\n",
              "      <td>U</td>\n",
              "      <td>NaN</td>\n",
              "    </tr>\n",
              "  </tbody>\n",
              "</table>\n",
              "</div>\n",
              "      <button class=\"colab-df-convert\" onclick=\"convertToInteractive('df-9e30505e-affd-432a-b853-43a7dca53534')\"\n",
              "              title=\"Convert this dataframe to an interactive table.\"\n",
              "              style=\"display:none;\">\n",
              "        \n",
              "  <svg xmlns=\"http://www.w3.org/2000/svg\" height=\"24px\"viewBox=\"0 0 24 24\"\n",
              "       width=\"24px\">\n",
              "    <path d=\"M0 0h24v24H0V0z\" fill=\"none\"/>\n",
              "    <path d=\"M18.56 5.44l.94 2.06.94-2.06 2.06-.94-2.06-.94-.94-2.06-.94 2.06-2.06.94zm-11 1L8.5 8.5l.94-2.06 2.06-.94-2.06-.94L8.5 2.5l-.94 2.06-2.06.94zm10 10l.94 2.06.94-2.06 2.06-.94-2.06-.94-.94-2.06-.94 2.06-2.06.94z\"/><path d=\"M17.41 7.96l-1.37-1.37c-.4-.4-.92-.59-1.43-.59-.52 0-1.04.2-1.43.59L10.3 9.45l-7.72 7.72c-.78.78-.78 2.05 0 2.83L4 21.41c.39.39.9.59 1.41.59.51 0 1.02-.2 1.41-.59l7.78-7.78 2.81-2.81c.8-.78.8-2.07 0-2.86zM5.41 20L4 18.59l7.72-7.72 1.47 1.35L5.41 20z\"/>\n",
              "  </svg>\n",
              "      </button>\n",
              "      \n",
              "  <style>\n",
              "    .colab-df-container {\n",
              "      display:flex;\n",
              "      flex-wrap:wrap;\n",
              "      gap: 12px;\n",
              "    }\n",
              "\n",
              "    .colab-df-convert {\n",
              "      background-color: #E8F0FE;\n",
              "      border: none;\n",
              "      border-radius: 50%;\n",
              "      cursor: pointer;\n",
              "      display: none;\n",
              "      fill: #1967D2;\n",
              "      height: 32px;\n",
              "      padding: 0 0 0 0;\n",
              "      width: 32px;\n",
              "    }\n",
              "\n",
              "    .colab-df-convert:hover {\n",
              "      background-color: #E2EBFA;\n",
              "      box-shadow: 0px 1px 2px rgba(60, 64, 67, 0.3), 0px 1px 3px 1px rgba(60, 64, 67, 0.15);\n",
              "      fill: #174EA6;\n",
              "    }\n",
              "\n",
              "    [theme=dark] .colab-df-convert {\n",
              "      background-color: #3B4455;\n",
              "      fill: #D2E3FC;\n",
              "    }\n",
              "\n",
              "    [theme=dark] .colab-df-convert:hover {\n",
              "      background-color: #434B5C;\n",
              "      box-shadow: 0px 1px 3px 1px rgba(0, 0, 0, 0.15);\n",
              "      filter: drop-shadow(0px 1px 2px rgba(0, 0, 0, 0.3));\n",
              "      fill: #FFFFFF;\n",
              "    }\n",
              "  </style>\n",
              "\n",
              "      <script>\n",
              "        const buttonEl =\n",
              "          document.querySelector('#df-9e30505e-affd-432a-b853-43a7dca53534 button.colab-df-convert');\n",
              "        buttonEl.style.display =\n",
              "          google.colab.kernel.accessAllowed ? 'block' : 'none';\n",
              "\n",
              "        async function convertToInteractive(key) {\n",
              "          const element = document.querySelector('#df-9e30505e-affd-432a-b853-43a7dca53534');\n",
              "          const dataTable =\n",
              "            await google.colab.kernel.invokeFunction('convertToInteractive',\n",
              "                                                     [key], {});\n",
              "          if (!dataTable) return;\n",
              "\n",
              "          const docLinkHtml = 'Like what you see? Visit the ' +\n",
              "            '<a target=\"_blank\" href=https://colab.research.google.com/notebooks/data_table.ipynb>data table notebook</a>'\n",
              "            + ' to learn more about interactive tables.';\n",
              "          element.innerHTML = '';\n",
              "          dataTable['output_type'] = 'display_data';\n",
              "          await google.colab.output.renderOutput(dataTable, element);\n",
              "          const docLink = document.createElement('div');\n",
              "          docLink.innerHTML = docLinkHtml;\n",
              "          element.appendChild(docLink);\n",
              "        }\n",
              "      </script>\n",
              "    </div>\n",
              "  </div>\n",
              "  "
            ]
          },
          "metadata": {},
          "execution_count": 721
        }
      ]
    },
    {
      "cell_type": "markdown",
      "source": [
        "**Creating a new field to measure expected profit proportionally for each bet**"
      ],
      "metadata": {
        "id": "8ZfbOiat8qBw"
      }
    },
    {
      "cell_type": "code",
      "source": [
        "df_test[\"E(Bet(U/O))\"] = np.nan\n",
        "df_test['E(Bet(U/O))'] = np.select([((df_test['Bet (U/O)'] == \"O\") & (df_test['P(At)'] != 0)),((df_test['Bet (U/O)'] == \"U\") & (df_test['P(At)'] != 0)),\n",
        "((df_test['Bet (U/O)'] == \"O\") & (df_test['P(At)'] == 0)),((df_test['Bet (U/O)'] == \"U\") & (df_test['P(At)'] == 0))],\n",
        "[(df_test['Over'] - 1)*df_test['P(Over)'] - df_test['P(Under)'],(df_test['Under'] - 1)*df_test['P(Under)'] - df_test['P(Over)'],\n",
        "(df_test['Over'] - 1)*df_test['P(Over)'] + df_test['P(At)'] - df_test['P(Under)'],(df_test['Under'] - 1)*df_test['P(Under)'] + df_test['P(At)'] - df_test['P(Over)']])"
      ],
      "metadata": {
        "id": "-ODHljHsUjuP"
      },
      "execution_count": 722,
      "outputs": []
    },
    {
      "cell_type": "code",
      "source": [
        "df_test.head()"
      ],
      "metadata": {
        "colab": {
          "base_uri": "https://localhost:8080/",
          "height": 287
        },
        "id": "sjpJBKHkCsUJ",
        "outputId": "dd6b5637-5d84-499b-8b76-ea7331de8947"
      },
      "execution_count": 723,
      "outputs": [
        {
          "output_type": "execute_result",
          "data": {
            "text/plain": [
              "   MatchId  LeagueId        Date  HomeTeamId  AwayTeamId  \\\n",
              "0        1       741  01/04/2011         342         694   \n",
              "1        2       741  01/04/2011        1424         270   \n",
              "2        3       729  01/04/2011         691        1137   \n",
              "3        4       729  01/04/2011         787         808   \n",
              "4        5       741  01/04/2011         784        1117   \n",
              "\n",
              "   Total_Predicted_Corners  Line   Over  Under  P(Under)     P(At)   P(Over)  \\\n",
              "0                10.180111   9.5  1.790   1.80  0.430790  0.000000  0.569210   \n",
              "1                10.700562  11.5  1.920   2.00  0.671560  0.000000  0.328440   \n",
              "2                10.849359  10.5  1.970   1.87  0.555603  0.000000  0.444397   \n",
              "3                10.799646  11.0  2.075   1.77  0.555603  0.115957  0.328440   \n",
              "4                10.482979  12.0  2.020   1.86  0.671560  0.098752  0.229688   \n",
              "\n",
              "  Bet (U/O)  Stake  E(Bet(U/O))  \n",
              "0         O    NaN     0.018886  \n",
              "1         U    NaN     0.343121  \n",
              "2         U    NaN     0.038979  \n",
              "3         U    NaN     0.099375  \n",
              "4         U    NaN     0.347854  "
            ],
            "text/html": [
              "\n",
              "  <div id=\"df-0a726e62-0d6f-45e4-9d72-9b55038899e7\">\n",
              "    <div class=\"colab-df-container\">\n",
              "      <div>\n",
              "<style scoped>\n",
              "    .dataframe tbody tr th:only-of-type {\n",
              "        vertical-align: middle;\n",
              "    }\n",
              "\n",
              "    .dataframe tbody tr th {\n",
              "        vertical-align: top;\n",
              "    }\n",
              "\n",
              "    .dataframe thead th {\n",
              "        text-align: right;\n",
              "    }\n",
              "</style>\n",
              "<table border=\"1\" class=\"dataframe\">\n",
              "  <thead>\n",
              "    <tr style=\"text-align: right;\">\n",
              "      <th></th>\n",
              "      <th>MatchId</th>\n",
              "      <th>LeagueId</th>\n",
              "      <th>Date</th>\n",
              "      <th>HomeTeamId</th>\n",
              "      <th>AwayTeamId</th>\n",
              "      <th>Total_Predicted_Corners</th>\n",
              "      <th>Line</th>\n",
              "      <th>Over</th>\n",
              "      <th>Under</th>\n",
              "      <th>P(Under)</th>\n",
              "      <th>P(At)</th>\n",
              "      <th>P(Over)</th>\n",
              "      <th>Bet (U/O)</th>\n",
              "      <th>Stake</th>\n",
              "      <th>E(Bet(U/O))</th>\n",
              "    </tr>\n",
              "  </thead>\n",
              "  <tbody>\n",
              "    <tr>\n",
              "      <th>0</th>\n",
              "      <td>1</td>\n",
              "      <td>741</td>\n",
              "      <td>01/04/2011</td>\n",
              "      <td>342</td>\n",
              "      <td>694</td>\n",
              "      <td>10.180111</td>\n",
              "      <td>9.5</td>\n",
              "      <td>1.790</td>\n",
              "      <td>1.80</td>\n",
              "      <td>0.430790</td>\n",
              "      <td>0.000000</td>\n",
              "      <td>0.569210</td>\n",
              "      <td>O</td>\n",
              "      <td>NaN</td>\n",
              "      <td>0.018886</td>\n",
              "    </tr>\n",
              "    <tr>\n",
              "      <th>1</th>\n",
              "      <td>2</td>\n",
              "      <td>741</td>\n",
              "      <td>01/04/2011</td>\n",
              "      <td>1424</td>\n",
              "      <td>270</td>\n",
              "      <td>10.700562</td>\n",
              "      <td>11.5</td>\n",
              "      <td>1.920</td>\n",
              "      <td>2.00</td>\n",
              "      <td>0.671560</td>\n",
              "      <td>0.000000</td>\n",
              "      <td>0.328440</td>\n",
              "      <td>U</td>\n",
              "      <td>NaN</td>\n",
              "      <td>0.343121</td>\n",
              "    </tr>\n",
              "    <tr>\n",
              "      <th>2</th>\n",
              "      <td>3</td>\n",
              "      <td>729</td>\n",
              "      <td>01/04/2011</td>\n",
              "      <td>691</td>\n",
              "      <td>1137</td>\n",
              "      <td>10.849359</td>\n",
              "      <td>10.5</td>\n",
              "      <td>1.970</td>\n",
              "      <td>1.87</td>\n",
              "      <td>0.555603</td>\n",
              "      <td>0.000000</td>\n",
              "      <td>0.444397</td>\n",
              "      <td>U</td>\n",
              "      <td>NaN</td>\n",
              "      <td>0.038979</td>\n",
              "    </tr>\n",
              "    <tr>\n",
              "      <th>3</th>\n",
              "      <td>4</td>\n",
              "      <td>729</td>\n",
              "      <td>01/04/2011</td>\n",
              "      <td>787</td>\n",
              "      <td>808</td>\n",
              "      <td>10.799646</td>\n",
              "      <td>11.0</td>\n",
              "      <td>2.075</td>\n",
              "      <td>1.77</td>\n",
              "      <td>0.555603</td>\n",
              "      <td>0.115957</td>\n",
              "      <td>0.328440</td>\n",
              "      <td>U</td>\n",
              "      <td>NaN</td>\n",
              "      <td>0.099375</td>\n",
              "    </tr>\n",
              "    <tr>\n",
              "      <th>4</th>\n",
              "      <td>5</td>\n",
              "      <td>741</td>\n",
              "      <td>01/04/2011</td>\n",
              "      <td>784</td>\n",
              "      <td>1117</td>\n",
              "      <td>10.482979</td>\n",
              "      <td>12.0</td>\n",
              "      <td>2.020</td>\n",
              "      <td>1.86</td>\n",
              "      <td>0.671560</td>\n",
              "      <td>0.098752</td>\n",
              "      <td>0.229688</td>\n",
              "      <td>U</td>\n",
              "      <td>NaN</td>\n",
              "      <td>0.347854</td>\n",
              "    </tr>\n",
              "  </tbody>\n",
              "</table>\n",
              "</div>\n",
              "      <button class=\"colab-df-convert\" onclick=\"convertToInteractive('df-0a726e62-0d6f-45e4-9d72-9b55038899e7')\"\n",
              "              title=\"Convert this dataframe to an interactive table.\"\n",
              "              style=\"display:none;\">\n",
              "        \n",
              "  <svg xmlns=\"http://www.w3.org/2000/svg\" height=\"24px\"viewBox=\"0 0 24 24\"\n",
              "       width=\"24px\">\n",
              "    <path d=\"M0 0h24v24H0V0z\" fill=\"none\"/>\n",
              "    <path d=\"M18.56 5.44l.94 2.06.94-2.06 2.06-.94-2.06-.94-.94-2.06-.94 2.06-2.06.94zm-11 1L8.5 8.5l.94-2.06 2.06-.94-2.06-.94L8.5 2.5l-.94 2.06-2.06.94zm10 10l.94 2.06.94-2.06 2.06-.94-2.06-.94-.94-2.06-.94 2.06-2.06.94z\"/><path d=\"M17.41 7.96l-1.37-1.37c-.4-.4-.92-.59-1.43-.59-.52 0-1.04.2-1.43.59L10.3 9.45l-7.72 7.72c-.78.78-.78 2.05 0 2.83L4 21.41c.39.39.9.59 1.41.59.51 0 1.02-.2 1.41-.59l7.78-7.78 2.81-2.81c.8-.78.8-2.07 0-2.86zM5.41 20L4 18.59l7.72-7.72 1.47 1.35L5.41 20z\"/>\n",
              "  </svg>\n",
              "      </button>\n",
              "      \n",
              "  <style>\n",
              "    .colab-df-container {\n",
              "      display:flex;\n",
              "      flex-wrap:wrap;\n",
              "      gap: 12px;\n",
              "    }\n",
              "\n",
              "    .colab-df-convert {\n",
              "      background-color: #E8F0FE;\n",
              "      border: none;\n",
              "      border-radius: 50%;\n",
              "      cursor: pointer;\n",
              "      display: none;\n",
              "      fill: #1967D2;\n",
              "      height: 32px;\n",
              "      padding: 0 0 0 0;\n",
              "      width: 32px;\n",
              "    }\n",
              "\n",
              "    .colab-df-convert:hover {\n",
              "      background-color: #E2EBFA;\n",
              "      box-shadow: 0px 1px 2px rgba(60, 64, 67, 0.3), 0px 1px 3px 1px rgba(60, 64, 67, 0.15);\n",
              "      fill: #174EA6;\n",
              "    }\n",
              "\n",
              "    [theme=dark] .colab-df-convert {\n",
              "      background-color: #3B4455;\n",
              "      fill: #D2E3FC;\n",
              "    }\n",
              "\n",
              "    [theme=dark] .colab-df-convert:hover {\n",
              "      background-color: #434B5C;\n",
              "      box-shadow: 0px 1px 3px 1px rgba(0, 0, 0, 0.15);\n",
              "      filter: drop-shadow(0px 1px 2px rgba(0, 0, 0, 0.3));\n",
              "      fill: #FFFFFF;\n",
              "    }\n",
              "  </style>\n",
              "\n",
              "      <script>\n",
              "        const buttonEl =\n",
              "          document.querySelector('#df-0a726e62-0d6f-45e4-9d72-9b55038899e7 button.colab-df-convert');\n",
              "        buttonEl.style.display =\n",
              "          google.colab.kernel.accessAllowed ? 'block' : 'none';\n",
              "\n",
              "        async function convertToInteractive(key) {\n",
              "          const element = document.querySelector('#df-0a726e62-0d6f-45e4-9d72-9b55038899e7');\n",
              "          const dataTable =\n",
              "            await google.colab.kernel.invokeFunction('convertToInteractive',\n",
              "                                                     [key], {});\n",
              "          if (!dataTable) return;\n",
              "\n",
              "          const docLinkHtml = 'Like what you see? Visit the ' +\n",
              "            '<a target=\"_blank\" href=https://colab.research.google.com/notebooks/data_table.ipynb>data table notebook</a>'\n",
              "            + ' to learn more about interactive tables.';\n",
              "          element.innerHTML = '';\n",
              "          dataTable['output_type'] = 'display_data';\n",
              "          await google.colab.output.renderOutput(dataTable, element);\n",
              "          const docLink = document.createElement('div');\n",
              "          docLink.innerHTML = docLinkHtml;\n",
              "          element.appendChild(docLink);\n",
              "        }\n",
              "      </script>\n",
              "    </div>\n",
              "  </div>\n",
              "  "
            ]
          },
          "metadata": {},
          "execution_count": 723
        }
      ]
    },
    {
      "cell_type": "code",
      "source": [
        "df_test['E(Bet(U/O))'].describe()"
      ],
      "metadata": {
        "colab": {
          "base_uri": "https://localhost:8080/"
        },
        "id": "n6IlsdigEP_i",
        "outputId": "6eb05821-26f4-4be0-ac9a-4d0f651816e8"
      },
      "execution_count": 724,
      "outputs": [
        {
          "output_type": "execute_result",
          "data": {
            "text/plain": [
              "count    341.000000\n",
              "mean       0.119316\n",
              "std        0.105946\n",
              "min       -0.048609\n",
              "25%        0.032271\n",
              "50%        0.099375\n",
              "75%        0.197161\n",
              "max        0.386133\n",
              "Name: E(Bet(U/O)), dtype: float64"
            ]
          },
          "metadata": {},
          "execution_count": 724
        }
      ]
    },
    {
      "cell_type": "markdown",
      "source": [
        "**Where E(Bet(U/O) is no greater than zero there is no point in placing a bet so I'll call this entries N, indicating to place no bet**"
      ],
      "metadata": {
        "id": "FNVXj5cjcOo8"
      }
    },
    {
      "cell_type": "markdown",
      "source": [
        "**Using the gambling formula in Kelly's Criterion. E(B(U/O)) represents the proprtion gained per unit of the bet. The optimal stake as a proportion of the bankroll is represented by this formula: f* = p - (1-p)/E(B(U/O)). Similarly if E(B(U/O) is not greater than 0 return 0** "
      ],
      "metadata": {
        "id": "2omzgWsAd65v"
      }
    },
    {
      "cell_type": "code",
      "source": [
        "df_test['Stake'] = np.select([(df_test['E(Bet(U/O))'] <= 0), (df_test['Bet (U/O)'] == \"O\"), (df_test['Bet (U/O)'] == \"U\")]\n",
        ",[0, df_test['P(Over)'] - (1 - df_test['P(Over)'])/df_test['Over'], df_test['P(Under)'] - (1 - df_test['P(Under)'])/df_test['Under']])"
      ],
      "metadata": {
        "id": "WaiuA_wQe8uc"
      },
      "execution_count": 725,
      "outputs": []
    },
    {
      "cell_type": "code",
      "source": [
        "df_test.head()"
      ],
      "metadata": {
        "colab": {
          "base_uri": "https://localhost:8080/",
          "height": 287
        },
        "id": "bmP4KFo7vURC",
        "outputId": "e1ffb8aa-ab77-40cb-8f35-9b658c5dff0c"
      },
      "execution_count": 726,
      "outputs": [
        {
          "output_type": "execute_result",
          "data": {
            "text/plain": [
              "   MatchId  LeagueId        Date  HomeTeamId  AwayTeamId  \\\n",
              "0        1       741  01/04/2011         342         694   \n",
              "1        2       741  01/04/2011        1424         270   \n",
              "2        3       729  01/04/2011         691        1137   \n",
              "3        4       729  01/04/2011         787         808   \n",
              "4        5       741  01/04/2011         784        1117   \n",
              "\n",
              "   Total_Predicted_Corners  Line   Over  Under  P(Under)     P(At)   P(Over)  \\\n",
              "0                10.180111   9.5  1.790   1.80  0.430790  0.000000  0.569210   \n",
              "1                10.700562  11.5  1.920   2.00  0.671560  0.000000  0.328440   \n",
              "2                10.849359  10.5  1.970   1.87  0.555603  0.000000  0.444397   \n",
              "3                10.799646  11.0  2.075   1.77  0.555603  0.115957  0.328440   \n",
              "4                10.482979  12.0  2.020   1.86  0.671560  0.098752  0.229688   \n",
              "\n",
              "  Bet (U/O)     Stake  E(Bet(U/O))  \n",
              "0         O  0.328545     0.018886  \n",
              "1         U  0.507341     0.343121  \n",
              "2         U  0.317958     0.038979  \n",
              "3         U  0.304532     0.099375  \n",
              "4         U  0.494980     0.347854  "
            ],
            "text/html": [
              "\n",
              "  <div id=\"df-4fcc8956-7b5f-4fd3-87d6-5367b8a5fbaf\">\n",
              "    <div class=\"colab-df-container\">\n",
              "      <div>\n",
              "<style scoped>\n",
              "    .dataframe tbody tr th:only-of-type {\n",
              "        vertical-align: middle;\n",
              "    }\n",
              "\n",
              "    .dataframe tbody tr th {\n",
              "        vertical-align: top;\n",
              "    }\n",
              "\n",
              "    .dataframe thead th {\n",
              "        text-align: right;\n",
              "    }\n",
              "</style>\n",
              "<table border=\"1\" class=\"dataframe\">\n",
              "  <thead>\n",
              "    <tr style=\"text-align: right;\">\n",
              "      <th></th>\n",
              "      <th>MatchId</th>\n",
              "      <th>LeagueId</th>\n",
              "      <th>Date</th>\n",
              "      <th>HomeTeamId</th>\n",
              "      <th>AwayTeamId</th>\n",
              "      <th>Total_Predicted_Corners</th>\n",
              "      <th>Line</th>\n",
              "      <th>Over</th>\n",
              "      <th>Under</th>\n",
              "      <th>P(Under)</th>\n",
              "      <th>P(At)</th>\n",
              "      <th>P(Over)</th>\n",
              "      <th>Bet (U/O)</th>\n",
              "      <th>Stake</th>\n",
              "      <th>E(Bet(U/O))</th>\n",
              "    </tr>\n",
              "  </thead>\n",
              "  <tbody>\n",
              "    <tr>\n",
              "      <th>0</th>\n",
              "      <td>1</td>\n",
              "      <td>741</td>\n",
              "      <td>01/04/2011</td>\n",
              "      <td>342</td>\n",
              "      <td>694</td>\n",
              "      <td>10.180111</td>\n",
              "      <td>9.5</td>\n",
              "      <td>1.790</td>\n",
              "      <td>1.80</td>\n",
              "      <td>0.430790</td>\n",
              "      <td>0.000000</td>\n",
              "      <td>0.569210</td>\n",
              "      <td>O</td>\n",
              "      <td>0.328545</td>\n",
              "      <td>0.018886</td>\n",
              "    </tr>\n",
              "    <tr>\n",
              "      <th>1</th>\n",
              "      <td>2</td>\n",
              "      <td>741</td>\n",
              "      <td>01/04/2011</td>\n",
              "      <td>1424</td>\n",
              "      <td>270</td>\n",
              "      <td>10.700562</td>\n",
              "      <td>11.5</td>\n",
              "      <td>1.920</td>\n",
              "      <td>2.00</td>\n",
              "      <td>0.671560</td>\n",
              "      <td>0.000000</td>\n",
              "      <td>0.328440</td>\n",
              "      <td>U</td>\n",
              "      <td>0.507341</td>\n",
              "      <td>0.343121</td>\n",
              "    </tr>\n",
              "    <tr>\n",
              "      <th>2</th>\n",
              "      <td>3</td>\n",
              "      <td>729</td>\n",
              "      <td>01/04/2011</td>\n",
              "      <td>691</td>\n",
              "      <td>1137</td>\n",
              "      <td>10.849359</td>\n",
              "      <td>10.5</td>\n",
              "      <td>1.970</td>\n",
              "      <td>1.87</td>\n",
              "      <td>0.555603</td>\n",
              "      <td>0.000000</td>\n",
              "      <td>0.444397</td>\n",
              "      <td>U</td>\n",
              "      <td>0.317958</td>\n",
              "      <td>0.038979</td>\n",
              "    </tr>\n",
              "    <tr>\n",
              "      <th>3</th>\n",
              "      <td>4</td>\n",
              "      <td>729</td>\n",
              "      <td>01/04/2011</td>\n",
              "      <td>787</td>\n",
              "      <td>808</td>\n",
              "      <td>10.799646</td>\n",
              "      <td>11.0</td>\n",
              "      <td>2.075</td>\n",
              "      <td>1.77</td>\n",
              "      <td>0.555603</td>\n",
              "      <td>0.115957</td>\n",
              "      <td>0.328440</td>\n",
              "      <td>U</td>\n",
              "      <td>0.304532</td>\n",
              "      <td>0.099375</td>\n",
              "    </tr>\n",
              "    <tr>\n",
              "      <th>4</th>\n",
              "      <td>5</td>\n",
              "      <td>741</td>\n",
              "      <td>01/04/2011</td>\n",
              "      <td>784</td>\n",
              "      <td>1117</td>\n",
              "      <td>10.482979</td>\n",
              "      <td>12.0</td>\n",
              "      <td>2.020</td>\n",
              "      <td>1.86</td>\n",
              "      <td>0.671560</td>\n",
              "      <td>0.098752</td>\n",
              "      <td>0.229688</td>\n",
              "      <td>U</td>\n",
              "      <td>0.494980</td>\n",
              "      <td>0.347854</td>\n",
              "    </tr>\n",
              "  </tbody>\n",
              "</table>\n",
              "</div>\n",
              "      <button class=\"colab-df-convert\" onclick=\"convertToInteractive('df-4fcc8956-7b5f-4fd3-87d6-5367b8a5fbaf')\"\n",
              "              title=\"Convert this dataframe to an interactive table.\"\n",
              "              style=\"display:none;\">\n",
              "        \n",
              "  <svg xmlns=\"http://www.w3.org/2000/svg\" height=\"24px\"viewBox=\"0 0 24 24\"\n",
              "       width=\"24px\">\n",
              "    <path d=\"M0 0h24v24H0V0z\" fill=\"none\"/>\n",
              "    <path d=\"M18.56 5.44l.94 2.06.94-2.06 2.06-.94-2.06-.94-.94-2.06-.94 2.06-2.06.94zm-11 1L8.5 8.5l.94-2.06 2.06-.94-2.06-.94L8.5 2.5l-.94 2.06-2.06.94zm10 10l.94 2.06.94-2.06 2.06-.94-2.06-.94-.94-2.06-.94 2.06-2.06.94z\"/><path d=\"M17.41 7.96l-1.37-1.37c-.4-.4-.92-.59-1.43-.59-.52 0-1.04.2-1.43.59L10.3 9.45l-7.72 7.72c-.78.78-.78 2.05 0 2.83L4 21.41c.39.39.9.59 1.41.59.51 0 1.02-.2 1.41-.59l7.78-7.78 2.81-2.81c.8-.78.8-2.07 0-2.86zM5.41 20L4 18.59l7.72-7.72 1.47 1.35L5.41 20z\"/>\n",
              "  </svg>\n",
              "      </button>\n",
              "      \n",
              "  <style>\n",
              "    .colab-df-container {\n",
              "      display:flex;\n",
              "      flex-wrap:wrap;\n",
              "      gap: 12px;\n",
              "    }\n",
              "\n",
              "    .colab-df-convert {\n",
              "      background-color: #E8F0FE;\n",
              "      border: none;\n",
              "      border-radius: 50%;\n",
              "      cursor: pointer;\n",
              "      display: none;\n",
              "      fill: #1967D2;\n",
              "      height: 32px;\n",
              "      padding: 0 0 0 0;\n",
              "      width: 32px;\n",
              "    }\n",
              "\n",
              "    .colab-df-convert:hover {\n",
              "      background-color: #E2EBFA;\n",
              "      box-shadow: 0px 1px 2px rgba(60, 64, 67, 0.3), 0px 1px 3px 1px rgba(60, 64, 67, 0.15);\n",
              "      fill: #174EA6;\n",
              "    }\n",
              "\n",
              "    [theme=dark] .colab-df-convert {\n",
              "      background-color: #3B4455;\n",
              "      fill: #D2E3FC;\n",
              "    }\n",
              "\n",
              "    [theme=dark] .colab-df-convert:hover {\n",
              "      background-color: #434B5C;\n",
              "      box-shadow: 0px 1px 3px 1px rgba(0, 0, 0, 0.15);\n",
              "      filter: drop-shadow(0px 1px 2px rgba(0, 0, 0, 0.3));\n",
              "      fill: #FFFFFF;\n",
              "    }\n",
              "  </style>\n",
              "\n",
              "      <script>\n",
              "        const buttonEl =\n",
              "          document.querySelector('#df-4fcc8956-7b5f-4fd3-87d6-5367b8a5fbaf button.colab-df-convert');\n",
              "        buttonEl.style.display =\n",
              "          google.colab.kernel.accessAllowed ? 'block' : 'none';\n",
              "\n",
              "        async function convertToInteractive(key) {\n",
              "          const element = document.querySelector('#df-4fcc8956-7b5f-4fd3-87d6-5367b8a5fbaf');\n",
              "          const dataTable =\n",
              "            await google.colab.kernel.invokeFunction('convertToInteractive',\n",
              "                                                     [key], {});\n",
              "          if (!dataTable) return;\n",
              "\n",
              "          const docLinkHtml = 'Like what you see? Visit the ' +\n",
              "            '<a target=\"_blank\" href=https://colab.research.google.com/notebooks/data_table.ipynb>data table notebook</a>'\n",
              "            + ' to learn more about interactive tables.';\n",
              "          element.innerHTML = '';\n",
              "          dataTable['output_type'] = 'display_data';\n",
              "          await google.colab.output.renderOutput(dataTable, element);\n",
              "          const docLink = document.createElement('div');\n",
              "          docLink.innerHTML = docLinkHtml;\n",
              "          element.appendChild(docLink);\n",
              "        }\n",
              "      </script>\n",
              "    </div>\n",
              "  </div>\n",
              "  "
            ]
          },
          "metadata": {},
          "execution_count": 726
        }
      ]
    },
    {
      "cell_type": "markdown",
      "source": [
        "**If E(Bet(U/O)) is not positive the bet is either losing or gaining nothing in the long run so I will encode these non bets as N.**"
      ],
      "metadata": {
        "id": "0oILKcoe7LXH"
      }
    },
    {
      "cell_type": "code",
      "source": [
        "df_test['Bet (U/O)'] = np.where(df_test['E(Bet(U/O))'] > 0, df_test['Bet (U/O)'], \"N\")"
      ],
      "metadata": {
        "id": "r1l3h4kO6lpO"
      },
      "execution_count": 727,
      "outputs": []
    },
    {
      "cell_type": "code",
      "source": [
        "df_test['Bet (U/O)'].value_counts()"
      ],
      "metadata": {
        "id": "PXLF6xt6kZRa",
        "colab": {
          "base_uri": "https://localhost:8080/"
        },
        "outputId": "1405d243-fcf7-4cb4-be00-95eaa0ff5c00"
      },
      "execution_count": 728,
      "outputs": [
        {
          "output_type": "execute_result",
          "data": {
            "text/plain": [
              "U    189\n",
              "O    102\n",
              "N     50\n",
              "Name: Bet (U/O), dtype: int64"
            ]
          },
          "metadata": {},
          "execution_count": 728
        }
      ]
    },
    {
      "cell_type": "code",
      "source": [
        "df_test = df_test.drop(['E(Bet(U/O))'], axis = 1)"
      ],
      "metadata": {
        "id": "rCtgPm4b36St"
      },
      "execution_count": 729,
      "outputs": []
    },
    {
      "cell_type": "code",
      "source": [
        "df_test.head()"
      ],
      "metadata": {
        "colab": {
          "base_uri": "https://localhost:8080/",
          "height": 250
        },
        "id": "jVrTP7rpibtm",
        "outputId": "75951e97-f0f1-401b-f0fe-33db0e21f15a"
      },
      "execution_count": 730,
      "outputs": [
        {
          "output_type": "execute_result",
          "data": {
            "text/plain": [
              "   MatchId  LeagueId        Date  HomeTeamId  AwayTeamId  \\\n",
              "0        1       741  01/04/2011         342         694   \n",
              "1        2       741  01/04/2011        1424         270   \n",
              "2        3       729  01/04/2011         691        1137   \n",
              "3        4       729  01/04/2011         787         808   \n",
              "4        5       741  01/04/2011         784        1117   \n",
              "\n",
              "   Total_Predicted_Corners  Line   Over  Under  P(Under)     P(At)   P(Over)  \\\n",
              "0                10.180111   9.5  1.790   1.80  0.430790  0.000000  0.569210   \n",
              "1                10.700562  11.5  1.920   2.00  0.671560  0.000000  0.328440   \n",
              "2                10.849359  10.5  1.970   1.87  0.555603  0.000000  0.444397   \n",
              "3                10.799646  11.0  2.075   1.77  0.555603  0.115957  0.328440   \n",
              "4                10.482979  12.0  2.020   1.86  0.671560  0.098752  0.229688   \n",
              "\n",
              "  Bet (U/O)     Stake  \n",
              "0         O  0.328545  \n",
              "1         U  0.507341  \n",
              "2         U  0.317958  \n",
              "3         U  0.304532  \n",
              "4         U  0.494980  "
            ],
            "text/html": [
              "\n",
              "  <div id=\"df-122cecaa-3d0b-4983-8eca-1f58e2320ab2\">\n",
              "    <div class=\"colab-df-container\">\n",
              "      <div>\n",
              "<style scoped>\n",
              "    .dataframe tbody tr th:only-of-type {\n",
              "        vertical-align: middle;\n",
              "    }\n",
              "\n",
              "    .dataframe tbody tr th {\n",
              "        vertical-align: top;\n",
              "    }\n",
              "\n",
              "    .dataframe thead th {\n",
              "        text-align: right;\n",
              "    }\n",
              "</style>\n",
              "<table border=\"1\" class=\"dataframe\">\n",
              "  <thead>\n",
              "    <tr style=\"text-align: right;\">\n",
              "      <th></th>\n",
              "      <th>MatchId</th>\n",
              "      <th>LeagueId</th>\n",
              "      <th>Date</th>\n",
              "      <th>HomeTeamId</th>\n",
              "      <th>AwayTeamId</th>\n",
              "      <th>Total_Predicted_Corners</th>\n",
              "      <th>Line</th>\n",
              "      <th>Over</th>\n",
              "      <th>Under</th>\n",
              "      <th>P(Under)</th>\n",
              "      <th>P(At)</th>\n",
              "      <th>P(Over)</th>\n",
              "      <th>Bet (U/O)</th>\n",
              "      <th>Stake</th>\n",
              "    </tr>\n",
              "  </thead>\n",
              "  <tbody>\n",
              "    <tr>\n",
              "      <th>0</th>\n",
              "      <td>1</td>\n",
              "      <td>741</td>\n",
              "      <td>01/04/2011</td>\n",
              "      <td>342</td>\n",
              "      <td>694</td>\n",
              "      <td>10.180111</td>\n",
              "      <td>9.5</td>\n",
              "      <td>1.790</td>\n",
              "      <td>1.80</td>\n",
              "      <td>0.430790</td>\n",
              "      <td>0.000000</td>\n",
              "      <td>0.569210</td>\n",
              "      <td>O</td>\n",
              "      <td>0.328545</td>\n",
              "    </tr>\n",
              "    <tr>\n",
              "      <th>1</th>\n",
              "      <td>2</td>\n",
              "      <td>741</td>\n",
              "      <td>01/04/2011</td>\n",
              "      <td>1424</td>\n",
              "      <td>270</td>\n",
              "      <td>10.700562</td>\n",
              "      <td>11.5</td>\n",
              "      <td>1.920</td>\n",
              "      <td>2.00</td>\n",
              "      <td>0.671560</td>\n",
              "      <td>0.000000</td>\n",
              "      <td>0.328440</td>\n",
              "      <td>U</td>\n",
              "      <td>0.507341</td>\n",
              "    </tr>\n",
              "    <tr>\n",
              "      <th>2</th>\n",
              "      <td>3</td>\n",
              "      <td>729</td>\n",
              "      <td>01/04/2011</td>\n",
              "      <td>691</td>\n",
              "      <td>1137</td>\n",
              "      <td>10.849359</td>\n",
              "      <td>10.5</td>\n",
              "      <td>1.970</td>\n",
              "      <td>1.87</td>\n",
              "      <td>0.555603</td>\n",
              "      <td>0.000000</td>\n",
              "      <td>0.444397</td>\n",
              "      <td>U</td>\n",
              "      <td>0.317958</td>\n",
              "    </tr>\n",
              "    <tr>\n",
              "      <th>3</th>\n",
              "      <td>4</td>\n",
              "      <td>729</td>\n",
              "      <td>01/04/2011</td>\n",
              "      <td>787</td>\n",
              "      <td>808</td>\n",
              "      <td>10.799646</td>\n",
              "      <td>11.0</td>\n",
              "      <td>2.075</td>\n",
              "      <td>1.77</td>\n",
              "      <td>0.555603</td>\n",
              "      <td>0.115957</td>\n",
              "      <td>0.328440</td>\n",
              "      <td>U</td>\n",
              "      <td>0.304532</td>\n",
              "    </tr>\n",
              "    <tr>\n",
              "      <th>4</th>\n",
              "      <td>5</td>\n",
              "      <td>741</td>\n",
              "      <td>01/04/2011</td>\n",
              "      <td>784</td>\n",
              "      <td>1117</td>\n",
              "      <td>10.482979</td>\n",
              "      <td>12.0</td>\n",
              "      <td>2.020</td>\n",
              "      <td>1.86</td>\n",
              "      <td>0.671560</td>\n",
              "      <td>0.098752</td>\n",
              "      <td>0.229688</td>\n",
              "      <td>U</td>\n",
              "      <td>0.494980</td>\n",
              "    </tr>\n",
              "  </tbody>\n",
              "</table>\n",
              "</div>\n",
              "      <button class=\"colab-df-convert\" onclick=\"convertToInteractive('df-122cecaa-3d0b-4983-8eca-1f58e2320ab2')\"\n",
              "              title=\"Convert this dataframe to an interactive table.\"\n",
              "              style=\"display:none;\">\n",
              "        \n",
              "  <svg xmlns=\"http://www.w3.org/2000/svg\" height=\"24px\"viewBox=\"0 0 24 24\"\n",
              "       width=\"24px\">\n",
              "    <path d=\"M0 0h24v24H0V0z\" fill=\"none\"/>\n",
              "    <path d=\"M18.56 5.44l.94 2.06.94-2.06 2.06-.94-2.06-.94-.94-2.06-.94 2.06-2.06.94zm-11 1L8.5 8.5l.94-2.06 2.06-.94-2.06-.94L8.5 2.5l-.94 2.06-2.06.94zm10 10l.94 2.06.94-2.06 2.06-.94-2.06-.94-.94-2.06-.94 2.06-2.06.94z\"/><path d=\"M17.41 7.96l-1.37-1.37c-.4-.4-.92-.59-1.43-.59-.52 0-1.04.2-1.43.59L10.3 9.45l-7.72 7.72c-.78.78-.78 2.05 0 2.83L4 21.41c.39.39.9.59 1.41.59.51 0 1.02-.2 1.41-.59l7.78-7.78 2.81-2.81c.8-.78.8-2.07 0-2.86zM5.41 20L4 18.59l7.72-7.72 1.47 1.35L5.41 20z\"/>\n",
              "  </svg>\n",
              "      </button>\n",
              "      \n",
              "  <style>\n",
              "    .colab-df-container {\n",
              "      display:flex;\n",
              "      flex-wrap:wrap;\n",
              "      gap: 12px;\n",
              "    }\n",
              "\n",
              "    .colab-df-convert {\n",
              "      background-color: #E8F0FE;\n",
              "      border: none;\n",
              "      border-radius: 50%;\n",
              "      cursor: pointer;\n",
              "      display: none;\n",
              "      fill: #1967D2;\n",
              "      height: 32px;\n",
              "      padding: 0 0 0 0;\n",
              "      width: 32px;\n",
              "    }\n",
              "\n",
              "    .colab-df-convert:hover {\n",
              "      background-color: #E2EBFA;\n",
              "      box-shadow: 0px 1px 2px rgba(60, 64, 67, 0.3), 0px 1px 3px 1px rgba(60, 64, 67, 0.15);\n",
              "      fill: #174EA6;\n",
              "    }\n",
              "\n",
              "    [theme=dark] .colab-df-convert {\n",
              "      background-color: #3B4455;\n",
              "      fill: #D2E3FC;\n",
              "    }\n",
              "\n",
              "    [theme=dark] .colab-df-convert:hover {\n",
              "      background-color: #434B5C;\n",
              "      box-shadow: 0px 1px 3px 1px rgba(0, 0, 0, 0.15);\n",
              "      filter: drop-shadow(0px 1px 2px rgba(0, 0, 0, 0.3));\n",
              "      fill: #FFFFFF;\n",
              "    }\n",
              "  </style>\n",
              "\n",
              "      <script>\n",
              "        const buttonEl =\n",
              "          document.querySelector('#df-122cecaa-3d0b-4983-8eca-1f58e2320ab2 button.colab-df-convert');\n",
              "        buttonEl.style.display =\n",
              "          google.colab.kernel.accessAllowed ? 'block' : 'none';\n",
              "\n",
              "        async function convertToInteractive(key) {\n",
              "          const element = document.querySelector('#df-122cecaa-3d0b-4983-8eca-1f58e2320ab2');\n",
              "          const dataTable =\n",
              "            await google.colab.kernel.invokeFunction('convertToInteractive',\n",
              "                                                     [key], {});\n",
              "          if (!dataTable) return;\n",
              "\n",
              "          const docLinkHtml = 'Like what you see? Visit the ' +\n",
              "            '<a target=\"_blank\" href=https://colab.research.google.com/notebooks/data_table.ipynb>data table notebook</a>'\n",
              "            + ' to learn more about interactive tables.';\n",
              "          element.innerHTML = '';\n",
              "          dataTable['output_type'] = 'display_data';\n",
              "          await google.colab.output.renderOutput(dataTable, element);\n",
              "          const docLink = document.createElement('div');\n",
              "          docLink.innerHTML = docLinkHtml;\n",
              "          element.appendChild(docLink);\n",
              "        }\n",
              "      </script>\n",
              "    </div>\n",
              "  </div>\n",
              "  "
            ]
          },
          "metadata": {},
          "execution_count": 730
        }
      ]
    }
  ]
}