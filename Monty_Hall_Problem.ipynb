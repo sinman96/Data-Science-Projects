{
  "nbformat": 4,
  "nbformat_minor": 0,
  "metadata": {
    "colab": {
      "provenance": [],
      "authorship_tag": "ABX9TyNDO7y3OCMVikTqNxtOKMR0",
      "include_colab_link": true
    },
    "kernelspec": {
      "name": "python3",
      "display_name": "Python 3"
    },
    "language_info": {
      "name": "python"
    }
  },
  "cells": [
    {
      "cell_type": "markdown",
      "metadata": {
        "id": "view-in-github",
        "colab_type": "text"
      },
      "source": [
        "<a href=\"https://colab.research.google.com/github/sinman96/Data-Science-Projects/blob/main/Monty_Hall_Problem.ipynb\" target=\"_parent\"><img src=\"https://colab.research.google.com/assets/colab-badge.svg\" alt=\"Open In Colab\"/></a>"
      ]
    },
    {
      "cell_type": "code",
      "execution_count": 52,
      "metadata": {
        "id": "76pWnDrLaBRW"
      },
      "outputs": [],
      "source": [
        "import numpy as np\n",
        "import random"
      ]
    },
    {
      "cell_type": "markdown",
      "source": [
        "**I will label the doors 1,2,3**"
      ],
      "metadata": {
        "id": "RgqiaH8SaG-V"
      }
    },
    {
      "cell_type": "markdown",
      "source": [
        "**Function outputting probability when you don't switch doors for 10000 simulations.**"
      ],
      "metadata": {
        "id": "sHiyx52lbSZn"
      }
    },
    {
      "cell_type": "code",
      "source": [
        "def keep_door(chosen_door): \n",
        "    success_count = 0\n",
        "    for i in range(0, 10000):\n",
        "        doors = np.array([1,2,3])\n",
        "        prize_door = random.choices(doors)[0]\n",
        "        \"\"\"As your selection is fixed,\n",
        "        there's no need for further filtering\"\"\"\n",
        "        open_door = random.choices(doors[(doors != chosen_door)\n",
        "        & (doors != prize_door)])[0]\n",
        "        #As the first door has been opened we can discard this.\n",
        "        doors = np.delete(doors, np.where(doors == open_door))\n",
        "        if chosen_door == prize_door:                \n",
        "           success_count += 1        \n",
        "    return success_count/10000"
      ],
      "metadata": {
        "id": "O0d3xUlJbEbX"
      },
      "execution_count": 53,
      "outputs": []
    },
    {
      "cell_type": "markdown",
      "source": [
        "**Function outputting probability when you switch doors for 10000 simulations.**"
      ],
      "metadata": {
        "id": "wN1jK3VRcSHE"
      }
    },
    {
      "cell_type": "code",
      "source": [
        "def change_door(chosen_door): \n",
        "    success_count = 0\n",
        "    for i in range(0, 10000):\n",
        "        doors = np.array([1,2,3])\n",
        "        prize_door = random.choices(doors)[0]\n",
        "        open_door = random.choices(doors[(doors != chosen_door)\n",
        "        & (doors != prize_door)])[0]\n",
        "        #As the first door has been opened we can discard this.\n",
        "        doors = np.delete(doors, np.where(doors == open_door))\n",
        "        #This is switching the choice of door.\n",
        "        chosen_door = doors[(doors != chosen_door)]\n",
        "        if chosen_door == prize_door:\n",
        "               success_count += 1\n",
        "    return success_count/10000"
      ],
      "metadata": {
        "id": "VKqbBS7LcqFn"
      },
      "execution_count": 54,
      "outputs": []
    },
    {
      "cell_type": "markdown",
      "source": [
        "**Different probabilities for each door.**"
      ],
      "metadata": {
        "id": "O-nuf2GfdYHS"
      }
    },
    {
      "cell_type": "code",
      "source": [
        "keep_door(1), change_door(1)"
      ],
      "metadata": {
        "colab": {
          "base_uri": "https://localhost:8080/"
        },
        "id": "BCMibFJ2diqi",
        "outputId": "bd8a68f7-7afa-48a5-c264-aee8988c79dc"
      },
      "execution_count": 55,
      "outputs": [
        {
          "output_type": "execute_result",
          "data": {
            "text/plain": [
              "(0.3349, 0.6732)"
            ]
          },
          "metadata": {},
          "execution_count": 55
        }
      ]
    },
    {
      "cell_type": "code",
      "source": [
        "keep_door(2), change_door(2)"
      ],
      "metadata": {
        "colab": {
          "base_uri": "https://localhost:8080/"
        },
        "id": "ClYTIUrhd4uH",
        "outputId": "6990e53f-f4cc-45bb-bb54-760440c17d24"
      },
      "execution_count": 56,
      "outputs": [
        {
          "output_type": "execute_result",
          "data": {
            "text/plain": [
              "(0.3386, 0.6668)"
            ]
          },
          "metadata": {},
          "execution_count": 56
        }
      ]
    },
    {
      "cell_type": "code",
      "source": [
        "keep_door(3), change_door(3)"
      ],
      "metadata": {
        "colab": {
          "base_uri": "https://localhost:8080/"
        },
        "id": "ljGyzXWbd9Q-",
        "outputId": "4e9f531e-77c3-4299-8cb2-549fa41d3ee8"
      },
      "execution_count": 57,
      "outputs": [
        {
          "output_type": "execute_result",
          "data": {
            "text/plain": [
              "(0.3366, 0.6621)"
            ]
          },
          "metadata": {},
          "execution_count": 57
        }
      ]
    },
    {
      "cell_type": "markdown",
      "source": [
        "**Averages of probabilities.**"
      ],
      "metadata": {
        "id": "NQfGyjfzeH3b"
      }
    },
    {
      "cell_type": "code",
      "source": [
        "(keep_door(1) + keep_door(2) + keep_door(3))/3, (change_door(1) + change_door(2) + change_door(3))/3"
      ],
      "metadata": {
        "colab": {
          "base_uri": "https://localhost:8080/"
        },
        "id": "k2HBoY3eeSSF",
        "outputId": "3d7c6c6b-a47e-4b7b-a731-c5d80f8eb660"
      },
      "execution_count": 58,
      "outputs": [
        {
          "output_type": "execute_result",
          "data": {
            "text/plain": [
              "(0.33413333333333334, 0.6696)"
            ]
          },
          "metadata": {},
          "execution_count": 58
        }
      ]
    },
    {
      "cell_type": "markdown",
      "source": [
        "**The average probabilities of sticking and switching doors to 2 decimal places are (0.33, 0.67). This gives strong evidence that p_stick = 1/3 and p_switch = 2/3.**"
      ],
      "metadata": {
        "id": "apdXw2FXfRjm"
      }
    }
  ]
}