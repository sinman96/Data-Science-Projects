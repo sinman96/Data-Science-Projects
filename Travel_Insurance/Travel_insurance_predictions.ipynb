{
  "metadata": {
    "kernelspec": {
      "language": "python",
      "display_name": "Python 3",
      "name": "python3"
    },
    "language_info": {
      "name": "python",
      "version": "3.7.10",
      "mimetype": "text/x-python",
      "codemirror_mode": {
        "name": "ipython",
        "version": 3
      },
      "pygments_lexer": "ipython3",
      "nbconvert_exporter": "python",
      "file_extension": ".py"
    },
    "colab": {
      "provenance": []
    }
  },
  "nbformat_minor": 0,
  "nbformat": 4,
  "cells": [
    {
      "cell_type": "code",
      "source": [
        "import numpy as np\n",
        "from sklearn.model_selection import train_test_split \n",
        "from xgboost import XGBClassifier\n",
        "from sklearn.metrics import accuracy_score\n",
        "import pandas as pd\n",
        "import matplotlib.pyplot as plt\n",
        "import seaborn as sns\n",
        "import warnings\n",
        "warnings.simplefilter(action='ignore', category=FutureWarning)\n",
        "warnings.simplefilter(action='ignore', category=UserWarning)"
      ],
      "metadata": {
        "_uuid": "8f2839f25d086af736a60e9eeb907d3b93b6e0e5",
        "_cell_guid": "b1076dfc-b9ad-4769-8c92-a6c4dae69d19",
        "_kg_hide-input": true,
        "_kg_hide-output": true,
        "execution": {
          "iopub.status.busy": "2022-11-02T20:14:49.727650Z",
          "iopub.execute_input": "2022-11-02T20:14:49.728046Z",
          "iopub.status.idle": "2022-11-02T20:14:51.030543Z",
          "shell.execute_reply.started": "2022-11-02T20:14:49.727960Z",
          "shell.execute_reply": "2022-11-02T20:14:51.029705Z"
        },
        "trusted": true,
        "id": "LKOJU-ldzhTp"
      },
      "execution_count": 18,
      "outputs": []
    },
    {
      "cell_type": "code",
      "source": [
        "df = pd.read_csv(\"TravelInsurancePrediction.csv\")"
      ],
      "metadata": {
        "execution": {
          "iopub.status.busy": "2022-11-02T20:15:02.793164Z",
          "iopub.execute_input": "2022-11-02T20:15:02.793485Z",
          "iopub.status.idle": "2022-11-02T20:15:02.819868Z",
          "shell.execute_reply.started": "2022-11-02T20:15:02.793456Z",
          "shell.execute_reply": "2022-11-02T20:15:02.818995Z"
        },
        "trusted": true,
        "id": "N8iqR33gzhTx"
      },
      "execution_count": 19,
      "outputs": []
    },
    {
      "cell_type": "code",
      "source": [
        "print(len(df))\n",
        "df.head(10)"
      ],
      "metadata": {
        "execution": {
          "iopub.status.busy": "2022-11-02T20:15:24.332532Z",
          "iopub.execute_input": "2022-11-02T20:15:24.332902Z",
          "iopub.status.idle": "2022-11-02T20:15:24.360541Z",
          "shell.execute_reply.started": "2022-11-02T20:15:24.332865Z",
          "shell.execute_reply": "2022-11-02T20:15:24.359496Z"
        },
        "trusted": true,
        "id": "P8hFxaEwzhT2",
        "colab": {
          "base_uri": "https://localhost:8080/",
          "height": 756
        },
        "outputId": "d9424a3a-4f6c-4381-a02e-3e67e3306b38"
      },
      "execution_count": 20,
      "outputs": [
        {
          "output_type": "stream",
          "name": "stdout",
          "text": [
            "1987\n"
          ]
        },
        {
          "output_type": "execute_result",
          "data": {
            "text/plain": [
              "   Unnamed: 0  Age               Employment Type GraduateOrNot  AnnualIncome  \\\n",
              "0           0   31             Government Sector           Yes        400000   \n",
              "1           1   31  Private Sector/Self Employed           Yes       1250000   \n",
              "2           2   34  Private Sector/Self Employed           Yes        500000   \n",
              "3           3   28  Private Sector/Self Employed           Yes        700000   \n",
              "4           4   28  Private Sector/Self Employed           Yes        700000   \n",
              "5           5   25  Private Sector/Self Employed            No       1150000   \n",
              "6           6   31             Government Sector           Yes       1300000   \n",
              "7           7   31  Private Sector/Self Employed           Yes       1350000   \n",
              "8           8   28  Private Sector/Self Employed           Yes       1450000   \n",
              "9           9   33             Government Sector           Yes        800000   \n",
              "\n",
              "   FamilyMembers  ChronicDiseases FrequentFlyer EverTravelledAbroad  \\\n",
              "0              6                1            No                  No   \n",
              "1              7                0            No                  No   \n",
              "2              4                1            No                  No   \n",
              "3              3                1            No                  No   \n",
              "4              8                1           Yes                  No   \n",
              "5              4                0            No                  No   \n",
              "6              4                0            No                  No   \n",
              "7              3                0           Yes                 Yes   \n",
              "8              6                1           Yes                 Yes   \n",
              "9              3                0           Yes                  No   \n",
              "\n",
              "   TravelInsurance  \n",
              "0                0  \n",
              "1                0  \n",
              "2                1  \n",
              "3                0  \n",
              "4                0  \n",
              "5                0  \n",
              "6                0  \n",
              "7                1  \n",
              "8                1  \n",
              "9                0  "
            ],
            "text/html": [
              "\n",
              "  <div id=\"df-3fdb58d0-9919-4467-aa49-c01e417618f7\">\n",
              "    <div class=\"colab-df-container\">\n",
              "      <div>\n",
              "<style scoped>\n",
              "    .dataframe tbody tr th:only-of-type {\n",
              "        vertical-align: middle;\n",
              "    }\n",
              "\n",
              "    .dataframe tbody tr th {\n",
              "        vertical-align: top;\n",
              "    }\n",
              "\n",
              "    .dataframe thead th {\n",
              "        text-align: right;\n",
              "    }\n",
              "</style>\n",
              "<table border=\"1\" class=\"dataframe\">\n",
              "  <thead>\n",
              "    <tr style=\"text-align: right;\">\n",
              "      <th></th>\n",
              "      <th>Unnamed: 0</th>\n",
              "      <th>Age</th>\n",
              "      <th>Employment Type</th>\n",
              "      <th>GraduateOrNot</th>\n",
              "      <th>AnnualIncome</th>\n",
              "      <th>FamilyMembers</th>\n",
              "      <th>ChronicDiseases</th>\n",
              "      <th>FrequentFlyer</th>\n",
              "      <th>EverTravelledAbroad</th>\n",
              "      <th>TravelInsurance</th>\n",
              "    </tr>\n",
              "  </thead>\n",
              "  <tbody>\n",
              "    <tr>\n",
              "      <th>0</th>\n",
              "      <td>0</td>\n",
              "      <td>31</td>\n",
              "      <td>Government Sector</td>\n",
              "      <td>Yes</td>\n",
              "      <td>400000</td>\n",
              "      <td>6</td>\n",
              "      <td>1</td>\n",
              "      <td>No</td>\n",
              "      <td>No</td>\n",
              "      <td>0</td>\n",
              "    </tr>\n",
              "    <tr>\n",
              "      <th>1</th>\n",
              "      <td>1</td>\n",
              "      <td>31</td>\n",
              "      <td>Private Sector/Self Employed</td>\n",
              "      <td>Yes</td>\n",
              "      <td>1250000</td>\n",
              "      <td>7</td>\n",
              "      <td>0</td>\n",
              "      <td>No</td>\n",
              "      <td>No</td>\n",
              "      <td>0</td>\n",
              "    </tr>\n",
              "    <tr>\n",
              "      <th>2</th>\n",
              "      <td>2</td>\n",
              "      <td>34</td>\n",
              "      <td>Private Sector/Self Employed</td>\n",
              "      <td>Yes</td>\n",
              "      <td>500000</td>\n",
              "      <td>4</td>\n",
              "      <td>1</td>\n",
              "      <td>No</td>\n",
              "      <td>No</td>\n",
              "      <td>1</td>\n",
              "    </tr>\n",
              "    <tr>\n",
              "      <th>3</th>\n",
              "      <td>3</td>\n",
              "      <td>28</td>\n",
              "      <td>Private Sector/Self Employed</td>\n",
              "      <td>Yes</td>\n",
              "      <td>700000</td>\n",
              "      <td>3</td>\n",
              "      <td>1</td>\n",
              "      <td>No</td>\n",
              "      <td>No</td>\n",
              "      <td>0</td>\n",
              "    </tr>\n",
              "    <tr>\n",
              "      <th>4</th>\n",
              "      <td>4</td>\n",
              "      <td>28</td>\n",
              "      <td>Private Sector/Self Employed</td>\n",
              "      <td>Yes</td>\n",
              "      <td>700000</td>\n",
              "      <td>8</td>\n",
              "      <td>1</td>\n",
              "      <td>Yes</td>\n",
              "      <td>No</td>\n",
              "      <td>0</td>\n",
              "    </tr>\n",
              "    <tr>\n",
              "      <th>5</th>\n",
              "      <td>5</td>\n",
              "      <td>25</td>\n",
              "      <td>Private Sector/Self Employed</td>\n",
              "      <td>No</td>\n",
              "      <td>1150000</td>\n",
              "      <td>4</td>\n",
              "      <td>0</td>\n",
              "      <td>No</td>\n",
              "      <td>No</td>\n",
              "      <td>0</td>\n",
              "    </tr>\n",
              "    <tr>\n",
              "      <th>6</th>\n",
              "      <td>6</td>\n",
              "      <td>31</td>\n",
              "      <td>Government Sector</td>\n",
              "      <td>Yes</td>\n",
              "      <td>1300000</td>\n",
              "      <td>4</td>\n",
              "      <td>0</td>\n",
              "      <td>No</td>\n",
              "      <td>No</td>\n",
              "      <td>0</td>\n",
              "    </tr>\n",
              "    <tr>\n",
              "      <th>7</th>\n",
              "      <td>7</td>\n",
              "      <td>31</td>\n",
              "      <td>Private Sector/Self Employed</td>\n",
              "      <td>Yes</td>\n",
              "      <td>1350000</td>\n",
              "      <td>3</td>\n",
              "      <td>0</td>\n",
              "      <td>Yes</td>\n",
              "      <td>Yes</td>\n",
              "      <td>1</td>\n",
              "    </tr>\n",
              "    <tr>\n",
              "      <th>8</th>\n",
              "      <td>8</td>\n",
              "      <td>28</td>\n",
              "      <td>Private Sector/Self Employed</td>\n",
              "      <td>Yes</td>\n",
              "      <td>1450000</td>\n",
              "      <td>6</td>\n",
              "      <td>1</td>\n",
              "      <td>Yes</td>\n",
              "      <td>Yes</td>\n",
              "      <td>1</td>\n",
              "    </tr>\n",
              "    <tr>\n",
              "      <th>9</th>\n",
              "      <td>9</td>\n",
              "      <td>33</td>\n",
              "      <td>Government Sector</td>\n",
              "      <td>Yes</td>\n",
              "      <td>800000</td>\n",
              "      <td>3</td>\n",
              "      <td>0</td>\n",
              "      <td>Yes</td>\n",
              "      <td>No</td>\n",
              "      <td>0</td>\n",
              "    </tr>\n",
              "  </tbody>\n",
              "</table>\n",
              "</div>\n",
              "      <button class=\"colab-df-convert\" onclick=\"convertToInteractive('df-3fdb58d0-9919-4467-aa49-c01e417618f7')\"\n",
              "              title=\"Convert this dataframe to an interactive table.\"\n",
              "              style=\"display:none;\">\n",
              "        \n",
              "  <svg xmlns=\"http://www.w3.org/2000/svg\" height=\"24px\"viewBox=\"0 0 24 24\"\n",
              "       width=\"24px\">\n",
              "    <path d=\"M0 0h24v24H0V0z\" fill=\"none\"/>\n",
              "    <path d=\"M18.56 5.44l.94 2.06.94-2.06 2.06-.94-2.06-.94-.94-2.06-.94 2.06-2.06.94zm-11 1L8.5 8.5l.94-2.06 2.06-.94-2.06-.94L8.5 2.5l-.94 2.06-2.06.94zm10 10l.94 2.06.94-2.06 2.06-.94-2.06-.94-.94-2.06-.94 2.06-2.06.94z\"/><path d=\"M17.41 7.96l-1.37-1.37c-.4-.4-.92-.59-1.43-.59-.52 0-1.04.2-1.43.59L10.3 9.45l-7.72 7.72c-.78.78-.78 2.05 0 2.83L4 21.41c.39.39.9.59 1.41.59.51 0 1.02-.2 1.41-.59l7.78-7.78 2.81-2.81c.8-.78.8-2.07 0-2.86zM5.41 20L4 18.59l7.72-7.72 1.47 1.35L5.41 20z\"/>\n",
              "  </svg>\n",
              "      </button>\n",
              "      \n",
              "  <style>\n",
              "    .colab-df-container {\n",
              "      display:flex;\n",
              "      flex-wrap:wrap;\n",
              "      gap: 12px;\n",
              "    }\n",
              "\n",
              "    .colab-df-convert {\n",
              "      background-color: #E8F0FE;\n",
              "      border: none;\n",
              "      border-radius: 50%;\n",
              "      cursor: pointer;\n",
              "      display: none;\n",
              "      fill: #1967D2;\n",
              "      height: 32px;\n",
              "      padding: 0 0 0 0;\n",
              "      width: 32px;\n",
              "    }\n",
              "\n",
              "    .colab-df-convert:hover {\n",
              "      background-color: #E2EBFA;\n",
              "      box-shadow: 0px 1px 2px rgba(60, 64, 67, 0.3), 0px 1px 3px 1px rgba(60, 64, 67, 0.15);\n",
              "      fill: #174EA6;\n",
              "    }\n",
              "\n",
              "    [theme=dark] .colab-df-convert {\n",
              "      background-color: #3B4455;\n",
              "      fill: #D2E3FC;\n",
              "    }\n",
              "\n",
              "    [theme=dark] .colab-df-convert:hover {\n",
              "      background-color: #434B5C;\n",
              "      box-shadow: 0px 1px 3px 1px rgba(0, 0, 0, 0.15);\n",
              "      filter: drop-shadow(0px 1px 2px rgba(0, 0, 0, 0.3));\n",
              "      fill: #FFFFFF;\n",
              "    }\n",
              "  </style>\n",
              "\n",
              "      <script>\n",
              "        const buttonEl =\n",
              "          document.querySelector('#df-3fdb58d0-9919-4467-aa49-c01e417618f7 button.colab-df-convert');\n",
              "        buttonEl.style.display =\n",
              "          google.colab.kernel.accessAllowed ? 'block' : 'none';\n",
              "\n",
              "        async function convertToInteractive(key) {\n",
              "          const element = document.querySelector('#df-3fdb58d0-9919-4467-aa49-c01e417618f7');\n",
              "          const dataTable =\n",
              "            await google.colab.kernel.invokeFunction('convertToInteractive',\n",
              "                                                     [key], {});\n",
              "          if (!dataTable) return;\n",
              "\n",
              "          const docLinkHtml = 'Like what you see? Visit the ' +\n",
              "            '<a target=\"_blank\" href=https://colab.research.google.com/notebooks/data_table.ipynb>data table notebook</a>'\n",
              "            + ' to learn more about interactive tables.';\n",
              "          element.innerHTML = '';\n",
              "          dataTable['output_type'] = 'display_data';\n",
              "          await google.colab.output.renderOutput(dataTable, element);\n",
              "          const docLink = document.createElement('div');\n",
              "          docLink.innerHTML = docLinkHtml;\n",
              "          element.appendChild(docLink);\n",
              "        }\n",
              "      </script>\n",
              "    </div>\n",
              "  </div>\n",
              "  "
            ]
          },
          "metadata": {},
          "execution_count": 20
        }
      ]
    },
    {
      "cell_type": "code",
      "source": [
        "print(df.nunique())"
      ],
      "metadata": {
        "id": "SeTAWAtq38j1",
        "colab": {
          "base_uri": "https://localhost:8080/"
        },
        "outputId": "edf8ac1d-f8f4-476d-9b17-96266abaabef"
      },
      "execution_count": 21,
      "outputs": [
        {
          "output_type": "stream",
          "name": "stdout",
          "text": [
            "Unnamed: 0             1987\n",
            "Age                      11\n",
            "Employment Type           2\n",
            "GraduateOrNot             2\n",
            "AnnualIncome             30\n",
            "FamilyMembers             8\n",
            "ChronicDiseases           2\n",
            "FrequentFlyer             2\n",
            "EverTravelledAbroad       2\n",
            "TravelInsurance           2\n",
            "dtype: int64\n"
          ]
        }
      ]
    },
    {
      "cell_type": "code",
      "source": [
        "# Feature Engineering, by converting YES and NO to 0 or 1. \n",
        "x = df['Employment Type'].values\n",
        "df['Employment Type']=np.select([x == \"Government Sector\", x == \"Private Sector/Self Employed\"], [0,1])\n",
        "x = df['GraduateOrNot'].values\n",
        "df['GraduateOrNot']=np.select([x == \"NO\", x == \"YES\"], [0,1])\n",
        "x = df['ChronicDiseases'].values\n",
        "df['ChronicDiseases']=np.select([x == \"NO\", x == \"YES\"], [0,1])\n",
        "x = df['FrequentFlyer'].values\n",
        "df['FrequentFlyer']=np.select([x == \"NO\", x == \"YES\"], [0,1])\n",
        "x = df['EverTravelledAbroad'].values\n",
        "df['EverTravelledAbroad']=np.select([x == \"NO\", x == \"YES\"], [0,1])\n",
        "\n",
        "df.head(10)\n",
        "df = df.drop(['Unnamed: 0'], axis = 1)\n"
      ],
      "metadata": {
        "execution": {
          "iopub.status.busy": "2022-11-02T20:15:51.927241Z",
          "iopub.execute_input": "2022-11-02T20:15:51.927739Z",
          "iopub.status.idle": "2022-11-02T20:15:51.933991Z",
          "shell.execute_reply.started": "2022-11-02T20:15:51.927704Z",
          "shell.execute_reply": "2022-11-02T20:15:51.933270Z"
        },
        "trusted": true,
        "id": "9YkwCUfozhT6"
      },
      "execution_count": 22,
      "outputs": []
    },
    {
      "cell_type": "code",
      "source": [
        "df.isnull().sum()"
      ],
      "metadata": {
        "_kg_hide-input": true,
        "execution": {
          "iopub.status.busy": "2022-11-02T20:16:00.170606Z",
          "iopub.execute_input": "2022-11-02T20:16:00.170929Z",
          "iopub.status.idle": "2022-11-02T20:16:00.179903Z",
          "shell.execute_reply.started": "2022-11-02T20:16:00.170898Z",
          "shell.execute_reply": "2022-11-02T20:16:00.178985Z"
        },
        "trusted": true,
        "id": "Os3-RKizzhT8",
        "colab": {
          "base_uri": "https://localhost:8080/"
        },
        "outputId": "d8d5ebab-dc94-4ee4-c49b-d95443d8f34c"
      },
      "execution_count": 23,
      "outputs": [
        {
          "output_type": "execute_result",
          "data": {
            "text/plain": [
              "Age                    0\n",
              "Employment Type        0\n",
              "GraduateOrNot          0\n",
              "AnnualIncome           0\n",
              "FamilyMembers          0\n",
              "ChronicDiseases        0\n",
              "FrequentFlyer          0\n",
              "EverTravelledAbroad    0\n",
              "TravelInsurance        0\n",
              "dtype: int64"
            ]
          },
          "metadata": {},
          "execution_count": 23
        }
      ]
    },
    {
      "cell_type": "markdown",
      "source": [
        "Ok, no missing values."
      ],
      "metadata": {
        "id": "sUc1hE0JzhT9"
      }
    },
    {
      "cell_type": "code",
      "source": [
        "df['TravelInsurance'].value_counts()"
      ],
      "metadata": {
        "colab": {
          "base_uri": "https://localhost:8080/"
        },
        "id": "1UY5FAeBc_rx",
        "outputId": "f9524be4-3e72-4218-895d-bda0dc6a6a8a"
      },
      "execution_count": 24,
      "outputs": [
        {
          "output_type": "execute_result",
          "data": {
            "text/plain": [
              "0    1277\n",
              "1     710\n",
              "Name: TravelInsurance, dtype: int64"
            ]
          },
          "metadata": {},
          "execution_count": 24
        }
      ]
    },
    {
      "cell_type": "markdown",
      "source": [
        "Showing df is roughly balanced as it is split around 2:1"
      ],
      "metadata": {
        "id": "j1MMsdW_dFDM"
      }
    },
    {
      "cell_type": "code",
      "source": [
        "plt.figure(figsize=(40,10))\n",
        "sns.countplot('AnnualIncome',hue='TravelInsurance',data=df)\n",
        "plt.show()"
      ],
      "metadata": {
        "_kg_hide-input": true,
        "execution": {
          "iopub.status.busy": "2022-11-02T20:16:08.058447Z",
          "iopub.execute_input": "2022-11-02T20:16:08.058759Z",
          "iopub.status.idle": "2022-11-02T20:16:08.655324Z",
          "shell.execute_reply.started": "2022-11-02T20:16:08.058731Z",
          "shell.execute_reply": "2022-11-02T20:16:08.654226Z"
        },
        "trusted": true,
        "id": "jQZyCpt1zhT-",
        "colab": {
          "base_uri": "https://localhost:8080/",
          "height": 238
        },
        "outputId": "05af1713-ff6c-4697-9d13-5007814d26a3"
      },
      "execution_count": 25,
      "outputs": [
        {
          "output_type": "display_data",
          "data": {
            "text/plain": [
              "<Figure size 2880x720 with 1 Axes>"
            ],
            "image/png": "[encoded data removed]"
          },
          "metadata": {
            "needs_background": "light"
          }
        }
      ]
    },
    {
      "cell_type": "markdown",
      "source": [
        "Clearly the majority of people with salaries of less than 1,350,000 don't take an insurance claim, whilst those with more do take an insurance claim.\n",
        "However, with only 30 unique salaries, 1,750,000 is an outlier so I will remove it for training improvement."
      ],
      "metadata": {
        "id": "dPjEBPi7wGpc"
      }
    },
    {
      "cell_type": "code",
      "source": [
        "sns.countplot('FrequentFlyer',hue='TravelInsurance',data=df)\n",
        "plt.show()"
      ],
      "metadata": {
        "_kg_hide-input": true,
        "execution": {
          "iopub.status.busy": "2022-11-02T20:16:31.940073Z",
          "iopub.execute_input": "2022-11-02T20:16:31.940421Z",
          "iopub.status.idle": "2022-11-02T20:16:32.056425Z",
          "shell.execute_reply.started": "2022-11-02T20:16:31.940371Z",
          "shell.execute_reply": "2022-11-02T20:16:32.055237Z"
        },
        "trusted": true,
        "id": "yxSHbqqMzhUC",
        "colab": {
          "base_uri": "https://localhost:8080/",
          "height": 279
        },
        "outputId": "5ce18c43-9214-47bb-958f-7fcdc049fab9"
      },
      "execution_count": 26,
      "outputs": [
        {
          "output_type": "display_data",
          "data": {
            "text/plain": [
              "<Figure size 432x288 with 1 Axes>"
            ],
            "image/png": "[encoded data removed]"
          },
          "metadata": {
            "needs_background": "light"
          }
        }
      ]
    },
    {
      "cell_type": "markdown",
      "source": [
        "Frequent flyers are more likely to take travel insurance."
      ],
      "metadata": {
        "id": "RpVGnXvBzhUD"
      }
    },
    {
      "cell_type": "code",
      "source": [
        "sns.countplot('ChronicDiseases',hue='TravelInsurance',data=df)\n",
        "plt.show()"
      ],
      "metadata": {
        "_kg_hide-input": true,
        "execution": {
          "iopub.status.busy": "2022-11-02T20:16:45.782694Z",
          "iopub.execute_input": "2022-11-02T20:16:45.783022Z",
          "iopub.status.idle": "2022-11-02T20:16:45.892991Z",
          "shell.execute_reply.started": "2022-11-02T20:16:45.782993Z",
          "shell.execute_reply": "2022-11-02T20:16:45.891965Z"
        },
        "trusted": true,
        "id": "VrDDnuSVzhUE",
        "colab": {
          "base_uri": "https://localhost:8080/",
          "height": 279
        },
        "outputId": "6137b466-6838-49ca-dd6e-a70b00780653"
      },
      "execution_count": 27,
      "outputs": [
        {
          "output_type": "display_data",
          "data": {
            "text/plain": [
              "<Figure size 432x288 with 1 Axes>"
            ],
            "image/png": "[encoded data removed]"
          },
          "metadata": {
            "needs_background": "light"
          }
        }
      ]
    },
    {
      "cell_type": "code",
      "source": [
        "sns.countplot('EverTravelledAbroad',hue='TravelInsurance',data=df)\n",
        "plt.show()"
      ],
      "metadata": {
        "_kg_hide-input": true,
        "execution": {
          "iopub.status.busy": "2021-11-25T10:36:18.575138Z",
          "iopub.execute_input": "2021-11-25T10:36:18.575402Z",
          "iopub.status.idle": "2021-11-25T10:36:18.577313Z"
        },
        "trusted": true,
        "id": "IYAgnSbTzhUG",
        "colab": {
          "base_uri": "https://localhost:8080/",
          "height": 279
        },
        "outputId": "52d4e6be-7fc5-4ad9-c263-39e4ce919de3"
      },
      "execution_count": 28,
      "outputs": [
        {
          "output_type": "display_data",
          "data": {
            "text/plain": [
              "<Figure size 432x288 with 1 Axes>"
            ],
            "image/png": "[encoded data removed]"
          },
          "metadata": {
            "needs_background": "light"
          }
        }
      ]
    },
    {
      "cell_type": "code",
      "source": [
        "sns.countplot('Age',hue='TravelInsurance',data=df)\n",
        "plt.show()"
      ],
      "metadata": {
        "_kg_hide-input": true,
        "execution": {
          "iopub.status.busy": "2021-11-25T10:36:18.578496Z",
          "iopub.execute_input": "2021-11-25T10:36:18.578798Z",
          "iopub.status.idle": "2021-11-25T10:36:18.580652Z"
        },
        "trusted": true,
        "id": "uM46LnUCzhUI",
        "colab": {
          "base_uri": "https://localhost:8080/",
          "height": 279
        },
        "outputId": "ee313810-bfb3-4d54-c944-60e825e6494e"
      },
      "execution_count": 29,
      "outputs": [
        {
          "output_type": "display_data",
          "data": {
            "text/plain": [
              "<Figure size 432x288 with 1 Axes>"
            ],
            "image/png": "[encoded data removed]"
          },
          "metadata": {
            "needs_background": "light"
          }
        }
      ]
    },
    {
      "cell_type": "markdown",
      "source": [
        "Age doesn't seem to directly correlate with taking out travel insurance."
      ],
      "metadata": {
        "id": "F7jv2UZAzhUJ"
      }
    },
    {
      "cell_type": "code",
      "source": [
        "sns.countplot('FamilyMembers',hue='TravelInsurance',data=df)\n",
        "plt.show()"
      ],
      "metadata": {
        "_kg_hide-input": true,
        "execution": {
          "iopub.status.busy": "2021-11-25T10:36:18.691487Z",
          "iopub.execute_input": "2021-11-25T10:36:18.691888Z",
          "iopub.status.idle": "2021-11-25T10:36:18.69416Z"
        },
        "trusted": true,
        "id": "gijSi9IdzhUK",
        "colab": {
          "base_uri": "https://localhost:8080/",
          "height": 279
        },
        "outputId": "4dff1de6-46f2-438e-e5da-6c9a155e3f03"
      },
      "execution_count": 30,
      "outputs": [
        {
          "output_type": "display_data",
          "data": {
            "text/plain": [
              "<Figure size 432x288 with 1 Axes>"
            ],
            "image/png": "[encoded data removed]"
          },
          "metadata": {
            "needs_background": "light"
          }
        }
      ]
    },
    {
      "cell_type": "code",
      "source": [
        "sns.countplot('GraduateOrNot',hue='TravelInsurance',data=df)\n",
        "plt.show()"
      ],
      "metadata": {
        "execution": {
          "iopub.status.busy": "2021-11-25T10:36:18.695935Z",
          "iopub.execute_input": "2021-11-25T10:36:18.696354Z",
          "iopub.status.idle": "2021-11-25T10:36:18.69838Z"
        },
        "trusted": true,
        "id": "tzgdQUOSzhUL",
        "colab": {
          "base_uri": "https://localhost:8080/",
          "height": 279
        },
        "outputId": "ffc5f20b-7d6b-4664-f2a6-bd24e81f7aff"
      },
      "execution_count": 31,
      "outputs": [
        {
          "output_type": "display_data",
          "data": {
            "text/plain": [
              "<Figure size 432x288 with 1 Axes>"
            ],
            "image/png": "[encoded data removed]"
          },
          "metadata": {
            "needs_background": "light"
          }
        }
      ]
    },
    {
      "cell_type": "code",
      "source": [
        "sns.countplot('Age',hue='TravelInsurance',data=df)\n",
        "plt.show()"
      ],
      "metadata": {
        "id": "IFZpP0NdM1Ux",
        "colab": {
          "base_uri": "https://localhost:8080/",
          "height": 279
        },
        "outputId": "13ffb0ee-7f76-450d-bf32-8fead8662e00"
      },
      "execution_count": 32,
      "outputs": [
        {
          "output_type": "display_data",
          "data": {
            "text/plain": [
              "<Figure size 432x288 with 1 Axes>"
            ],
            "image/png": "[encoded data removed]"
          },
          "metadata": {
            "needs_background": "light"
          }
        }
      ]
    },
    {
      "cell_type": "markdown",
      "source": [
        "# Feature engineering"
      ],
      "metadata": {
        "id": "QnRqhM34zhUM"
      }
    },
    {
      "cell_type": "markdown",
      "source": [
        "People with salaries of 1,350,000 or more are strongly correlated with taking out insurance claims so I will encode it."
      ],
      "metadata": {
        "id": "rZctiWGDzhUN"
      }
    },
    {
      "cell_type": "code",
      "source": [
        "x = df['AnnualIncome']\n",
        "df['AnnualIncome']=np.select([x < 1350000, x >= 1350000], [0,1])\n",
        "df = df[df['AnnualIncome'] != 1700000] "
      ],
      "metadata": {
        "id": "aB2C1edvEO4j"
      },
      "execution_count": 33,
      "outputs": []
    },
    {
      "cell_type": "markdown",
      "source": [
        "# Model learning"
      ],
      "metadata": {
        "id": "OORkJFiYzhUU"
      }
    },
    {
      "cell_type": "code",
      "source": [
        "X = df.iloc[:,:-1].values\n",
        "y = df.iloc[:,-1].values\n",
        "X_train, X_test, y_train, y_test = train_test_split(X, y, test_size=0.25, random_state=42)\n",
        "from xgboost import XGBClassifier\n",
        "clf = XGBClassifier()\n",
        "clf.fit(X_train, y_train)\n",
        "# get importance\n",
        "print(df.columns)\n",
        "clf.feature_importances_\n"
      ],
      "metadata": {
        "execution": {
          "iopub.status.busy": "2021-11-25T18:18:49.308751Z",
          "iopub.execute_input": "2021-11-25T18:18:49.309499Z",
          "iopub.status.idle": "2021-11-25T18:18:49.321907Z",
          "shell.execute_reply.started": "2021-11-25T18:18:49.309448Z",
          "shell.execute_reply": "2021-11-25T18:18:49.321304Z"
        },
        "trusted": true,
        "id": "f3voLBhhzhUV",
        "colab": {
          "base_uri": "https://localhost:8080/"
        },
        "outputId": "ff81970a-3f01-4b40-a1ba-cae0d896c255"
      },
      "execution_count": 34,
      "outputs": [
        {
          "output_type": "stream",
          "name": "stdout",
          "text": [
            "Index(['Age', 'Employment Type', 'GraduateOrNot', 'AnnualIncome',\n",
            "       'FamilyMembers', 'ChronicDiseases', 'FrequentFlyer',\n",
            "       'EverTravelledAbroad', 'TravelInsurance'],\n",
            "      dtype='object')\n"
          ]
        },
        {
          "output_type": "execute_result",
          "data": {
            "text/plain": [
              "array([0.03071481, 0.01292596, 0.        , 0.8905196 , 0.06583954,\n",
              "       0.        , 0.        , 0.        ], dtype=float32)"
            ]
          },
          "metadata": {},
          "execution_count": 34
        }
      ]
    },
    {
      "cell_type": "code",
      "source": [
        "#Drop any feature with 0 importance \n",
        "df = df.drop(['GraduateOrNot', 'ChronicDiseases',\t'FrequentFlyer',\n",
        "'EverTravelledAbroad'], axis = 1)\n",
        "df.head(10)"
      ],
      "metadata": {
        "id": "Fo3RCXYQIlJ8",
        "colab": {
          "base_uri": "https://localhost:8080/",
          "height": 363
        },
        "outputId": "850fcdc3-2fc3-43d4-8c10-3b4898568361"
      },
      "execution_count": 35,
      "outputs": [
        {
          "output_type": "execute_result",
          "data": {
            "text/plain": [
              "   Age  Employment Type  AnnualIncome  FamilyMembers  TravelInsurance\n",
              "0   31                0             0              6                0\n",
              "1   31                1             0              7                0\n",
              "2   34                1             0              4                1\n",
              "3   28                1             0              3                0\n",
              "4   28                1             0              8                0\n",
              "5   25                1             0              4                0\n",
              "6   31                0             0              4                0\n",
              "7   31                1             1              3                1\n",
              "8   28                1             1              6                1\n",
              "9   33                0             0              3                0"
            ],
            "text/html": [
              "\n",
              "  <div id=\"df-91f1be91-664f-4a37-b42e-c93059661152\">\n",
              "    <div class=\"colab-df-container\">\n",
              "      <div>\n",
              "<style scoped>\n",
              "    .dataframe tbody tr th:only-of-type {\n",
              "        vertical-align: middle;\n",
              "    }\n",
              "\n",
              "    .dataframe tbody tr th {\n",
              "        vertical-align: top;\n",
              "    }\n",
              "\n",
              "    .dataframe thead th {\n",
              "        text-align: right;\n",
              "    }\n",
              "</style>\n",
              "<table border=\"1\" class=\"dataframe\">\n",
              "  <thead>\n",
              "    <tr style=\"text-align: right;\">\n",
              "      <th></th>\n",
              "      <th>Age</th>\n",
              "      <th>Employment Type</th>\n",
              "      <th>AnnualIncome</th>\n",
              "      <th>FamilyMembers</th>\n",
              "      <th>TravelInsurance</th>\n",
              "    </tr>\n",
              "  </thead>\n",
              "  <tbody>\n",
              "    <tr>\n",
              "      <th>0</th>\n",
              "      <td>31</td>\n",
              "      <td>0</td>\n",
              "      <td>0</td>\n",
              "      <td>6</td>\n",
              "      <td>0</td>\n",
              "    </tr>\n",
              "    <tr>\n",
              "      <th>1</th>\n",
              "      <td>31</td>\n",
              "      <td>1</td>\n",
              "      <td>0</td>\n",
              "      <td>7</td>\n",
              "      <td>0</td>\n",
              "    </tr>\n",
              "    <tr>\n",
              "      <th>2</th>\n",
              "      <td>34</td>\n",
              "      <td>1</td>\n",
              "      <td>0</td>\n",
              "      <td>4</td>\n",
              "      <td>1</td>\n",
              "    </tr>\n",
              "    <tr>\n",
              "      <th>3</th>\n",
              "      <td>28</td>\n",
              "      <td>1</td>\n",
              "      <td>0</td>\n",
              "      <td>3</td>\n",
              "      <td>0</td>\n",
              "    </tr>\n",
              "    <tr>\n",
              "      <th>4</th>\n",
              "      <td>28</td>\n",
              "      <td>1</td>\n",
              "      <td>0</td>\n",
              "      <td>8</td>\n",
              "      <td>0</td>\n",
              "    </tr>\n",
              "    <tr>\n",
              "      <th>5</th>\n",
              "      <td>25</td>\n",
              "      <td>1</td>\n",
              "      <td>0</td>\n",
              "      <td>4</td>\n",
              "      <td>0</td>\n",
              "    </tr>\n",
              "    <tr>\n",
              "      <th>6</th>\n",
              "      <td>31</td>\n",
              "      <td>0</td>\n",
              "      <td>0</td>\n",
              "      <td>4</td>\n",
              "      <td>0</td>\n",
              "    </tr>\n",
              "    <tr>\n",
              "      <th>7</th>\n",
              "      <td>31</td>\n",
              "      <td>1</td>\n",
              "      <td>1</td>\n",
              "      <td>3</td>\n",
              "      <td>1</td>\n",
              "    </tr>\n",
              "    <tr>\n",
              "      <th>8</th>\n",
              "      <td>28</td>\n",
              "      <td>1</td>\n",
              "      <td>1</td>\n",
              "      <td>6</td>\n",
              "      <td>1</td>\n",
              "    </tr>\n",
              "    <tr>\n",
              "      <th>9</th>\n",
              "      <td>33</td>\n",
              "      <td>0</td>\n",
              "      <td>0</td>\n",
              "      <td>3</td>\n",
              "      <td>0</td>\n",
              "    </tr>\n",
              "  </tbody>\n",
              "</table>\n",
              "</div>\n",
              "      <button class=\"colab-df-convert\" onclick=\"convertToInteractive('df-91f1be91-664f-4a37-b42e-c93059661152')\"\n",
              "              title=\"Convert this dataframe to an interactive table.\"\n",
              "              style=\"display:none;\">\n",
              "        \n",
              "  <svg xmlns=\"http://www.w3.org/2000/svg\" height=\"24px\"viewBox=\"0 0 24 24\"\n",
              "       width=\"24px\">\n",
              "    <path d=\"M0 0h24v24H0V0z\" fill=\"none\"/>\n",
              "    <path d=\"M18.56 5.44l.94 2.06.94-2.06 2.06-.94-2.06-.94-.94-2.06-.94 2.06-2.06.94zm-11 1L8.5 8.5l.94-2.06 2.06-.94-2.06-.94L8.5 2.5l-.94 2.06-2.06.94zm10 10l.94 2.06.94-2.06 2.06-.94-2.06-.94-.94-2.06-.94 2.06-2.06.94z\"/><path d=\"M17.41 7.96l-1.37-1.37c-.4-.4-.92-.59-1.43-.59-.52 0-1.04.2-1.43.59L10.3 9.45l-7.72 7.72c-.78.78-.78 2.05 0 2.83L4 21.41c.39.39.9.59 1.41.59.51 0 1.02-.2 1.41-.59l7.78-7.78 2.81-2.81c.8-.78.8-2.07 0-2.86zM5.41 20L4 18.59l7.72-7.72 1.47 1.35L5.41 20z\"/>\n",
              "  </svg>\n",
              "      </button>\n",
              "      \n",
              "  <style>\n",
              "    .colab-df-container {\n",
              "      display:flex;\n",
              "      flex-wrap:wrap;\n",
              "      gap: 12px;\n",
              "    }\n",
              "\n",
              "    .colab-df-convert {\n",
              "      background-color: #E8F0FE;\n",
              "      border: none;\n",
              "      border-radius: 50%;\n",
              "      cursor: pointer;\n",
              "      display: none;\n",
              "      fill: #1967D2;\n",
              "      height: 32px;\n",
              "      padding: 0 0 0 0;\n",
              "      width: 32px;\n",
              "    }\n",
              "\n",
              "    .colab-df-convert:hover {\n",
              "      background-color: #E2EBFA;\n",
              "      box-shadow: 0px 1px 2px rgba(60, 64, 67, 0.3), 0px 1px 3px 1px rgba(60, 64, 67, 0.15);\n",
              "      fill: #174EA6;\n",
              "    }\n",
              "\n",
              "    [theme=dark] .colab-df-convert {\n",
              "      background-color: #3B4455;\n",
              "      fill: #D2E3FC;\n",
              "    }\n",
              "\n",
              "    [theme=dark] .colab-df-convert:hover {\n",
              "      background-color: #434B5C;\n",
              "      box-shadow: 0px 1px 3px 1px rgba(0, 0, 0, 0.15);\n",
              "      filter: drop-shadow(0px 1px 2px rgba(0, 0, 0, 0.3));\n",
              "      fill: #FFFFFF;\n",
              "    }\n",
              "  </style>\n",
              "\n",
              "      <script>\n",
              "        const buttonEl =\n",
              "          document.querySelector('#df-91f1be91-664f-4a37-b42e-c93059661152 button.colab-df-convert');\n",
              "        buttonEl.style.display =\n",
              "          google.colab.kernel.accessAllowed ? 'block' : 'none';\n",
              "\n",
              "        async function convertToInteractive(key) {\n",
              "          const element = document.querySelector('#df-91f1be91-664f-4a37-b42e-c93059661152');\n",
              "          const dataTable =\n",
              "            await google.colab.kernel.invokeFunction('convertToInteractive',\n",
              "                                                     [key], {});\n",
              "          if (!dataTable) return;\n",
              "\n",
              "          const docLinkHtml = 'Like what you see? Visit the ' +\n",
              "            '<a target=\"_blank\" href=https://colab.research.google.com/notebooks/data_table.ipynb>data table notebook</a>'\n",
              "            + ' to learn more about interactive tables.';\n",
              "          element.innerHTML = '';\n",
              "          dataTable['output_type'] = 'display_data';\n",
              "          await google.colab.output.renderOutput(dataTable, element);\n",
              "          const docLink = document.createElement('div');\n",
              "          docLink.innerHTML = docLinkHtml;\n",
              "          element.appendChild(docLink);\n",
              "        }\n",
              "      </script>\n",
              "    </div>\n",
              "  </div>\n",
              "  "
            ]
          },
          "metadata": {},
          "execution_count": 35
        }
      ]
    },
    {
      "cell_type": "code",
      "source": [
        "sns.countplot('FamilyMembers',hue='Age',data=df)\n",
        "plt.show()\n",
        "\n",
        "plt.show()\n",
        "X = df.iloc[:,:-1].values\n",
        "y = df.iloc[:,-1].values\n",
        "from xgboost import XGBClassifier\n",
        "clf = XGBClassifier()\n",
        "clf.fit(X_train, y_train)\n",
        "# get importance\n",
        "print(df.columns)\n",
        "clf.feature_importances_"
      ],
      "metadata": {
        "id": "x6n8EytPnLd3",
        "colab": {
          "base_uri": "https://localhost:8080/",
          "height": 366
        },
        "outputId": "2e960e1e-6a74-402a-c67c-eb7d37e6a6c9"
      },
      "execution_count": 36,
      "outputs": [
        {
          "output_type": "display_data",
          "data": {
            "text/plain": [
              "<Figure size 432x288 with 1 Axes>"
            ],
            "image/png": "[encoded data removed]"
          },
          "metadata": {
            "needs_background": "light"
          }
        },
        {
          "output_type": "stream",
          "name": "stdout",
          "text": [
            "Index(['Age', 'Employment Type', 'AnnualIncome', 'FamilyMembers',\n",
            "       'TravelInsurance'],\n",
            "      dtype='object')\n"
          ]
        },
        {
          "output_type": "execute_result",
          "data": {
            "text/plain": [
              "array([0.03071481, 0.01292596, 0.        , 0.8905196 , 0.06583954,\n",
              "       0.        , 0.        , 0.        ], dtype=float32)"
            ]
          },
          "metadata": {},
          "execution_count": 36
        }
      ]
    },
    {
      "cell_type": "code",
      "source": [
        "y_pred = clf.predict(X_test)\n",
        "from sklearn.metrics import confusion_matrix, accuracy_score\n",
        "cm = confusion_matrix(y_test, y_pred)\n",
        "import seaborn as sns\n",
        "sns.heatmap(cm, cmap = 'YlGnBu', annot=True)\n",
        "print(\"XGBoost Classification Accuracy is: {:.2f} %\".format(100*accuracy_score(y_test, y_pred)))"
      ],
      "metadata": {
        "id": "0L2W7Qst38Wf",
        "colab": {
          "base_uri": "https://localhost:8080/",
          "height": 282
        },
        "outputId": "f7c12e70-c054-4ce4-b5d6-2ab839fe1386"
      },
      "execution_count": 37,
      "outputs": [
        {
          "output_type": "stream",
          "name": "stdout",
          "text": [
            "XGBoost Classification Accuracy is: 84.10 %\n"
          ]
        },
        {
          "output_type": "display_data",
          "data": {
            "text/plain": [
              "<Figure size 432x288 with 2 Axes>"
            ],
            "image/png": "[encoded data removed]"
          },
          "metadata": {
            "needs_background": "light"
          }
        }
      ]
    },
    {
      "cell_type": "code",
      "source": [
        "    \"\"\"## Applying K-Fold Cross Validation##\"\"\"\n",
        "    from sklearn.model_selection import cross_val_score\n",
        "    accuracies = cross_val_score(estimator = clf, X = X_train, y = y_train, cv = 10)\n",
        "    print(\"K-Fold Cross Validation Accuracy is: {:.2f} %\".format(accuracies.mean()*100))\n",
        "    print(\"K-Fold Cross Validation Standard Deviation is: {:.2f} %\".format(accuracies.std()*100))"
      ],
      "metadata": {
        "id": "58job4LkHfsU",
        "colab": {
          "base_uri": "https://localhost:8080/"
        },
        "outputId": "6bf1322e-bda4-470e-b98e-f922743f907a"
      },
      "execution_count": 38,
      "outputs": [
        {
          "output_type": "stream",
          "name": "stdout",
          "text": [
            "K-Fold Cross Validation Accuracy is: 82.75 %\n",
            "K-Fold Cross Validation Standard Deviation is: 2.74 %\n"
          ]
        }
      ]
    },
    {
      "cell_type": "code",
      "source": [
        "df.head(10)"
      ],
      "metadata": {
        "colab": {
          "base_uri": "https://localhost:8080/",
          "height": 363
        },
        "id": "sslkuVZOeM3B",
        "outputId": "ba614a58-8aca-4128-906a-eaedecdfab1b"
      },
      "execution_count": 39,
      "outputs": [
        {
          "output_type": "execute_result",
          "data": {
            "text/plain": [
              "   Age  Employment Type  AnnualIncome  FamilyMembers  TravelInsurance\n",
              "0   31                0             0              6                0\n",
              "1   31                1             0              7                0\n",
              "2   34                1             0              4                1\n",
              "3   28                1             0              3                0\n",
              "4   28                1             0              8                0\n",
              "5   25                1             0              4                0\n",
              "6   31                0             0              4                0\n",
              "7   31                1             1              3                1\n",
              "8   28                1             1              6                1\n",
              "9   33                0             0              3                0"
            ],
            "text/html": [
              "\n",
              "  <div id=\"df-8fa74592-9b10-4f21-90a5-fecc5117400b\">\n",
              "    <div class=\"colab-df-container\">\n",
              "      <div>\n",
              "<style scoped>\n",
              "    .dataframe tbody tr th:only-of-type {\n",
              "        vertical-align: middle;\n",
              "    }\n",
              "\n",
              "    .dataframe tbody tr th {\n",
              "        vertical-align: top;\n",
              "    }\n",
              "\n",
              "    .dataframe thead th {\n",
              "        text-align: right;\n",
              "    }\n",
              "</style>\n",
              "<table border=\"1\" class=\"dataframe\">\n",
              "  <thead>\n",
              "    <tr style=\"text-align: right;\">\n",
              "      <th></th>\n",
              "      <th>Age</th>\n",
              "      <th>Employment Type</th>\n",
              "      <th>AnnualIncome</th>\n",
              "      <th>FamilyMembers</th>\n",
              "      <th>TravelInsurance</th>\n",
              "    </tr>\n",
              "  </thead>\n",
              "  <tbody>\n",
              "    <tr>\n",
              "      <th>0</th>\n",
              "      <td>31</td>\n",
              "      <td>0</td>\n",
              "      <td>0</td>\n",
              "      <td>6</td>\n",
              "      <td>0</td>\n",
              "    </tr>\n",
              "    <tr>\n",
              "      <th>1</th>\n",
              "      <td>31</td>\n",
              "      <td>1</td>\n",
              "      <td>0</td>\n",
              "      <td>7</td>\n",
              "      <td>0</td>\n",
              "    </tr>\n",
              "    <tr>\n",
              "      <th>2</th>\n",
              "      <td>34</td>\n",
              "      <td>1</td>\n",
              "      <td>0</td>\n",
              "      <td>4</td>\n",
              "      <td>1</td>\n",
              "    </tr>\n",
              "    <tr>\n",
              "      <th>3</th>\n",
              "      <td>28</td>\n",
              "      <td>1</td>\n",
              "      <td>0</td>\n",
              "      <td>3</td>\n",
              "      <td>0</td>\n",
              "    </tr>\n",
              "    <tr>\n",
              "      <th>4</th>\n",
              "      <td>28</td>\n",
              "      <td>1</td>\n",
              "      <td>0</td>\n",
              "      <td>8</td>\n",
              "      <td>0</td>\n",
              "    </tr>\n",
              "    <tr>\n",
              "      <th>5</th>\n",
              "      <td>25</td>\n",
              "      <td>1</td>\n",
              "      <td>0</td>\n",
              "      <td>4</td>\n",
              "      <td>0</td>\n",
              "    </tr>\n",
              "    <tr>\n",
              "      <th>6</th>\n",
              "      <td>31</td>\n",
              "      <td>0</td>\n",
              "      <td>0</td>\n",
              "      <td>4</td>\n",
              "      <td>0</td>\n",
              "    </tr>\n",
              "    <tr>\n",
              "      <th>7</th>\n",
              "      <td>31</td>\n",
              "      <td>1</td>\n",
              "      <td>1</td>\n",
              "      <td>3</td>\n",
              "      <td>1</td>\n",
              "    </tr>\n",
              "    <tr>\n",
              "      <th>8</th>\n",
              "      <td>28</td>\n",
              "      <td>1</td>\n",
              "      <td>1</td>\n",
              "      <td>6</td>\n",
              "      <td>1</td>\n",
              "    </tr>\n",
              "    <tr>\n",
              "      <th>9</th>\n",
              "      <td>33</td>\n",
              "      <td>0</td>\n",
              "      <td>0</td>\n",
              "      <td>3</td>\n",
              "      <td>0</td>\n",
              "    </tr>\n",
              "  </tbody>\n",
              "</table>\n",
              "</div>\n",
              "      <button class=\"colab-df-convert\" onclick=\"convertToInteractive('df-8fa74592-9b10-4f21-90a5-fecc5117400b')\"\n",
              "              title=\"Convert this dataframe to an interactive table.\"\n",
              "              style=\"display:none;\">\n",
              "        \n",
              "  <svg xmlns=\"http://www.w3.org/2000/svg\" height=\"24px\"viewBox=\"0 0 24 24\"\n",
              "       width=\"24px\">\n",
              "    <path d=\"M0 0h24v24H0V0z\" fill=\"none\"/>\n",
              "    <path d=\"M18.56 5.44l.94 2.06.94-2.06 2.06-.94-2.06-.94-.94-2.06-.94 2.06-2.06.94zm-11 1L8.5 8.5l.94-2.06 2.06-.94-2.06-.94L8.5 2.5l-.94 2.06-2.06.94zm10 10l.94 2.06.94-2.06 2.06-.94-2.06-.94-.94-2.06-.94 2.06-2.06.94z\"/><path d=\"M17.41 7.96l-1.37-1.37c-.4-.4-.92-.59-1.43-.59-.52 0-1.04.2-1.43.59L10.3 9.45l-7.72 7.72c-.78.78-.78 2.05 0 2.83L4 21.41c.39.39.9.59 1.41.59.51 0 1.02-.2 1.41-.59l7.78-7.78 2.81-2.81c.8-.78.8-2.07 0-2.86zM5.41 20L4 18.59l7.72-7.72 1.47 1.35L5.41 20z\"/>\n",
              "  </svg>\n",
              "      </button>\n",
              "      \n",
              "  <style>\n",
              "    .colab-df-container {\n",
              "      display:flex;\n",
              "      flex-wrap:wrap;\n",
              "      gap: 12px;\n",
              "    }\n",
              "\n",
              "    .colab-df-convert {\n",
              "      background-color: #E8F0FE;\n",
              "      border: none;\n",
              "      border-radius: 50%;\n",
              "      cursor: pointer;\n",
              "      display: none;\n",
              "      fill: #1967D2;\n",
              "      height: 32px;\n",
              "      padding: 0 0 0 0;\n",
              "      width: 32px;\n",
              "    }\n",
              "\n",
              "    .colab-df-convert:hover {\n",
              "      background-color: #E2EBFA;\n",
              "      box-shadow: 0px 1px 2px rgba(60, 64, 67, 0.3), 0px 1px 3px 1px rgba(60, 64, 67, 0.15);\n",
              "      fill: #174EA6;\n",
              "    }\n",
              "\n",
              "    [theme=dark] .colab-df-convert {\n",
              "      background-color: #3B4455;\n",
              "      fill: #D2E3FC;\n",
              "    }\n",
              "\n",
              "    [theme=dark] .colab-df-convert:hover {\n",
              "      background-color: #434B5C;\n",
              "      box-shadow: 0px 1px 3px 1px rgba(0, 0, 0, 0.15);\n",
              "      filter: drop-shadow(0px 1px 2px rgba(0, 0, 0, 0.3));\n",
              "      fill: #FFFFFF;\n",
              "    }\n",
              "  </style>\n",
              "\n",
              "      <script>\n",
              "        const buttonEl =\n",
              "          document.querySelector('#df-8fa74592-9b10-4f21-90a5-fecc5117400b button.colab-df-convert');\n",
              "        buttonEl.style.display =\n",
              "          google.colab.kernel.accessAllowed ? 'block' : 'none';\n",
              "\n",
              "        async function convertToInteractive(key) {\n",
              "          const element = document.querySelector('#df-8fa74592-9b10-4f21-90a5-fecc5117400b');\n",
              "          const dataTable =\n",
              "            await google.colab.kernel.invokeFunction('convertToInteractive',\n",
              "                                                     [key], {});\n",
              "          if (!dataTable) return;\n",
              "\n",
              "          const docLinkHtml = 'Like what you see? Visit the ' +\n",
              "            '<a target=\"_blank\" href=https://colab.research.google.com/notebooks/data_table.ipynb>data table notebook</a>'\n",
              "            + ' to learn more about interactive tables.';\n",
              "          element.innerHTML = '';\n",
              "          dataTable['output_type'] = 'display_data';\n",
              "          await google.colab.output.renderOutput(dataTable, element);\n",
              "          const docLink = document.createElement('div');\n",
              "          docLink.innerHTML = docLinkHtml;\n",
              "          element.appendChild(docLink);\n",
              "        }\n",
              "      </script>\n",
              "    </div>\n",
              "  </div>\n",
              "  "
            ]
          },
          "metadata": {},
          "execution_count": 39
        }
      ]
    },
    {
      "cell_type": "markdown",
      "source": [
        "USING K-MEANS CLUSTERING FOR TWO MOST IMPORTANT FEATURES (AGE and FAMILY MEMBERS)"
      ],
      "metadata": {
        "id": "91a-om_-i3_m"
      }
    },
    {
      "cell_type": "code",
      "source": [
        "X = df.iloc[:, 2:-1].values\n",
        "from sklearn.cluster import KMeans\n",
        "wcss = []\n",
        "for i in range(1, 11):\n",
        "    kmeans = KMeans(n_clusters = i, init = 'k-means++', random_state = 42)\n",
        "    kmeans.fit(X)\n",
        "    wcss.append(kmeans.inertia_)\n",
        "plt.plot(range(1, 11), wcss)\n",
        "plt.title('The Elbow Method')\n",
        "plt.xlabel('Number of clusters')\n",
        "plt.ylabel('WCSS')\n",
        "plt.show()"
      ],
      "metadata": {
        "colab": {
          "base_uri": "https://localhost:8080/",
          "height": 295
        },
        "id": "Poah5rPeoB_x",
        "outputId": "528b73b9-7dff-4719-f619-0a986781cb9f"
      },
      "execution_count": 40,
      "outputs": [
        {
          "output_type": "display_data",
          "data": {
            "text/plain": [
              "<Figure size 432x288 with 1 Axes>"
            ],
            "image/png": "[encoded data removed]"
          },
          "metadata": {
            "needs_background": "light"
          }
        }
      ]
    },
    {
      "cell_type": "markdown",
      "source": [
        "FROM GRAPH, OPTIMAL NUMBER OF CLUSTERS IS 3"
      ],
      "metadata": {
        "id": "zeCWPzYZpGjX"
      }
    },
    {
      "cell_type": "code",
      "source": [
        "#Training the K Means on the data.\n",
        "kmeans = KMeans(n_clusters = 3, init = 'k-means++', random_state = 42)\n",
        "#42 is superstition haha, no particular reasons\n",
        "y_kmeans = kmeans.fit_predict(X)\n",
        "#No need to split data into train and test\n",
        "print(y_kmeans)\n",
        "print(len(y_kmeans))"
      ],
      "metadata": {
        "colab": {
          "base_uri": "https://localhost:8080/"
        },
        "id": "w2ViMSDfpRUv",
        "outputId": "b18571f3-801e-426b-fe36-555e748a6643"
      },
      "execution_count": 41,
      "outputs": [
        {
          "output_type": "stream",
          "name": "stdout",
          "text": [
            "[2 1 0 ... 2 2 0]\n",
            "1987\n"
          ]
        }
      ]
    },
    {
      "cell_type": "code",
      "source": [
        "plt.scatter(X[y_kmeans == 0, 0], X[y_kmeans == 0, 1], s = 10, c = 'red', label = 'Cluster 1')\n",
        "plt.scatter(X[y_kmeans == 1, 0], X[y_kmeans == 1, 1], s = 10, c = 'blue', label = 'Cluster 2')\n",
        "plt.scatter(X[y_kmeans == 2, 0], X[y_kmeans == 2, 1], s = 10, c = 'magenta', label = 'Cluster 3')\n",
        "plt.scatter(kmeans.cluster_centers_[:, 0], kmeans.cluster_centers_[:, 1], s = 200, c = 'yellow', label = 'Centroids')\n",
        "plt.title('Clusters of customers')\n",
        "plt.xlabel('Annual income relative to threshold ($)')\n",
        "plt.ylabel('Number of family members')\n",
        "plt.legend()\n",
        "plt.show()"
      ],
      "metadata": {
        "colab": {
          "base_uri": "https://localhost:8080/",
          "height": 295
        },
        "id": "Lp50U2p4qa-O",
        "outputId": "66c79a5c-a3a0-445c-c999-51b32d55a7cb"
      },
      "execution_count": 42,
      "outputs": [
        {
          "output_type": "display_data",
          "data": {
            "text/plain": [
              "<Figure size 432x288 with 1 Axes>"
            ],
            "image/png": "[encoded data removed]"
          },
          "metadata": {
            "needs_background": "light"
          }
        }
      ]
    },
    {
      "cell_type": "markdown",
      "source": [
        "SHOWING ALTERNATIVE VISUALISATION WITH HIERARCHICAL CLUSTERING"
      ],
      "metadata": {
        "id": "dHkAOfyHtwjq"
      }
    },
    {
      "cell_type": "code",
      "source": [
        "# Using the dendrogram to find the optimal number of clusters\n",
        "import scipy.cluster.hierarchy as sch\n",
        "dendrogram = sch.dendrogram(sch.linkage(X, method = 'ward'))\n",
        "plt.title('Dendrogram')\n",
        "plt.xlabel('Customers')\n",
        "plt.xticks([])\n",
        "plt.ylabel('Euclidean distances')\n",
        "plt.show()"
      ],
      "metadata": {
        "colab": {
          "base_uri": "https://localhost:8080/",
          "height": 278
        },
        "id": "m-Y02CN1uBJ6",
        "outputId": "ec472373-10f9-4f2f-834f-8bac7ff4b9d1"
      },
      "execution_count": 43,
      "outputs": [
        {
          "output_type": "display_data",
          "data": {
            "text/plain": [
              "<Figure size 432x288 with 1 Axes>"
            ],
            "image/png": "[encoded data removed]"
          },
          "metadata": {
            "needs_background": "light"
          }
        }
      ]
    },
    {
      "cell_type": "code",
      "source": [
        "# Training the Hierarchical Clustering model on the dataset\n",
        "from sklearn.cluster import AgglomerativeClustering\n",
        "hc = AgglomerativeClustering(n_clusters = 3, affinity = 'euclidean', linkage = 'ward')\n",
        "y_hc = hc.fit_predict(X)\n",
        "\n",
        "plt.scatter(X[y_hc == 0, 0], X[y_hc == 0, 1], s = 10, c = 'red', label = 'Cluster 1')\n",
        "plt.scatter(X[y_hc == 1, 0], X[y_hc == 1, 1], s = 10, c = 'blue', label = 'Cluster 2')\n",
        "plt.scatter(X[y_hc == 2, 0], X[y_hc == 2, 1], s = 10, c = 'magenta', label = 'Cluster 3')\n",
        "plt.scatter(kmeans.cluster_centers_[:, 0], kmeans.cluster_centers_[:, 1], s = 200, c = 'yellow', label = 'Centroids')\n",
        "plt.title('Clusters of customers')\n",
        "plt.xlabel('Annual income relative to threshold ($)')\n",
        "plt.ylabel('Number of family members')\n",
        "plt.legend()\n",
        "plt.show()"
      ],
      "metadata": {
        "colab": {
          "base_uri": "https://localhost:8080/",
          "height": 295
        },
        "id": "JapT4tSGuZER",
        "outputId": "aa28de0d-c225-4479-80bb-ab5f2a18e485"
      },
      "execution_count": 44,
      "outputs": [
        {
          "output_type": "display_data",
          "data": {
            "text/plain": [
              "<Figure size 432x288 with 1 Axes>"
            ],
            "image/png": "[encoded data removed]"
          },
          "metadata": {
            "needs_background": "light"
          }
        }
      ]
    }
  ]
}